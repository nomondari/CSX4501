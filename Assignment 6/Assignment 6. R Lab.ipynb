{
 "cells": [
  {
   "cell_type": "code",
   "execution_count": 2,
   "id": "735de29b",
   "metadata": {},
   "outputs": [],
   "source": [
    "library(dplyr)"
   ]
  },
  {
   "cell_type": "code",
   "execution_count": null,
   "id": "d5d59f8e",
   "metadata": {},
   "outputs": [],
   "source": [
    "# 2.3 R Lab"
   ]
  },
  {
   "cell_type": "code",
   "execution_count": 35,
   "id": "5e903cde",
   "metadata": {},
   "outputs": [
    {
     "data": {
      "text/html": [
       "<ol class=list-inline>\n",
       "\t<li>1</li>\n",
       "\t<li>3</li>\n",
       "\t<li>2</li>\n",
       "\t<li>5</li>\n",
       "</ol>\n"
      ],
      "text/latex": [
       "\\begin{enumerate*}\n",
       "\\item 1\n",
       "\\item 3\n",
       "\\item 2\n",
       "\\item 5\n",
       "\\end{enumerate*}\n"
      ],
      "text/markdown": [
       "1. 1\n",
       "2. 3\n",
       "3. 2\n",
       "4. 5\n",
       "\n",
       "\n"
      ],
      "text/plain": [
       "[1] 1 3 2 5"
      ]
     },
     "metadata": {},
     "output_type": "display_data"
    }
   ],
   "source": [
    "# 2.3.1 Basic Commands\n",
    "\n",
    "x <- c(1, 3, 2, 5)\n",
    "x\n",
    "y= c(1, 4, 3)"
   ]
  },
  {
   "cell_type": "code",
   "execution_count": 36,
   "id": "a9e02375",
   "metadata": {},
   "outputs": [
    {
     "data": {
      "text/html": [
       "<ol class=list-inline>\n",
       "\t<li>1</li>\n",
       "\t<li>6</li>\n",
       "\t<li>2</li>\n",
       "</ol>\n"
      ],
      "text/latex": [
       "\\begin{enumerate*}\n",
       "\\item 1\n",
       "\\item 6\n",
       "\\item 2\n",
       "\\end{enumerate*}\n"
      ],
      "text/markdown": [
       "1. 1\n",
       "2. 6\n",
       "3. 2\n",
       "\n",
       "\n"
      ],
      "text/plain": [
       "[1] 1 6 2"
      ]
     },
     "metadata": {},
     "output_type": "display_data"
    }
   ],
   "source": [
    "x = c(1, 6, 2)\n",
    " x"
   ]
  },
  {
   "cell_type": "code",
   "execution_count": 37,
   "id": "8b50f9b9",
   "metadata": {},
   "outputs": [
    {
     "data": {
      "text/html": [
       "3"
      ],
      "text/latex": [
       "3"
      ],
      "text/markdown": [
       "3"
      ],
      "text/plain": [
       "[1] 3"
      ]
     },
     "metadata": {},
     "output_type": "display_data"
    },
    {
     "data": {
      "text/html": [
       "3"
      ],
      "text/latex": [
       "3"
      ],
      "text/markdown": [
       "3"
      ],
      "text/plain": [
       "[1] 3"
      ]
     },
     "metadata": {},
     "output_type": "display_data"
    },
    {
     "data": {
      "text/html": [
       "<ol class=list-inline>\n",
       "\t<li>2</li>\n",
       "\t<li>10</li>\n",
       "\t<li>5</li>\n",
       "</ol>\n"
      ],
      "text/latex": [
       "\\begin{enumerate*}\n",
       "\\item 2\n",
       "\\item 10\n",
       "\\item 5\n",
       "\\end{enumerate*}\n"
      ],
      "text/markdown": [
       "1. 2\n",
       "2. 10\n",
       "3. 5\n",
       "\n",
       "\n"
      ],
      "text/plain": [
       "[1]  2 10  5"
      ]
     },
     "metadata": {},
     "output_type": "display_data"
    }
   ],
   "source": [
    "length (x)\n",
    "length (y)\n",
    "x+y"
   ]
  },
  {
   "cell_type": "code",
   "execution_count": 38,
   "id": "72108c35",
   "metadata": {},
   "outputs": [
    {
     "data": {
      "text/html": [
       "<ol class=list-inline>\n",
       "\t<li>'bearsdata'</li>\n",
       "\t<li>'emissionsCO2'</li>\n",
       "\t<li>'emissionsCO2_ordered'</li>\n",
       "\t<li>'foods'</li>\n",
       "\t<li>'irisdata'</li>\n",
       "\t<li>'j'</li>\n",
       "\t<li>'mydata'</li>\n",
       "\t<li>'mynewdata'</li>\n",
       "\t<li>'var1'</li>\n",
       "\t<li>'var2'</li>\n",
       "\t<li>'var3'</li>\n",
       "\t<li>'var4'</li>\n",
       "\t<li>'x'</li>\n",
       "\t<li>'y'</li>\n",
       "</ol>\n"
      ],
      "text/latex": [
       "\\begin{enumerate*}\n",
       "\\item 'bearsdata'\n",
       "\\item 'emissionsCO2'\n",
       "\\item 'emissionsCO2\\_ordered'\n",
       "\\item 'foods'\n",
       "\\item 'irisdata'\n",
       "\\item 'j'\n",
       "\\item 'mydata'\n",
       "\\item 'mynewdata'\n",
       "\\item 'var1'\n",
       "\\item 'var2'\n",
       "\\item 'var3'\n",
       "\\item 'var4'\n",
       "\\item 'x'\n",
       "\\item 'y'\n",
       "\\end{enumerate*}\n"
      ],
      "text/markdown": [
       "1. 'bearsdata'\n",
       "2. 'emissionsCO2'\n",
       "3. 'emissionsCO2_ordered'\n",
       "4. 'foods'\n",
       "5. 'irisdata'\n",
       "6. 'j'\n",
       "7. 'mydata'\n",
       "8. 'mynewdata'\n",
       "9. 'var1'\n",
       "10. 'var2'\n",
       "11. 'var3'\n",
       "12. 'var4'\n",
       "13. 'x'\n",
       "14. 'y'\n",
       "\n",
       "\n"
      ],
      "text/plain": [
       " [1] \"bearsdata\"            \"emissionsCO2\"         \"emissionsCO2_ordered\"\n",
       " [4] \"foods\"                \"irisdata\"             \"j\"                   \n",
       " [7] \"mydata\"               \"mynewdata\"            \"var1\"                \n",
       "[10] \"var2\"                 \"var3\"                 \"var4\"                \n",
       "[13] \"x\"                    \"y\"                   "
      ]
     },
     "metadata": {},
     "output_type": "display_data"
    }
   ],
   "source": [
    "# look at a list of all of the objects, such as data and functions\n",
    "ls ()"
   ]
  },
  {
   "cell_type": "code",
   "execution_count": 39,
   "id": "f860fff2",
   "metadata": {},
   "outputs": [
    {
     "data": {
      "text/html": [
       "<ol class=list-inline>\n",
       "\t<li>'bearsdata'</li>\n",
       "\t<li>'emissionsCO2'</li>\n",
       "\t<li>'emissionsCO2_ordered'</li>\n",
       "\t<li>'foods'</li>\n",
       "\t<li>'irisdata'</li>\n",
       "\t<li>'j'</li>\n",
       "\t<li>'mydata'</li>\n",
       "\t<li>'mynewdata'</li>\n",
       "\t<li>'var1'</li>\n",
       "\t<li>'var2'</li>\n",
       "\t<li>'var3'</li>\n",
       "\t<li>'var4'</li>\n",
       "</ol>\n"
      ],
      "text/latex": [
       "\\begin{enumerate*}\n",
       "\\item 'bearsdata'\n",
       "\\item 'emissionsCO2'\n",
       "\\item 'emissionsCO2\\_ordered'\n",
       "\\item 'foods'\n",
       "\\item 'irisdata'\n",
       "\\item 'j'\n",
       "\\item 'mydata'\n",
       "\\item 'mynewdata'\n",
       "\\item 'var1'\n",
       "\\item 'var2'\n",
       "\\item 'var3'\n",
       "\\item 'var4'\n",
       "\\end{enumerate*}\n"
      ],
      "text/markdown": [
       "1. 'bearsdata'\n",
       "2. 'emissionsCO2'\n",
       "3. 'emissionsCO2_ordered'\n",
       "4. 'foods'\n",
       "5. 'irisdata'\n",
       "6. 'j'\n",
       "7. 'mydata'\n",
       "8. 'mynewdata'\n",
       "9. 'var1'\n",
       "10. 'var2'\n",
       "11. 'var3'\n",
       "12. 'var4'\n",
       "\n",
       "\n"
      ],
      "text/plain": [
       " [1] \"bearsdata\"            \"emissionsCO2\"         \"emissionsCO2_ordered\"\n",
       " [4] \"foods\"                \"irisdata\"             \"j\"                   \n",
       " [7] \"mydata\"               \"mynewdata\"            \"var1\"                \n",
       "[10] \"var2\"                 \"var3\"                 \"var4\"                "
      ]
     },
     "metadata": {},
     "output_type": "display_data"
    },
    {
     "data": {
      "text/html": [],
      "text/latex": [],
      "text/markdown": [],
      "text/plain": [
       "character(0)"
      ]
     },
     "metadata": {},
     "output_type": "display_data"
    }
   ],
   "source": [
    "# delete any that we don’t want\n",
    "rm(x,y)\n",
    "ls ()\n",
    "character(0)"
   ]
  },
  {
   "cell_type": "code",
   "execution_count": 41,
   "id": "b38bfd14",
   "metadata": {},
   "outputs": [],
   "source": [
    "# remove all objects at once\n",
    "rm(list = ls ())"
   ]
  },
  {
   "cell_type": "code",
   "execution_count": 42,
   "id": "1e7d62a9",
   "metadata": {},
   "outputs": [],
   "source": [
    "# learn more about matrix /create a matrix of numbers\n",
    "?matrix"
   ]
  },
  {
   "cell_type": "code",
   "execution_count": 43,
   "id": "df0f37d9",
   "metadata": {},
   "outputs": [
    {
     "data": {
      "text/html": [
       "<table>\n",
       "<tbody>\n",
       "\t<tr><td>1</td><td>3</td></tr>\n",
       "\t<tr><td>2</td><td>4</td></tr>\n",
       "</tbody>\n",
       "</table>\n"
      ],
      "text/latex": [
       "\\begin{tabular}{ll}\n",
       "\t 1 & 3\\\\\n",
       "\t 2 & 4\\\\\n",
       "\\end{tabular}\n"
      ],
      "text/markdown": [
       "\n",
       "| 1 | 3 |\n",
       "| 2 | 4 |\n",
       "\n"
      ],
      "text/plain": [
       "     [,1] [,2]\n",
       "[1,] 1    3   \n",
       "[2,] 2    4   "
      ]
     },
     "metadata": {},
     "output_type": "display_data"
    }
   ],
   "source": [
    "# create simple matrix\n",
    "x <- matrix (data = c(1, 2, 3, 4), nrow = 2, ncol = 2)\n",
    "x"
   ]
  },
  {
   "cell_type": "code",
   "execution_count": 44,
   "id": "dffc8fe7",
   "metadata": {},
   "outputs": [],
   "source": [
    "# omitting typing data=, nrow=, and ncol= i\n",
    "x <- matrix (c(1, 2, 3, 4), 2, 2)"
   ]
  },
  {
   "cell_type": "code",
   "execution_count": 47,
   "id": "6299cd00",
   "metadata": {},
   "outputs": [
    {
     "data": {
      "text/html": [
       "<table>\n",
       "<tbody>\n",
       "\t<tr><td>1</td><td>2</td></tr>\n",
       "\t<tr><td>3</td><td>4</td></tr>\n",
       "</tbody>\n",
       "</table>\n"
      ],
      "text/latex": [
       "\\begin{tabular}{ll}\n",
       "\t 1 & 2\\\\\n",
       "\t 3 & 4\\\\\n",
       "\\end{tabular}\n"
      ],
      "text/markdown": [
       "\n",
       "| 1 | 2 |\n",
       "| 3 | 4 |\n",
       "\n"
      ],
      "text/plain": [
       "     [,1] [,2]\n",
       "[1,] 1    2   \n",
       "[2,] 3    4   "
      ]
     },
     "metadata": {},
     "output_type": "display_data"
    }
   ],
   "source": [
    "# populate the matrix in order of the rows\n",
    "matrix (c(1, 2, 3, 4), 2, 2, byrow = TRUE)"
   ]
  },
  {
   "cell_type": "code",
   "execution_count": 48,
   "id": "7664ecb8",
   "metadata": {},
   "outputs": [
    {
     "data": {
      "text/html": [
       "<table>\n",
       "<tbody>\n",
       "\t<tr><td>1.000000</td><td>1.732051</td></tr>\n",
       "\t<tr><td>1.414214</td><td>2.000000</td></tr>\n",
       "</tbody>\n",
       "</table>\n"
      ],
      "text/latex": [
       "\\begin{tabular}{ll}\n",
       "\t 1.000000 & 1.732051\\\\\n",
       "\t 1.414214 & 2.000000\\\\\n",
       "\\end{tabular}\n"
      ],
      "text/markdown": [
       "\n",
       "| 1.000000 | 1.732051 |\n",
       "| 1.414214 | 2.000000 |\n",
       "\n"
      ],
      "text/plain": [
       "     [,1]     [,2]    \n",
       "[1,] 1.000000 1.732051\n",
       "[2,] 1.414214 2.000000"
      ]
     },
     "metadata": {},
     "output_type": "display_data"
    }
   ],
   "source": [
    "# returns the square root of each sqrt() element of a vector or matrix\n",
    "sqrt (x)"
   ]
  },
  {
   "cell_type": "code",
   "execution_count": 49,
   "id": "8375dafd",
   "metadata": {},
   "outputs": [
    {
     "data": {
      "text/html": [
       "<table>\n",
       "<tbody>\n",
       "\t<tr><td>1 </td><td> 9</td></tr>\n",
       "\t<tr><td>4 </td><td>16</td></tr>\n",
       "</tbody>\n",
       "</table>\n"
      ],
      "text/latex": [
       "\\begin{tabular}{ll}\n",
       "\t 1  &  9\\\\\n",
       "\t 4  & 16\\\\\n",
       "\\end{tabular}\n"
      ],
      "text/markdown": [
       "\n",
       "| 1  |  9 |\n",
       "| 4  | 16 |\n",
       "\n"
      ],
      "text/plain": [
       "     [,1] [,2]\n",
       "[1,] 1     9  \n",
       "[2,] 4    16  "
      ]
     },
     "metadata": {},
     "output_type": "display_data"
    }
   ],
   "source": [
    "# raises each element of x to the power 2\n",
    "x^2"
   ]
  },
  {
   "cell_type": "code",
   "execution_count": 51,
   "id": "7caff1e3",
   "metadata": {},
   "outputs": [],
   "source": [
    "# generates a vector of random normal variables, rnorm() with first argument n the sample size\n",
    "# each time we call this function, we will get a different answer. \n",
    "x <- rnorm (50)\n",
    "y <- x + rnorm (50, mean = 50, sd = .1)"
   ]
  },
  {
   "cell_type": "code",
   "execution_count": 52,
   "id": "5baee7eb",
   "metadata": {},
   "outputs": [
    {
     "data": {
      "text/html": [
       "0.994177532153541"
      ],
      "text/latex": [
       "0.994177532153541"
      ],
      "text/markdown": [
       "0.994177532153541"
      ],
      "text/plain": [
       "[1] 0.9941775"
      ]
     },
     "metadata": {},
     "output_type": "display_data"
    }
   ],
   "source": [
    "# compute the correlation between x and y\n",
    "cor (x, y)"
   ]
  },
  {
   "cell_type": "code",
   "execution_count": 56,
   "id": "8e2a28f8",
   "metadata": {},
   "outputs": [
    {
     "data": {
      "text/html": [
       "<ol class=list-inline>\n",
       "\t<li>-1.14397631447974</li>\n",
       "\t<li>1.34212936561501</li>\n",
       "\t<li>2.18539047574276</li>\n",
       "\t<li>0.536392517923731</li>\n",
       "\t<li>0.0631929664685468</li>\n",
       "\t<li>0.502234482468979</li>\n",
       "\t<li>-0.000416724686432643</li>\n",
       "\t<li>0.565819840539162</li>\n",
       "\t<li>-0.572522688962623</li>\n",
       "\t<li>-1.11022500727696</li>\n",
       "\t<li>-0.0486871233624514</li>\n",
       "\t<li>-0.695656217619366</li>\n",
       "\t<li>0.828917480303335</li>\n",
       "\t<li>0.206652855081802</li>\n",
       "\t<li>-0.235674509102427</li>\n",
       "\t<li>-0.556310491381104</li>\n",
       "\t<li>-0.364754357080585</li>\n",
       "\t<li>0.862355034263622</li>\n",
       "\t<li>-0.63077153536771</li>\n",
       "\t<li>0.313602125215739</li>\n",
       "\t<li>-0.931495317661393</li>\n",
       "\t<li>0.823867618473952</li>\n",
       "\t<li>0.523370702077482</li>\n",
       "\t<li>0.706921411979056</li>\n",
       "\t<li>0.420204325601679</li>\n",
       "\t<li>-0.269052154682033</li>\n",
       "\t<li>-1.51031729990999</li>\n",
       "\t<li>-0.69021247657504</li>\n",
       "\t<li>-0.143471952443572</li>\n",
       "\t<li>-1.0135274099044</li>\n",
       "\t<li>1.57327373614751</li>\n",
       "\t<li>0.0127465054882014</li>\n",
       "\t<li>0.872647049887217</li>\n",
       "\t<li>0.422066190530336</li>\n",
       "\t<li>-0.0188157916578866</li>\n",
       "\t<li>2.61574896890584</li>\n",
       "\t<li>-0.693140174826871</li>\n",
       "\t<li>-0.266321780991085</li>\n",
       "\t<li>-0.720636441231524</li>\n",
       "\t<li>1.36773420645149</li>\n",
       "\t<li>0.264007332160512</li>\n",
       "\t<li>0.632186807367191</li>\n",
       "\t<li>-1.33065098578719</li>\n",
       "\t<li>0.0268888182209596</li>\n",
       "\t<li>1.0406363207788</li>\n",
       "\t<li>1.31202379854711</li>\n",
       "\t<li>-0.0300020766733214</li>\n",
       "\t<li>-0.250025712488174</li>\n",
       "\t<li>0.0234144856913592</li>\n",
       "\t<li>1.65987065574227</li>\n",
       "</ol>\n"
      ],
      "text/latex": [
       "\\begin{enumerate*}\n",
       "\\item -1.14397631447974\n",
       "\\item 1.34212936561501\n",
       "\\item 2.18539047574276\n",
       "\\item 0.536392517923731\n",
       "\\item 0.0631929664685468\n",
       "\\item 0.502234482468979\n",
       "\\item -0.000416724686432643\n",
       "\\item 0.565819840539162\n",
       "\\item -0.572522688962623\n",
       "\\item -1.11022500727696\n",
       "\\item -0.0486871233624514\n",
       "\\item -0.695656217619366\n",
       "\\item 0.828917480303335\n",
       "\\item 0.206652855081802\n",
       "\\item -0.235674509102427\n",
       "\\item -0.556310491381104\n",
       "\\item -0.364754357080585\n",
       "\\item 0.862355034263622\n",
       "\\item -0.63077153536771\n",
       "\\item 0.313602125215739\n",
       "\\item -0.931495317661393\n",
       "\\item 0.823867618473952\n",
       "\\item 0.523370702077482\n",
       "\\item 0.706921411979056\n",
       "\\item 0.420204325601679\n",
       "\\item -0.269052154682033\n",
       "\\item -1.51031729990999\n",
       "\\item -0.69021247657504\n",
       "\\item -0.143471952443572\n",
       "\\item -1.0135274099044\n",
       "\\item 1.57327373614751\n",
       "\\item 0.0127465054882014\n",
       "\\item 0.872647049887217\n",
       "\\item 0.422066190530336\n",
       "\\item -0.0188157916578866\n",
       "\\item 2.61574896890584\n",
       "\\item -0.693140174826871\n",
       "\\item -0.266321780991085\n",
       "\\item -0.720636441231524\n",
       "\\item 1.36773420645149\n",
       "\\item 0.264007332160512\n",
       "\\item 0.632186807367191\n",
       "\\item -1.33065098578719\n",
       "\\item 0.0268888182209596\n",
       "\\item 1.0406363207788\n",
       "\\item 1.31202379854711\n",
       "\\item -0.0300020766733214\n",
       "\\item -0.250025712488174\n",
       "\\item 0.0234144856913592\n",
       "\\item 1.65987065574227\n",
       "\\end{enumerate*}\n"
      ],
      "text/markdown": [
       "1. -1.14397631447974\n",
       "2. 1.34212936561501\n",
       "3. 2.18539047574276\n",
       "4. 0.536392517923731\n",
       "5. 0.0631929664685468\n",
       "6. 0.502234482468979\n",
       "7. -0.000416724686432643\n",
       "8. 0.565819840539162\n",
       "9. -0.572522688962623\n",
       "10. -1.11022500727696\n",
       "11. -0.0486871233624514\n",
       "12. -0.695656217619366\n",
       "13. 0.828917480303335\n",
       "14. 0.206652855081802\n",
       "15. -0.235674509102427\n",
       "16. -0.556310491381104\n",
       "17. -0.364754357080585\n",
       "18. 0.862355034263622\n",
       "19. -0.63077153536771\n",
       "20. 0.313602125215739\n",
       "21. -0.931495317661393\n",
       "22. 0.823867618473952\n",
       "23. 0.523370702077482\n",
       "24. 0.706921411979056\n",
       "25. 0.420204325601679\n",
       "26. -0.269052154682033\n",
       "27. -1.51031729990999\n",
       "28. -0.69021247657504\n",
       "29. -0.143471952443572\n",
       "30. -1.0135274099044\n",
       "31. 1.57327373614751\n",
       "32. 0.0127465054882014\n",
       "33. 0.872647049887217\n",
       "34. 0.422066190530336\n",
       "35. -0.0188157916578866\n",
       "36. 2.61574896890584\n",
       "37. -0.693140174826871\n",
       "38. -0.266321780991085\n",
       "39. -0.720636441231524\n",
       "40. 1.36773420645149\n",
       "41. 0.264007332160512\n",
       "42. 0.632186807367191\n",
       "43. -1.33065098578719\n",
       "44. 0.0268888182209596\n",
       "45. 1.0406363207788\n",
       "46. 1.31202379854711\n",
       "47. -0.0300020766733214\n",
       "48. -0.250025712488174\n",
       "49. 0.0234144856913592\n",
       "50. 1.65987065574227\n",
       "\n",
       "\n"
      ],
      "text/plain": [
       " [1] -1.1439763145  1.3421293656  2.1853904757  0.5363925179  0.0631929665\n",
       " [6]  0.5022344825 -0.0004167247  0.5658198405 -0.5725226890 -1.1102250073\n",
       "[11] -0.0486871234 -0.6956562176  0.8289174803  0.2066528551 -0.2356745091\n",
       "[16] -0.5563104914 -0.3647543571  0.8623550343 -0.6307715354  0.3136021252\n",
       "[21] -0.9314953177  0.8238676185  0.5233707021  0.7069214120  0.4202043256\n",
       "[26] -0.2690521547 -1.5103172999 -0.6902124766 -0.1434719524 -1.0135274099\n",
       "[31]  1.5732737361  0.0127465055  0.8726470499  0.4220661905 -0.0188157917\n",
       "[36]  2.6157489689 -0.6931401748 -0.2663217810 -0.7206364412  1.3677342065\n",
       "[41]  0.2640073322  0.6321868074 -1.3306509858  0.0268888182  1.0406363208\n",
       "[46]  1.3120237985 -0.0300020767 -0.2500257125  0.0234144857  1.6598706557"
      ]
     },
     "metadata": {},
     "output_type": "display_data"
    }
   ],
   "source": [
    "# reproduce the exact same set of random numbers; takes an (arbitrary) integer argument\n",
    "set.seed (1303)\n",
    "#creates standard normal random variables with a mean of 0 and a standard deviation of 1\n",
    "rnorm (50)"
   ]
  },
  {
   "cell_type": "code",
   "execution_count": 58,
   "id": "42dcafcf",
   "metadata": {},
   "outputs": [
    {
     "data": {
      "text/html": [
       "0.0110355710943715"
      ],
      "text/latex": [
       "0.0110355710943715"
      ],
      "text/markdown": [
       "0.0110355710943715"
      ],
      "text/plain": [
       "[1] 0.01103557"
      ]
     },
     "metadata": {},
     "output_type": "display_data"
    },
    {
     "data": {
      "text/html": [
       "0.732867501277449"
      ],
      "text/latex": [
       "0.732867501277449"
      ],
      "text/markdown": [
       "0.732867501277449"
      ],
      "text/plain": [
       "[1] 0.7328675"
      ]
     },
     "metadata": {},
     "output_type": "display_data"
    },
    {
     "data": {
      "text/html": [
       "0.856076808047881"
      ],
      "text/latex": [
       "0.856076808047881"
      ],
      "text/markdown": [
       "0.856076808047881"
      ],
      "text/plain": [
       "[1] 0.8560768"
      ]
     },
     "metadata": {},
     "output_type": "display_data"
    },
    {
     "data": {
      "text/html": [
       "0.856076808047881"
      ],
      "text/latex": [
       "0.856076808047881"
      ],
      "text/markdown": [
       "0.856076808047881"
      ],
      "text/plain": [
       "[1] 0.8560768"
      ]
     },
     "metadata": {},
     "output_type": "display_data"
    }
   ],
   "source": [
    "set.seed (3)\n",
    "y <- rnorm (100)\n",
    "\n",
    "# compute the mean and variance of a vector of numbers\n",
    "mean (y)\n",
    "var (y)\n",
    "\n",
    "# compute the standard deviation in 2 ways\n",
    "sqrt ( var (y))\n",
    "sd(y)"
   ]
  },
  {
   "cell_type": "code",
   "execution_count": null,
   "id": "05a39f11",
   "metadata": {},
   "outputs": [],
   "source": [
    "# 2.3.2 Graphics"
   ]
  },
  {
   "cell_type": "code",
   "execution_count": 59,
   "id": "37877e75",
   "metadata": {},
   "outputs": [
    {
     "data": {
      "image/png": "[encoded data removed]",
      "text/plain": [
       "plot without title"
      ]
     },
     "metadata": {},
     "output_type": "display_data"
    },
    {
     "data": {
      "image/png": "[encoded data removed]",
      "text/plain": [
       "Plot with title \" Plot of X vs Y\""
      ]
     },
     "metadata": {},
     "output_type": "display_data"
    }
   ],
   "source": [
    "# plot(): the primary way to plot data in R\n",
    "x <- rnorm (100)\n",
    "y <- rnorm (100)\n",
    "plot (x, y)\n",
    "plot (x, y, xlab = \" this is the x- axis \",\n",
    "ylab = \" this is the y- axis \",\n",
    "main = \" Plot of X vs Y\")"
   ]
  },
  {
   "cell_type": "code",
   "execution_count": 63,
   "id": "da37e2d2",
   "metadata": {},
   "outputs": [
    {
     "data": {
      "text/html": [
       "<strong>png:</strong> 2"
      ],
      "text/latex": [
       "\\textbf{png:} 2"
      ],
      "text/markdown": [
       "**png:** 2"
      ],
      "text/plain": [
       "png \n",
       "  2 "
      ]
     },
     "metadata": {},
     "output_type": "display_data"
    }
   ],
   "source": [
    "# save the output of an R plot by creating pdf\n",
    "pdf (\"Figure.pdf \")\n",
    "plot (x, y, col = \" green \")\n",
    "\n",
    "# indicates to R that we are done creating the plot\n",
    "dev.off ()"
   ]
  },
  {
   "cell_type": "code",
   "execution_count": 70,
   "id": "4b11edcb",
   "metadata": {},
   "outputs": [
    {
     "data": {
      "text/html": [
       "<ol class=list-inline>\n",
       "\t<li>1</li>\n",
       "\t<li>2</li>\n",
       "\t<li>3</li>\n",
       "\t<li>4</li>\n",
       "\t<li>5</li>\n",
       "\t<li>6</li>\n",
       "\t<li>7</li>\n",
       "\t<li>8</li>\n",
       "\t<li>9</li>\n",
       "\t<li>10</li>\n",
       "</ol>\n"
      ],
      "text/latex": [
       "\\begin{enumerate*}\n",
       "\\item 1\n",
       "\\item 2\n",
       "\\item 3\n",
       "\\item 4\n",
       "\\item 5\n",
       "\\item 6\n",
       "\\item 7\n",
       "\\item 8\n",
       "\\item 9\n",
       "\\item 10\n",
       "\\end{enumerate*}\n"
      ],
      "text/markdown": [
       "1. 1\n",
       "2. 2\n",
       "3. 3\n",
       "4. 4\n",
       "5. 5\n",
       "6. 6\n",
       "7. 7\n",
       "8. 8\n",
       "9. 9\n",
       "10. 10\n",
       "\n",
       "\n"
      ],
      "text/plain": [
       " [1]  1  2  3  4  5  6  7  8  9 10"
      ]
     },
     "metadata": {},
     "output_type": "display_data"
    },
    {
     "data": {
      "text/html": [
       "<ol class=list-inline>\n",
       "\t<li>1</li>\n",
       "\t<li>2</li>\n",
       "\t<li>3</li>\n",
       "\t<li>4</li>\n",
       "\t<li>5</li>\n",
       "\t<li>6</li>\n",
       "\t<li>7</li>\n",
       "\t<li>8</li>\n",
       "\t<li>9</li>\n",
       "\t<li>10</li>\n",
       "</ol>\n"
      ],
      "text/latex": [
       "\\begin{enumerate*}\n",
       "\\item 1\n",
       "\\item 2\n",
       "\\item 3\n",
       "\\item 4\n",
       "\\item 5\n",
       "\\item 6\n",
       "\\item 7\n",
       "\\item 8\n",
       "\\item 9\n",
       "\\item 10\n",
       "\\end{enumerate*}\n"
      ],
      "text/markdown": [
       "1. 1\n",
       "2. 2\n",
       "3. 3\n",
       "4. 4\n",
       "5. 5\n",
       "6. 6\n",
       "7. 7\n",
       "8. 8\n",
       "9. 9\n",
       "10. 10\n",
       "\n",
       "\n"
      ],
      "text/plain": [
       " [1]  1  2  3  4  5  6  7  8  9 10"
      ]
     },
     "metadata": {},
     "output_type": "display_data"
    }
   ],
   "source": [
    "# seq(): create a sequence of numbers\n",
    "# seq(a, b) makes a vector of integers between a and b\n",
    "x <- seq (1, 10)\n",
    "x\n",
    "\n",
    "x <- 1:10\n",
    "x\n",
    "\n",
    "# makes a sequence of 50 numbers that are equally spaced between -pi and pi\n",
    "x <- seq (-pi, pi, length = 50)"
   ]
  },
  {
   "cell_type": "code",
   "execution_count": 73,
   "id": "8dbd6d65",
   "metadata": {},
   "outputs": [
    {
     "data": {
      "image/png": "[encoded data removed]",
      "text/plain": [
       "plot without title"
      ]
     },
     "metadata": {},
     "output_type": "display_data"
    }
   ],
   "source": [
    "# Produces a contour plot in order to represent three-dimensional data; contour plot it is like a topographical map.\n",
    "# It takes three arguments:\n",
    "# 1. A vector of the x values (the first dimension),\n",
    "# 2. A vector of the y values (the second dimension), and\n",
    "# 3. A matrix whose elements correspond to the z value (the third dimension) for each pair of (x, y) coordinates.\n",
    "\n",
    "y <- x\n",
    "f <- outer (x, y, function (x, y) cos (y) / (1 + x^2))\n",
    "contour (x, y, f)\n",
    "contour (x, y, f, nlevels = 45, add = T)"
   ]
  },
  {
   "cell_type": "code",
   "execution_count": 74,
   "id": "6a0bd8e4",
   "metadata": {},
   "outputs": [
    {
     "data": {
      "image/png": "[encoded data removed]",
      "text/plain": [
       "plot without title"
      ]
     },
     "metadata": {},
     "output_type": "display_data"
    }
   ],
   "source": [
    "fa <- (f - t(f)) / 2\n",
    "contour (x, y, fa, nlevels = 15)"
   ]
  },
  {
   "cell_type": "code",
   "execution_count": 76,
   "id": "c9bcb338",
   "metadata": {},
   "outputs": [
    {
     "data": {
      "image/png": "[encoded data removed]",
      "text/plain": [
       "plot without title"
      ]
     },
     "metadata": {},
     "output_type": "display_data"
    }
   ],
   "source": [
    "# works the same way as contour(),except that it produces a color-coded plot whose colors depend on the z value.\n",
    "# This is known as a heatmap, and is sometimes used to plot temperature in weather forecasts.\n",
    "image (x, y, fa)"
   ]
  },
  {
   "cell_type": "code",
   "execution_count": 77,
   "id": "bbc9be21",
   "metadata": {},
   "outputs": [
    {
     "data": {
      "image/png": "[encoded data removed]",
      "text/plain": [
       "plot without title"
      ]
     },
     "metadata": {},
     "output_type": "display_data"
    },
    {
     "data": {
      "image/png": "[encoded data removed]",
      "text/plain": [
       "plot without title"
      ]
     },
     "metadata": {},
     "output_type": "display_data"
    },
    {
     "data": {
      "image/png": "[encoded data removed]",
      "text/plain": [
       "plot without title"
      ]
     },
     "metadata": {},
     "output_type": "display_data"
    },
    {
     "data": {
      "image/png": "[encoded data removed]",
      "text/plain": [
       "plot without title"
      ]
     },
     "metadata": {},
     "output_type": "display_data"
    },
    {
     "data": {
      "image/png": "[encoded data removed]",
      "text/plain": [
       "plot without title"
      ]
     },
     "metadata": {},
     "output_type": "display_data"
    }
   ],
   "source": [
    "# Alternatively, persp() can be used to produce a three-dimensional plot. \n",
    "# The arguments theta and phi control the angles at which the plot is viewed.\n",
    "persp (x, y, fa)\n",
    "persp (x, y, fa , theta = 30)\n",
    "persp (x, y, fa , theta = 30, phi = 20)\n",
    "persp (x, y, fa , theta = 30, phi = 70)\n",
    "persp (x, y, fa , theta = 30, phi = 40)"
   ]
  },
  {
   "cell_type": "code",
   "execution_count": 78,
   "id": "19026237",
   "metadata": {},
   "outputs": [],
   "source": [
    "# 2.3.3 Indexing Data"
   ]
  },
  {
   "cell_type": "code",
   "execution_count": 79,
   "id": "7d674592",
   "metadata": {},
   "outputs": [
    {
     "data": {
      "text/html": [
       "<table>\n",
       "<tbody>\n",
       "\t<tr><td>1 </td><td>5 </td><td> 9</td><td>13</td></tr>\n",
       "\t<tr><td>2 </td><td>6 </td><td>10</td><td>14</td></tr>\n",
       "\t<tr><td>3 </td><td>7 </td><td>11</td><td>15</td></tr>\n",
       "\t<tr><td>4 </td><td>8 </td><td>12</td><td>16</td></tr>\n",
       "</tbody>\n",
       "</table>\n"
      ],
      "text/latex": [
       "\\begin{tabular}{llll}\n",
       "\t 1  & 5  &  9 & 13\\\\\n",
       "\t 2  & 6  & 10 & 14\\\\\n",
       "\t 3  & 7  & 11 & 15\\\\\n",
       "\t 4  & 8  & 12 & 16\\\\\n",
       "\\end{tabular}\n"
      ],
      "text/markdown": [
       "\n",
       "| 1  | 5  |  9 | 13 |\n",
       "| 2  | 6  | 10 | 14 |\n",
       "| 3  | 7  | 11 | 15 |\n",
       "| 4  | 8  | 12 | 16 |\n",
       "\n"
      ],
      "text/plain": [
       "     [,1] [,2] [,3] [,4]\n",
       "[1,] 1    5     9   13  \n",
       "[2,] 2    6    10   14  \n",
       "[3,] 3    7    11   15  \n",
       "[4,] 4    8    12   16  "
      ]
     },
     "metadata": {},
     "output_type": "display_data"
    }
   ],
   "source": [
    "# We often wish to examine part of a set of data. Suppose that our data is stored in the matrix A.\n",
    "A <- matrix (1:16, 4, 4)\n",
    "A"
   ]
  },
  {
   "cell_type": "code",
   "execution_count": 80,
   "id": "982c8c8e",
   "metadata": {},
   "outputs": [
    {
     "data": {
      "text/html": [
       "10"
      ],
      "text/latex": [
       "10"
      ],
      "text/markdown": [
       "10"
      ],
      "text/plain": [
       "[1] 10"
      ]
     },
     "metadata": {},
     "output_type": "display_data"
    }
   ],
   "source": [
    "# select the element corresponding to the second row and the third column\n",
    "A[2, 3]"
   ]
  },
  {
   "cell_type": "code",
   "execution_count": 82,
   "id": "a4304b29",
   "metadata": {},
   "outputs": [
    {
     "data": {
      "text/html": [
       "<table>\n",
       "<tbody>\n",
       "\t<tr><td>5 </td><td>13</td></tr>\n",
       "\t<tr><td>7 </td><td>15</td></tr>\n",
       "</tbody>\n",
       "</table>\n"
      ],
      "text/latex": [
       "\\begin{tabular}{ll}\n",
       "\t 5  & 13\\\\\n",
       "\t 7  & 15\\\\\n",
       "\\end{tabular}\n"
      ],
      "text/markdown": [
       "\n",
       "| 5  | 13 |\n",
       "| 7  | 15 |\n",
       "\n"
      ],
      "text/plain": [
       "     [,1] [,2]\n",
       "[1,] 5    13  \n",
       "[2,] 7    15  "
      ]
     },
     "metadata": {},
     "output_type": "display_data"
    },
    {
     "data": {
      "text/html": [
       "<table>\n",
       "<tbody>\n",
       "\t<tr><td>5 </td><td> 9</td><td>13</td></tr>\n",
       "\t<tr><td>6 </td><td>10</td><td>14</td></tr>\n",
       "\t<tr><td>7 </td><td>11</td><td>15</td></tr>\n",
       "</tbody>\n",
       "</table>\n"
      ],
      "text/latex": [
       "\\begin{tabular}{lll}\n",
       "\t 5  &  9 & 13\\\\\n",
       "\t 6  & 10 & 14\\\\\n",
       "\t 7  & 11 & 15\\\\\n",
       "\\end{tabular}\n"
      ],
      "text/markdown": [
       "\n",
       "| 5  |  9 | 13 |\n",
       "| 6  | 10 | 14 |\n",
       "| 7  | 11 | 15 |\n",
       "\n"
      ],
      "text/plain": [
       "     [,1] [,2] [,3]\n",
       "[1,] 5     9   13  \n",
       "[2,] 6    10   14  \n",
       "[3,] 7    11   15  "
      ]
     },
     "metadata": {},
     "output_type": "display_data"
    },
    {
     "data": {
      "text/html": [
       "<table>\n",
       "<tbody>\n",
       "\t<tr><td>1 </td><td>5 </td><td> 9</td><td>13</td></tr>\n",
       "\t<tr><td>2 </td><td>6 </td><td>10</td><td>14</td></tr>\n",
       "</tbody>\n",
       "</table>\n"
      ],
      "text/latex": [
       "\\begin{tabular}{llll}\n",
       "\t 1  & 5  &  9 & 13\\\\\n",
       "\t 2  & 6  & 10 & 14\\\\\n",
       "\\end{tabular}\n"
      ],
      "text/markdown": [
       "\n",
       "| 1  | 5  |  9 | 13 |\n",
       "| 2  | 6  | 10 | 14 |\n",
       "\n"
      ],
      "text/plain": [
       "     [,1] [,2] [,3] [,4]\n",
       "[1,] 1    5     9   13  \n",
       "[2,] 2    6    10   14  "
      ]
     },
     "metadata": {},
     "output_type": "display_data"
    },
    {
     "data": {
      "text/html": [
       "<table>\n",
       "<tbody>\n",
       "\t<tr><td>1</td><td>5</td></tr>\n",
       "\t<tr><td>2</td><td>6</td></tr>\n",
       "\t<tr><td>3</td><td>7</td></tr>\n",
       "\t<tr><td>4</td><td>8</td></tr>\n",
       "</tbody>\n",
       "</table>\n"
      ],
      "text/latex": [
       "\\begin{tabular}{ll}\n",
       "\t 1 & 5\\\\\n",
       "\t 2 & 6\\\\\n",
       "\t 3 & 7\\\\\n",
       "\t 4 & 8\\\\\n",
       "\\end{tabular}\n"
      ],
      "text/markdown": [
       "\n",
       "| 1 | 5 |\n",
       "| 2 | 6 |\n",
       "| 3 | 7 |\n",
       "| 4 | 8 |\n",
       "\n"
      ],
      "text/plain": [
       "     [,1] [,2]\n",
       "[1,] 1    5   \n",
       "[2,] 2    6   \n",
       "[3,] 3    7   \n",
       "[4,] 4    8   "
      ]
     },
     "metadata": {},
     "output_type": "display_data"
    }
   ],
   "source": [
    "# [ : always refers to the row, and the second number always refers to the column\n",
    "A[c(1, 3), c(2, 4)]\n",
    "A[1:3, 2:4]\n",
    "A[1:2, ]\n",
    "A[, 1:2]"
   ]
  },
  {
   "cell_type": "code",
   "execution_count": 83,
   "id": "450ce255",
   "metadata": {},
   "outputs": [
    {
     "data": {
      "text/html": [
       "<ol class=list-inline>\n",
       "\t<li>1</li>\n",
       "\t<li>5</li>\n",
       "\t<li>9</li>\n",
       "\t<li>13</li>\n",
       "</ol>\n"
      ],
      "text/latex": [
       "\\begin{enumerate*}\n",
       "\\item 1\n",
       "\\item 5\n",
       "\\item 9\n",
       "\\item 13\n",
       "\\end{enumerate*}\n"
      ],
      "text/markdown": [
       "1. 1\n",
       "2. 5\n",
       "3. 9\n",
       "4. 13\n",
       "\n",
       "\n"
      ],
      "text/plain": [
       "[1]  1  5  9 13"
      ]
     },
     "metadata": {},
     "output_type": "display_data"
    }
   ],
   "source": [
    "#  no index: include all columns or all columns, respectively\n",
    "A[1, ]"
   ]
  },
  {
   "cell_type": "code",
   "execution_count": 84,
   "id": "d186b6cd",
   "metadata": {},
   "outputs": [
    {
     "data": {
      "text/html": [
       "<table>\n",
       "<tbody>\n",
       "\t<tr><td>2 </td><td>6 </td><td>10</td><td>14</td></tr>\n",
       "\t<tr><td>4 </td><td>8 </td><td>12</td><td>16</td></tr>\n",
       "</tbody>\n",
       "</table>\n"
      ],
      "text/latex": [
       "\\begin{tabular}{llll}\n",
       "\t 2  & 6  & 10 & 14\\\\\n",
       "\t 4  & 8  & 12 & 16\\\\\n",
       "\\end{tabular}\n"
      ],
      "text/markdown": [
       "\n",
       "| 2  | 6  | 10 | 14 |\n",
       "| 4  | 8  | 12 | 16 |\n",
       "\n"
      ],
      "text/plain": [
       "     [,1] [,2] [,3] [,4]\n",
       "[1,] 2    6    10   14  \n",
       "[2,] 4    8    12   16  "
      ]
     },
     "metadata": {},
     "output_type": "display_data"
    }
   ],
   "source": [
    "# keep all rows or columns except those indicated in the index.\n",
    "A[-c(1, 3), ]"
   ]
  },
  {
   "cell_type": "code",
   "execution_count": 86,
   "id": "9b25f567",
   "metadata": {},
   "outputs": [
    {
     "data": {
      "text/html": [
       "<ol class=list-inline>\n",
       "\t<li>4</li>\n",
       "\t<li>4</li>\n",
       "</ol>\n"
      ],
      "text/latex": [
       "\\begin{enumerate*}\n",
       "\\item 4\n",
       "\\item 4\n",
       "\\end{enumerate*}\n"
      ],
      "text/markdown": [
       "1. 4\n",
       "2. 4\n",
       "\n",
       "\n"
      ],
      "text/plain": [
       "[1] 4 4"
      ]
     },
     "metadata": {},
     "output_type": "display_data"
    }
   ],
   "source": [
    "# outputs the number of rows followed by the number of columns of a given matrix.\n",
    "dim (A)"
   ]
  },
  {
   "cell_type": "code",
   "execution_count": 87,
   "id": "7773f632",
   "metadata": {},
   "outputs": [],
   "source": [
    "# 2.3.4 Loading Data"
   ]
  },
  {
   "cell_type": "code",
   "execution_count": 244,
   "id": "61be9aff",
   "metadata": {},
   "outputs": [
    {
     "data": {
      "text/html": [
       "<table>\n",
       "<thead><tr><th scope=col>V1</th><th scope=col>V2</th><th scope=col>V3</th><th scope=col>V4</th><th scope=col>V5</th><th scope=col>V6</th><th scope=col>V7</th><th scope=col>V8</th><th scope=col>V9</th></tr></thead>\n",
       "<tbody>\n",
       "\t<tr><td>mpg                      </td><td>cylinders                </td><td>displacement             </td><td>horsepower               </td><td>weight                   </td><td>acceleration             </td><td>year                     </td><td>origin                   </td><td>name                     </td></tr>\n",
       "\t<tr><td>18.0                     </td><td>8                        </td><td>307.0                    </td><td>130.0                    </td><td>3504.                    </td><td>12.0                     </td><td>70                       </td><td>1                        </td><td>chevrolet chevelle malibu</td></tr>\n",
       "\t<tr><td>15.0                     </td><td>8                        </td><td>350.0                    </td><td>165.0                    </td><td>3693.                    </td><td>11.5                     </td><td>70                       </td><td>1                        </td><td>buick skylark 320        </td></tr>\n",
       "\t<tr><td>18.0                     </td><td>8                        </td><td>318.0                    </td><td>150.0                    </td><td>3436.                    </td><td>11.0                     </td><td>70                       </td><td>1                        </td><td>plymouth satellite       </td></tr>\n",
       "\t<tr><td>16.0                     </td><td>8                        </td><td>304.0                    </td><td>150.0                    </td><td>3433.                    </td><td>12.0                     </td><td>70                       </td><td>1                        </td><td>amc rebel sst            </td></tr>\n",
       "\t<tr><td>17.0                     </td><td>8                        </td><td>302.0                    </td><td>140.0                    </td><td>3449.                    </td><td>10.5                     </td><td>70                       </td><td>1                        </td><td>ford torino              </td></tr>\n",
       "</tbody>\n",
       "</table>\n"
      ],
      "text/latex": [
       "\\begin{tabular}{r|lllllllll}\n",
       " V1 & V2 & V3 & V4 & V5 & V6 & V7 & V8 & V9\\\\\n",
       "\\hline\n",
       "\t mpg                       & cylinders                 & displacement              & horsepower                & weight                    & acceleration              & year                      & origin                    & name                     \\\\\n",
       "\t 18.0                      & 8                         & 307.0                     & 130.0                     & 3504.                     & 12.0                      & 70                        & 1                         & chevrolet chevelle malibu\\\\\n",
       "\t 15.0                      & 8                         & 350.0                     & 165.0                     & 3693.                     & 11.5                      & 70                        & 1                         & buick skylark 320        \\\\\n",
       "\t 18.0                      & 8                         & 318.0                     & 150.0                     & 3436.                     & 11.0                      & 70                        & 1                         & plymouth satellite       \\\\\n",
       "\t 16.0                      & 8                         & 304.0                     & 150.0                     & 3433.                     & 12.0                      & 70                        & 1                         & amc rebel sst            \\\\\n",
       "\t 17.0                      & 8                         & 302.0                     & 140.0                     & 3449.                     & 10.5                      & 70                        & 1                         & ford torino              \\\\\n",
       "\\end{tabular}\n"
      ],
      "text/markdown": [
       "\n",
       "| V1 | V2 | V3 | V4 | V5 | V6 | V7 | V8 | V9 |\n",
       "|---|---|---|---|---|---|---|---|---|\n",
       "| mpg                       | cylinders                 | displacement              | horsepower                | weight                    | acceleration              | year                      | origin                    | name                      |\n",
       "| 18.0                      | 8                         | 307.0                     | 130.0                     | 3504.                     | 12.0                      | 70                        | 1                         | chevrolet chevelle malibu |\n",
       "| 15.0                      | 8                         | 350.0                     | 165.0                     | 3693.                     | 11.5                      | 70                        | 1                         | buick skylark 320         |\n",
       "| 18.0                      | 8                         | 318.0                     | 150.0                     | 3436.                     | 11.0                      | 70                        | 1                         | plymouth satellite        |\n",
       "| 16.0                      | 8                         | 304.0                     | 150.0                     | 3433.                     | 12.0                      | 70                        | 1                         | amc rebel sst             |\n",
       "| 17.0                      | 8                         | 302.0                     | 140.0                     | 3449.                     | 10.5                      | 70                        | 1                         | ford torino               |\n",
       "\n"
      ],
      "text/plain": [
       "  V1   V2        V3           V4         V5     V6           V7   V8    \n",
       "1 mpg  cylinders displacement horsepower weight acceleration year origin\n",
       "2 18.0 8         307.0        130.0      3504.  12.0         70   1     \n",
       "3 15.0 8         350.0        165.0      3693.  11.5         70   1     \n",
       "4 18.0 8         318.0        150.0      3436.  11.0         70   1     \n",
       "5 16.0 8         304.0        150.0      3433.  12.0         70   1     \n",
       "6 17.0 8         302.0        140.0      3449.  10.5         70   1     \n",
       "  V9                       \n",
       "1 name                     \n",
       "2 chevrolet chevelle malibu\n",
       "3 buick skylark 320        \n",
       "4 plymouth satellite       \n",
       "5 amc rebel sst            \n",
       "6 ford torino              "
      ]
     },
     "metadata": {},
     "output_type": "display_data"
    }
   ],
   "source": [
    "# importing a data set into R\n",
    "Auto <- read.table (\"Auto.data\")\n",
    "head(Auto)"
   ]
  },
  {
   "cell_type": "code",
   "execution_count": 142,
   "id": "30e1d883",
   "metadata": {},
   "outputs": [],
   "source": [
    "# na.strings tells R that any time\n",
    "# it sees a particular character or set of characters (such as a question mark),\n",
    "# it should be treated as a missing element of the data matrix.\n",
    "\n",
    "# stringsAsFactors = T argument tells R that any variable containing\n",
    "# character strings should be interpreted as a qualitative variable, and that\n",
    "# each distinct character string represents a distinct level for that qualitative variable. \n",
    "Auto <- read.table (\"Auto.data\", header = T, na.strings = \"?\", stringsAsFactors = T)"
   ]
  },
  {
   "cell_type": "code",
   "execution_count": 143,
   "id": "a0be2a69",
   "metadata": {},
   "outputs": [
    {
     "data": {
      "text/html": [
       "<ol class=list-inline>\n",
       "\t<li>397</li>\n",
       "\t<li>9</li>\n",
       "</ol>\n"
      ],
      "text/latex": [
       "\\begin{enumerate*}\n",
       "\\item 397\n",
       "\\item 9\n",
       "\\end{enumerate*}\n"
      ],
      "text/markdown": [
       "1. 397\n",
       "2. 9\n",
       "\n",
       "\n"
      ],
      "text/plain": [
       "[1] 397   9"
      ]
     },
     "metadata": {},
     "output_type": "display_data"
    },
    {
     "data": {
      "text/html": [
       "<table>\n",
       "<thead><tr><th scope=col>mpg</th><th scope=col>cylinders</th><th scope=col>displacement</th><th scope=col>horsepower</th><th scope=col>weight</th><th scope=col>acceleration</th><th scope=col>year</th><th scope=col>origin</th><th scope=col>name</th></tr></thead>\n",
       "<tbody>\n",
       "\t<tr><td>18                       </td><td>8                        </td><td>307                      </td><td>130                      </td><td>3504                     </td><td>12.0                     </td><td>70                       </td><td>1                        </td><td>chevrolet chevelle malibu</td></tr>\n",
       "\t<tr><td>15                       </td><td>8                        </td><td>350                      </td><td>165                      </td><td>3693                     </td><td>11.5                     </td><td>70                       </td><td>1                        </td><td>buick skylark 320        </td></tr>\n",
       "\t<tr><td>18                       </td><td>8                        </td><td>318                      </td><td>150                      </td><td>3436                     </td><td>11.0                     </td><td>70                       </td><td>1                        </td><td>plymouth satellite       </td></tr>\n",
       "\t<tr><td>16                       </td><td>8                        </td><td>304                      </td><td>150                      </td><td>3433                     </td><td>12.0                     </td><td>70                       </td><td>1                        </td><td>amc rebel sst            </td></tr>\n",
       "</tbody>\n",
       "</table>\n"
      ],
      "text/latex": [
       "\\begin{tabular}{r|lllllllll}\n",
       " mpg & cylinders & displacement & horsepower & weight & acceleration & year & origin & name\\\\\n",
       "\\hline\n",
       "\t 18                        & 8                         & 307                       & 130                       & 3504                      & 12.0                      & 70                        & 1                         & chevrolet chevelle malibu\\\\\n",
       "\t 15                        & 8                         & 350                       & 165                       & 3693                      & 11.5                      & 70                        & 1                         & buick skylark 320        \\\\\n",
       "\t 18                        & 8                         & 318                       & 150                       & 3436                      & 11.0                      & 70                        & 1                         & plymouth satellite       \\\\\n",
       "\t 16                        & 8                         & 304                       & 150                       & 3433                      & 12.0                      & 70                        & 1                         & amc rebel sst            \\\\\n",
       "\\end{tabular}\n"
      ],
      "text/markdown": [
       "\n",
       "| mpg | cylinders | displacement | horsepower | weight | acceleration | year | origin | name |\n",
       "|---|---|---|---|---|---|---|---|---|\n",
       "| 18                        | 8                         | 307                       | 130                       | 3504                      | 12.0                      | 70                        | 1                         | chevrolet chevelle malibu |\n",
       "| 15                        | 8                         | 350                       | 165                       | 3693                      | 11.5                      | 70                        | 1                         | buick skylark 320         |\n",
       "| 18                        | 8                         | 318                       | 150                       | 3436                      | 11.0                      | 70                        | 1                         | plymouth satellite        |\n",
       "| 16                        | 8                         | 304                       | 150                       | 3433                      | 12.0                      | 70                        | 1                         | amc rebel sst             |\n",
       "\n"
      ],
      "text/plain": [
       "  mpg cylinders displacement horsepower weight acceleration year origin\n",
       "1 18  8         307          130        3504   12.0         70   1     \n",
       "2 15  8         350          165        3693   11.5         70   1     \n",
       "3 18  8         318          150        3436   11.0         70   1     \n",
       "4 16  8         304          150        3433   12.0         70   1     \n",
       "  name                     \n",
       "1 chevrolet chevelle malibu\n",
       "2 buick skylark 320        \n",
       "3 plymouth satellite       \n",
       "4 amc rebel sst            "
      ]
     },
     "metadata": {},
     "output_type": "display_data"
    }
   ],
   "source": [
    "# data has 397 observations, or rows, and dim() nine variables, or columns\n",
    "dim (Auto)\n",
    "Auto[1:4, ]"
   ]
  },
  {
   "cell_type": "code",
   "execution_count": 144,
   "id": "e88bee00",
   "metadata": {},
   "outputs": [
    {
     "ename": "ERROR",
     "evalue": "Error in parse(text = x, srcfile = src): <text>:2:13: unexpected symbol\n1: # simply remove rows which contain missing observations\n2: Auto <- na. omit\n               ^\n",
     "output_type": "error",
     "traceback": [
      "Error in parse(text = x, srcfile = src): <text>:2:13: unexpected symbol\n1: # simply remove rows which contain missing observations\n2: Auto <- na. omit\n               ^\nTraceback:\n"
     ]
    }
   ],
   "source": [
    "# simply remove rows which contain missing observations\n",
    "Auto <- na. omit (Auto)\n",
    "dim (Auto)"
   ]
  },
  {
   "cell_type": "code",
   "execution_count": 145,
   "id": "b567a0b5",
   "metadata": {},
   "outputs": [
    {
     "data": {
      "text/html": [
       "<ol class=list-inline>\n",
       "\t<li>'mpg'</li>\n",
       "\t<li>'cylinders'</li>\n",
       "\t<li>'displacement'</li>\n",
       "\t<li>'horsepower'</li>\n",
       "\t<li>'weight'</li>\n",
       "\t<li>'acceleration'</li>\n",
       "\t<li>'year'</li>\n",
       "\t<li>'origin'</li>\n",
       "\t<li>'name'</li>\n",
       "</ol>\n"
      ],
      "text/latex": [
       "\\begin{enumerate*}\n",
       "\\item 'mpg'\n",
       "\\item 'cylinders'\n",
       "\\item 'displacement'\n",
       "\\item 'horsepower'\n",
       "\\item 'weight'\n",
       "\\item 'acceleration'\n",
       "\\item 'year'\n",
       "\\item 'origin'\n",
       "\\item 'name'\n",
       "\\end{enumerate*}\n"
      ],
      "text/markdown": [
       "1. 'mpg'\n",
       "2. 'cylinders'\n",
       "3. 'displacement'\n",
       "4. 'horsepower'\n",
       "5. 'weight'\n",
       "6. 'acceleration'\n",
       "7. 'year'\n",
       "8. 'origin'\n",
       "9. 'name'\n",
       "\n",
       "\n"
      ],
      "text/plain": [
       "[1] \"mpg\"          \"cylinders\"    \"displacement\" \"horsepower\"   \"weight\"      \n",
       "[6] \"acceleration\" \"year\"         \"origin\"       \"name\"        "
      ]
     },
     "metadata": {},
     "output_type": "display_data"
    }
   ],
   "source": [
    "names (Auto)"
   ]
  },
  {
   "cell_type": "code",
   "execution_count": 146,
   "id": "72f06b97",
   "metadata": {},
   "outputs": [],
   "source": [
    "# 2.3.5 Additional Graphical and Numerical Summaries"
   ]
  },
  {
   "cell_type": "code",
   "execution_count": 149,
   "id": "fb610a02",
   "metadata": {},
   "outputs": [
    {
     "name": "stderr",
     "output_type": "stream",
     "text": [
      "The following object is masked _by_ .GlobalEnv:\n",
      "\n",
      "    cylinders\n",
      "\n",
      "The following objects are masked from Auto (pos = 3):\n",
      "\n",
      "    acceleration, cylinders, displacement, horsepower, mpg, name,\n",
      "    origin, weight, year\n",
      "\n",
      "The following objects are masked from Auto (pos = 4):\n",
      "\n",
      "    acceleration, cylinders, displacement, horsepower, mpg, name,\n",
      "    origin, weight, year\n",
      "\n",
      "The following objects are masked from Auto (pos = 5):\n",
      "\n",
      "    acceleration, cylinders, displacement, horsepower, mpg, name,\n",
      "    origin, weight, year\n",
      "\n",
      "The following objects are masked from Auto (pos = 6):\n",
      "\n",
      "    acceleration, cylinders, displacement, horsepower, mpg, name,\n",
      "    origin, weight, year\n",
      "\n",
      "The following objects are masked from Auto (pos = 7):\n",
      "\n",
      "    acceleration, cylinders, displacement, horsepower, mpg, name,\n",
      "    origin, weight, year\n",
      "\n",
      "The following objects are masked from Auto (pos = 8):\n",
      "\n",
      "    acceleration, cylinders, displacement, horsepower, mpg, name,\n",
      "    origin, weight, year\n",
      "\n"
     ]
    },
    {
     "data": {
      "image/png": "[encoded data removed]",
      "text/plain": [
       "plot without title"
      ]
     },
     "metadata": {},
     "output_type": "display_data"
    },
    {
     "data": {
      "image/png": "[encoded data removed]",
      "text/plain": [
       "plot without title"
      ]
     },
     "metadata": {},
     "output_type": "display_data"
    }
   ],
   "source": [
    "# cylinders variable is stored as a numeric vector, so R has treated it as quantitative\n",
    "# plot() function to produce scatterplots of the quantitative variables\n",
    "plot (Auto$cylinders, Auto$mpg)\n",
    "attach (Auto)\n",
    "plot (cylinders, mpg)"
   ]
  },
  {
   "cell_type": "code",
   "execution_count": 133,
   "id": "f9c842d2",
   "metadata": {},
   "outputs": [],
   "source": [
    "# converts quantitative variables into qualitative variables.\n",
    "cylinders <- as.factor(cylinders)"
   ]
  },
  {
   "cell_type": "code",
   "execution_count": 150,
   "id": "87edfbab",
   "metadata": {},
   "outputs": [
    {
     "data": {
      "image/png": "[encoded data removed]",
      "text/plain": [
       "plot without title"
      ]
     },
     "metadata": {},
     "output_type": "display_data"
    },
    {
     "data": {
      "image/png": "[encoded data removed]",
      "text/plain": [
       "plot without title"
      ]
     },
     "metadata": {},
     "output_type": "display_data"
    },
    {
     "data": {
      "image/png": "[encoded data removed]",
      "text/plain": [
       "plot without title"
      ]
     },
     "metadata": {},
     "output_type": "display_data"
    },
    {
     "data": {
      "image/png": "[encoded data removed]",
      "text/plain": [
       "plot without title"
      ]
     },
     "metadata": {},
     "output_type": "display_data"
    },
    {
     "data": {
      "image/png": "[encoded data removed]",
      "text/plain": [
       "plot without title"
      ]
     },
     "metadata": {},
     "output_type": "display_data"
    }
   ],
   "source": [
    "# If the variable plotted on the x-axis is qualitative, then boxplots will\n",
    "# automatically be produced by the plot() function. As usual, a number\n",
    "# of options can be specified in order to customize the plots.\n",
    "plot (cylinders , mpg)\n",
    "plot (cylinders , mpg , col = \" red \")\n",
    "plot (cylinders , mpg , col = \" red \", varwidth = T)\n",
    "\n",
    "plot (cylinders , mpg , col = \" red \", varwidth = T, horizontal = T)\n",
    "plot (cylinders , mpg , col = \" red \", varwidth = T, xlab = \" cylinders \", ylab = \" MPG \")"
   ]
  },
  {
   "cell_type": "code",
   "execution_count": 151,
   "id": "154e9648",
   "metadata": {},
   "outputs": [
    {
     "data": {
      "image/png": "[encoded data removed]",
      "text/plain": [
       "Plot with title \"Histogram of mpg\""
      ]
     },
     "metadata": {},
     "output_type": "display_data"
    },
    {
     "data": {
      "image/png": "[encoded data removed]",
      "text/plain": [
       "Plot with title \"Histogram of mpg\""
      ]
     },
     "metadata": {},
     "output_type": "display_data"
    },
    {
     "data": {
      "image/png": "[encoded data removed]",
      "text/plain": [
       "Plot with title \"Histogram of mpg\""
      ]
     },
     "metadata": {},
     "output_type": "display_data"
    }
   ],
   "source": [
    "# plot a histogram  /col = 2 has the same effect as col = \"red\"/\n",
    "hist (mpg)\n",
    "hist (mpg , col = 2)\n",
    "hist (mpg , col = 2, breaks = 15)"
   ]
  },
  {
   "cell_type": "code",
   "execution_count": 162,
   "id": "901620ee",
   "metadata": {},
   "outputs": [
    {
     "data": {
      "image/png": "[encoded data removed]",
      "text/plain": [
       "plot without title"
      ]
     },
     "metadata": {},
     "output_type": "display_data"
    },
    {
     "data": {
      "image/png": "[encoded data removed]",
      "text/plain": [
       "plot without title"
      ]
     },
     "metadata": {},
     "output_type": "display_data"
    }
   ],
   "source": [
    "# creates a scatterplot matrix, i.e. a scatterplot for every\n",
    "# pair of variables. We can also produce scatterplots for just a subset of the variables.\n",
    "pairs(Auto)\n",
    "pairs (∼ \n",
    "    mpg + displacement + horsepower + weight + acceleration, data = Auto)"
   ]
  },
  {
   "cell_type": "code",
   "execution_count": 164,
   "id": "a11c1788",
   "metadata": {},
   "outputs": [
    {
     "data": {
      "text/html": [],
      "text/latex": [],
      "text/markdown": [],
      "text/plain": [
       "integer(0)"
      ]
     },
     "metadata": {},
     "output_type": "display_data"
    },
    {
     "data": {
      "image/png": "[encoded data removed]",
      "text/plain": [
       "plot without title"
      ]
     },
     "metadata": {},
     "output_type": "display_data"
    }
   ],
   "source": [
    "# identifying the value of a particular variable for points on a plot.\n",
    "# identify(): the x-axis variable, the y-axis variable, and the variable \n",
    "# whose values we would like to see printed for each point.\n",
    "plot (horsepower , mpg)\n",
    "identify (horsepower , mpg , name)"
   ]
  },
  {
   "cell_type": "code",
   "execution_count": 165,
   "id": "b9bf2893",
   "metadata": {},
   "outputs": [
    {
     "data": {
      "text/plain": [
       "       V1              V2            V3            V4            V5     \n",
       " 13.0   : 20   3        :  4   97.00  : 21   150.0  : 22   1985.  :  4  \n",
       " 14.0   : 19   4        :203   350.0  : 18   90.00  : 20   2130.  :  4  \n",
       " 18.0   : 17   5        :  3   98.00  : 18   88.00  : 19   2125.  :  3  \n",
       " 15.0   : 16   6        : 84   250.0  : 17   110.0  : 18   2155.  :  3  \n",
       " 26.0   : 14   8        :103   318.0  : 17   100.0  : 17   2265.  :  3  \n",
       " 16.0   : 13   cylinders:  1   140.0  : 16   75.00  : 14   2300.  :  3  \n",
       " (Other):299                   (Other):291   (Other):288   (Other):378  \n",
       "       V6            V7           V8                   V9     \n",
       " 14.5   : 23   73     : 40   1     :248   ford pinto    :  6  \n",
       " 15.5   : 21   78     : 36   2     : 70   amc matador   :  5  \n",
       " 14.0   : 16   76     : 34   3     : 79   ford maverick :  5  \n",
       " 16.0   : 16   75     : 30   origin:  1   toyota corolla:  5  \n",
       " 13.5   : 15   82     : 30                amc gremlin   :  4  \n",
       " 15.0   : 14   70     : 29                amc hornet    :  4  \n",
       " (Other):293   (Other):199                (Other)       :369  "
      ]
     },
     "metadata": {},
     "output_type": "display_data"
    }
   ],
   "source": [
    "# a summary of just a single variable.\n",
    "summary (Auto)"
   ]
  },
  {
   "cell_type": "code",
   "execution_count": 166,
   "id": "9dda9add",
   "metadata": {},
   "outputs": [
    {
     "data": {
      "text/plain": [
       "   Min. 1st Qu.  Median    Mean 3rd Qu.    Max. \n",
       "   9.00   17.50   23.00   23.52   29.00   46.60 "
      ]
     },
     "metadata": {},
     "output_type": "display_data"
    }
   ],
   "source": [
    "summary (mpg)"
   ]
  },
  {
   "cell_type": "code",
   "execution_count": null,
   "id": "dbbe4724",
   "metadata": {},
   "outputs": [],
   "source": []
  },
  {
   "cell_type": "code",
   "execution_count": 167,
   "id": "d5901e51",
   "metadata": {},
   "outputs": [],
   "source": [
    "# 3.6 Lab: Linear Regression"
   ]
  },
  {
   "cell_type": "code",
   "execution_count": 198,
   "id": "682d4fc6",
   "metadata": {},
   "outputs": [
    {
     "ename": "ERROR",
     "evalue": "Error in library(ISLR2): there is no package called 'ISLR2'\n",
     "output_type": "error",
     "traceback": [
      "Error in library(ISLR2): there is no package called 'ISLR2'\nTraceback:\n",
      "1. library(ISLR2)"
     ]
    }
   ],
   "source": [
    "# 3.6.1 Libraries\n",
    "library (MASS)\n",
    "library (ISLR2)"
   ]
  },
  {
   "cell_type": "code",
   "execution_count": 199,
   "id": "6fc36d73",
   "metadata": {},
   "outputs": [
    {
     "data": {
      "text/html": [
       "<table>\n",
       "<thead><tr><th scope=col>crim</th><th scope=col>zn</th><th scope=col>indus</th><th scope=col>chas</th><th scope=col>nox</th><th scope=col>rm</th><th scope=col>age</th><th scope=col>dis</th><th scope=col>rad</th><th scope=col>tax</th><th scope=col>ptratio</th><th scope=col>black</th><th scope=col>lstat</th><th scope=col>medv</th></tr></thead>\n",
       "<tbody>\n",
       "\t<tr><td>0.00632</td><td>18     </td><td>2.31   </td><td>0      </td><td>0.538  </td><td>6.575  </td><td>65.2   </td><td>4.0900 </td><td>1      </td><td>296    </td><td>15.3   </td><td>396.90 </td><td>4.98   </td><td>24.0   </td></tr>\n",
       "\t<tr><td>0.02731</td><td> 0     </td><td>7.07   </td><td>0      </td><td>0.469  </td><td>6.421  </td><td>78.9   </td><td>4.9671 </td><td>2      </td><td>242    </td><td>17.8   </td><td>396.90 </td><td>9.14   </td><td>21.6   </td></tr>\n",
       "\t<tr><td>0.02729</td><td> 0     </td><td>7.07   </td><td>0      </td><td>0.469  </td><td>7.185  </td><td>61.1   </td><td>4.9671 </td><td>2      </td><td>242    </td><td>17.8   </td><td>392.83 </td><td>4.03   </td><td>34.7   </td></tr>\n",
       "\t<tr><td>0.03237</td><td> 0     </td><td>2.18   </td><td>0      </td><td>0.458  </td><td>6.998  </td><td>45.8   </td><td>6.0622 </td><td>3      </td><td>222    </td><td>18.7   </td><td>394.63 </td><td>2.94   </td><td>33.4   </td></tr>\n",
       "\t<tr><td>0.06905</td><td> 0     </td><td>2.18   </td><td>0      </td><td>0.458  </td><td>7.147  </td><td>54.2   </td><td>6.0622 </td><td>3      </td><td>222    </td><td>18.7   </td><td>396.90 </td><td>5.33   </td><td>36.2   </td></tr>\n",
       "\t<tr><td>0.02985</td><td> 0     </td><td>2.18   </td><td>0      </td><td>0.458  </td><td>6.430  </td><td>58.7   </td><td>6.0622 </td><td>3      </td><td>222    </td><td>18.7   </td><td>394.12 </td><td>5.21   </td><td>28.7   </td></tr>\n",
       "</tbody>\n",
       "</table>\n"
      ],
      "text/latex": [
       "\\begin{tabular}{r|llllllllllllll}\n",
       " crim & zn & indus & chas & nox & rm & age & dis & rad & tax & ptratio & black & lstat & medv\\\\\n",
       "\\hline\n",
       "\t 0.00632 & 18      & 2.31    & 0       & 0.538   & 6.575   & 65.2    & 4.0900  & 1       & 296     & 15.3    & 396.90  & 4.98    & 24.0   \\\\\n",
       "\t 0.02731 &  0      & 7.07    & 0       & 0.469   & 6.421   & 78.9    & 4.9671  & 2       & 242     & 17.8    & 396.90  & 9.14    & 21.6   \\\\\n",
       "\t 0.02729 &  0      & 7.07    & 0       & 0.469   & 7.185   & 61.1    & 4.9671  & 2       & 242     & 17.8    & 392.83  & 4.03    & 34.7   \\\\\n",
       "\t 0.03237 &  0      & 2.18    & 0       & 0.458   & 6.998   & 45.8    & 6.0622  & 3       & 222     & 18.7    & 394.63  & 2.94    & 33.4   \\\\\n",
       "\t 0.06905 &  0      & 2.18    & 0       & 0.458   & 7.147   & 54.2    & 6.0622  & 3       & 222     & 18.7    & 396.90  & 5.33    & 36.2   \\\\\n",
       "\t 0.02985 &  0      & 2.18    & 0       & 0.458   & 6.430   & 58.7    & 6.0622  & 3       & 222     & 18.7    & 394.12  & 5.21    & 28.7   \\\\\n",
       "\\end{tabular}\n"
      ],
      "text/markdown": [
       "\n",
       "| crim | zn | indus | chas | nox | rm | age | dis | rad | tax | ptratio | black | lstat | medv |\n",
       "|---|---|---|---|---|---|---|---|---|---|---|---|---|---|\n",
       "| 0.00632 | 18      | 2.31    | 0       | 0.538   | 6.575   | 65.2    | 4.0900  | 1       | 296     | 15.3    | 396.90  | 4.98    | 24.0    |\n",
       "| 0.02731 |  0      | 7.07    | 0       | 0.469   | 6.421   | 78.9    | 4.9671  | 2       | 242     | 17.8    | 396.90  | 9.14    | 21.6    |\n",
       "| 0.02729 |  0      | 7.07    | 0       | 0.469   | 7.185   | 61.1    | 4.9671  | 2       | 242     | 17.8    | 392.83  | 4.03    | 34.7    |\n",
       "| 0.03237 |  0      | 2.18    | 0       | 0.458   | 6.998   | 45.8    | 6.0622  | 3       | 222     | 18.7    | 394.63  | 2.94    | 33.4    |\n",
       "| 0.06905 |  0      | 2.18    | 0       | 0.458   | 7.147   | 54.2    | 6.0622  | 3       | 222     | 18.7    | 396.90  | 5.33    | 36.2    |\n",
       "| 0.02985 |  0      | 2.18    | 0       | 0.458   | 6.430   | 58.7    | 6.0622  | 3       | 222     | 18.7    | 394.12  | 5.21    | 28.7    |\n",
       "\n"
      ],
      "text/plain": [
       "  crim    zn indus chas nox   rm    age  dis    rad tax ptratio black  lstat\n",
       "1 0.00632 18 2.31  0    0.538 6.575 65.2 4.0900 1   296 15.3    396.90 4.98 \n",
       "2 0.02731  0 7.07  0    0.469 6.421 78.9 4.9671 2   242 17.8    396.90 9.14 \n",
       "3 0.02729  0 7.07  0    0.469 7.185 61.1 4.9671 2   242 17.8    392.83 4.03 \n",
       "4 0.03237  0 2.18  0    0.458 6.998 45.8 6.0622 3   222 18.7    394.63 2.94 \n",
       "5 0.06905  0 2.18  0    0.458 7.147 54.2 6.0622 3   222 18.7    396.90 5.33 \n",
       "6 0.02985  0 2.18  0    0.458 6.430 58.7 6.0622 3   222 18.7    394.12 5.21 \n",
       "  medv\n",
       "1 24.0\n",
       "2 21.6\n",
       "3 34.7\n",
       "4 33.4\n",
       "5 36.2\n",
       "6 28.7"
      ]
     },
     "metadata": {},
     "output_type": "display_data"
    }
   ],
   "source": [
    "# 3.6.2 Simple Linear Regression\n",
    "head (Boston)"
   ]
  },
  {
   "cell_type": "code",
   "execution_count": 200,
   "id": "15ff6903",
   "metadata": {},
   "outputs": [],
   "source": [
    "lm.fit <- lm(medv ∼lstat)"
   ]
  },
  {
   "cell_type": "code",
   "execution_count": 201,
   "id": "ae427708",
   "metadata": {},
   "outputs": [
    {
     "name": "stderr",
     "output_type": "stream",
     "text": [
      "The following objects are masked from Boston (pos = 3):\n",
      "\n",
      "    age, black, chas, crim, dis, indus, lstat, medv, nox, ptratio, rad,\n",
      "    rm, tax, zn\n",
      "\n",
      "The following objects are masked from Boston (pos = 4):\n",
      "\n",
      "    age, black, chas, crim, dis, indus, lstat, medv, nox, ptratio, rad,\n",
      "    rm, tax, zn\n",
      "\n"
     ]
    }
   ],
   "source": [
    "lm.fit <- lm(medv ∼ lstat , data = Boston)\n",
    "attach (Boston)\n",
    "lm.fit <- lm(medv ∼ lstat)"
   ]
  },
  {
   "cell_type": "code",
   "execution_count": 202,
   "id": "5f44ef9c",
   "metadata": {},
   "outputs": [
    {
     "data": {
      "text/plain": [
       "\n",
       "Call:\n",
       "lm(formula = medv ~ lstat)\n",
       "\n",
       "Coefficients:\n",
       "(Intercept)        lstat  \n",
       "      34.55        -0.95  \n"
      ]
     },
     "metadata": {},
     "output_type": "display_data"
    }
   ],
   "source": [
    "# some basic information about the model is output.\n",
    "lm.fit"
   ]
  },
  {
   "cell_type": "code",
   "execution_count": 203,
   "id": "f3054505",
   "metadata": {},
   "outputs": [
    {
     "data": {
      "text/plain": [
       "\n",
       "Call:\n",
       "lm(formula = medv ~ lstat)\n",
       "\n",
       "Residuals:\n",
       "    Min      1Q  Median      3Q     Max \n",
       "-15.168  -3.990  -1.318   2.034  24.500 \n",
       "\n",
       "Coefficients:\n",
       "            Estimate Std. Error t value Pr(>|t|)    \n",
       "(Intercept) 34.55384    0.56263   61.41   <2e-16 ***\n",
       "lstat       -0.95005    0.03873  -24.53   <2e-16 ***\n",
       "---\n",
       "Signif. codes:  0 '***' 0.001 '**' 0.01 '*' 0.05 '.' 0.1 ' ' 1\n",
       "\n",
       "Residual standard error: 6.216 on 504 degrees of freedom\n",
       "Multiple R-squared:  0.5441,\tAdjusted R-squared:  0.5432 \n",
       "F-statistic: 601.6 on 1 and 504 DF,  p-value: < 2.2e-16\n"
      ]
     },
     "metadata": {},
     "output_type": "display_data"
    }
   ],
   "source": [
    "summary (lm.fit)"
   ]
  },
  {
   "cell_type": "code",
   "execution_count": 204,
   "id": "909cf2a0",
   "metadata": {},
   "outputs": [
    {
     "data": {
      "text/html": [
       "<ol class=list-inline>\n",
       "\t<li>'coefficients'</li>\n",
       "\t<li>'residuals'</li>\n",
       "\t<li>'effects'</li>\n",
       "\t<li>'rank'</li>\n",
       "\t<li>'fitted.values'</li>\n",
       "\t<li>'assign'</li>\n",
       "\t<li>'qr'</li>\n",
       "\t<li>'df.residual'</li>\n",
       "\t<li>'xlevels'</li>\n",
       "\t<li>'call'</li>\n",
       "\t<li>'terms'</li>\n",
       "\t<li>'model'</li>\n",
       "</ol>\n"
      ],
      "text/latex": [
       "\\begin{enumerate*}\n",
       "\\item 'coefficients'\n",
       "\\item 'residuals'\n",
       "\\item 'effects'\n",
       "\\item 'rank'\n",
       "\\item 'fitted.values'\n",
       "\\item 'assign'\n",
       "\\item 'qr'\n",
       "\\item 'df.residual'\n",
       "\\item 'xlevels'\n",
       "\\item 'call'\n",
       "\\item 'terms'\n",
       "\\item 'model'\n",
       "\\end{enumerate*}\n"
      ],
      "text/markdown": [
       "1. 'coefficients'\n",
       "2. 'residuals'\n",
       "3. 'effects'\n",
       "4. 'rank'\n",
       "5. 'fitted.values'\n",
       "6. 'assign'\n",
       "7. 'qr'\n",
       "8. 'df.residual'\n",
       "9. 'xlevels'\n",
       "10. 'call'\n",
       "11. 'terms'\n",
       "12. 'model'\n",
       "\n",
       "\n"
      ],
      "text/plain": [
       " [1] \"coefficients\"  \"residuals\"     \"effects\"       \"rank\"         \n",
       " [5] \"fitted.values\" \"assign\"        \"qr\"            \"df.residual\"  \n",
       " [9] \"xlevels\"       \"call\"          \"terms\"         \"model\"        "
      ]
     },
     "metadata": {},
     "output_type": "display_data"
    },
    {
     "data": {
      "text/html": [
       "<dl class=dl-horizontal>\n",
       "\t<dt>(Intercept)</dt>\n",
       "\t\t<dd>34.5538408793831</dd>\n",
       "\t<dt>lstat</dt>\n",
       "\t\t<dd>-0.950049353757991</dd>\n",
       "</dl>\n"
      ],
      "text/latex": [
       "\\begin{description*}\n",
       "\\item[(Intercept)] 34.5538408793831\n",
       "\\item[lstat] -0.950049353757991\n",
       "\\end{description*}\n"
      ],
      "text/markdown": [
       "(Intercept)\n",
       ":   34.5538408793831lstat\n",
       ":   -0.950049353757991\n",
       "\n"
      ],
      "text/plain": [
       "(Intercept)       lstat \n",
       " 34.5538409  -0.9500494 "
      ]
     },
     "metadata": {},
     "output_type": "display_data"
    }
   ],
   "source": [
    "names (lm.fit)\n",
    "\n",
    "#  \n",
    "coef (lm.fit)"
   ]
  },
  {
   "cell_type": "code",
   "execution_count": 205,
   "id": "221528a3",
   "metadata": {},
   "outputs": [
    {
     "data": {
      "text/html": [
       "<table>\n",
       "<thead><tr><th></th><th scope=col>2.5 %</th><th scope=col>97.5 %</th></tr></thead>\n",
       "<tbody>\n",
       "\t<tr><th scope=row>(Intercept)</th><td>33.448457 </td><td>35.6592247</td></tr>\n",
       "\t<tr><th scope=row>lstat</th><td>-1.026148 </td><td>-0.8739505</td></tr>\n",
       "</tbody>\n",
       "</table>\n"
      ],
      "text/latex": [
       "\\begin{tabular}{r|ll}\n",
       "  & 2.5 \\% & 97.5 \\%\\\\\n",
       "\\hline\n",
       "\t(Intercept) & 33.448457  & 35.6592247\\\\\n",
       "\tlstat & -1.026148  & -0.8739505\\\\\n",
       "\\end{tabular}\n"
      ],
      "text/markdown": [
       "\n",
       "| <!--/--> | 2.5 % | 97.5 % |\n",
       "|---|---|---|\n",
       "| (Intercept) | 33.448457  | 35.6592247 |\n",
       "| lstat | -1.026148  | -0.8739505 |\n",
       "\n"
      ],
      "text/plain": [
       "            2.5 %     97.5 %    \n",
       "(Intercept) 33.448457 35.6592247\n",
       "lstat       -1.026148 -0.8739505"
      ]
     },
     "metadata": {},
     "output_type": "display_data"
    }
   ],
   "source": [
    "# obtain a confidence interval for the coefficient estimates\n",
    "confint (lm.fit)"
   ]
  },
  {
   "cell_type": "code",
   "execution_count": 206,
   "id": "8274c0ec",
   "metadata": {},
   "outputs": [
    {
     "data": {
      "text/html": [
       "<table>\n",
       "<thead><tr><th scope=col>fit</th><th scope=col>lwr</th><th scope=col>upr</th></tr></thead>\n",
       "<tbody>\n",
       "\t<tr><td>29.80359</td><td>29.00741</td><td>30.59978</td></tr>\n",
       "\t<tr><td>25.05335</td><td>24.47413</td><td>25.63256</td></tr>\n",
       "\t<tr><td>20.30310</td><td>19.73159</td><td>20.87461</td></tr>\n",
       "</tbody>\n",
       "</table>\n"
      ],
      "text/latex": [
       "\\begin{tabular}{r|lll}\n",
       " fit & lwr & upr\\\\\n",
       "\\hline\n",
       "\t 29.80359 & 29.00741 & 30.59978\\\\\n",
       "\t 25.05335 & 24.47413 & 25.63256\\\\\n",
       "\t 20.30310 & 19.73159 & 20.87461\\\\\n",
       "\\end{tabular}\n"
      ],
      "text/markdown": [
       "\n",
       "| fit | lwr | upr |\n",
       "|---|---|---|\n",
       "| 29.80359 | 29.00741 | 30.59978 |\n",
       "| 25.05335 | 24.47413 | 25.63256 |\n",
       "| 20.30310 | 19.73159 | 20.87461 |\n",
       "\n"
      ],
      "text/plain": [
       "  fit      lwr      upr     \n",
       "1 29.80359 29.00741 30.59978\n",
       "2 25.05335 24.47413 25.63256\n",
       "3 20.30310 19.73159 20.87461"
      ]
     },
     "metadata": {},
     "output_type": "display_data"
    },
    {
     "data": {
      "text/html": [
       "<table>\n",
       "<thead><tr><th scope=col>fit</th><th scope=col>lwr</th><th scope=col>upr</th></tr></thead>\n",
       "<tbody>\n",
       "\t<tr><td>29.80359 </td><td>17.565675</td><td>42.04151 </td></tr>\n",
       "\t<tr><td>25.05335 </td><td>12.827626</td><td>37.27907 </td></tr>\n",
       "\t<tr><td>20.30310 </td><td> 8.077742</td><td>32.52846 </td></tr>\n",
       "</tbody>\n",
       "</table>\n"
      ],
      "text/latex": [
       "\\begin{tabular}{r|lll}\n",
       " fit & lwr & upr\\\\\n",
       "\\hline\n",
       "\t 29.80359  & 17.565675 & 42.04151 \\\\\n",
       "\t 25.05335  & 12.827626 & 37.27907 \\\\\n",
       "\t 20.30310  &  8.077742 & 32.52846 \\\\\n",
       "\\end{tabular}\n"
      ],
      "text/markdown": [
       "\n",
       "| fit | lwr | upr |\n",
       "|---|---|---|\n",
       "| 29.80359  | 17.565675 | 42.04151  |\n",
       "| 25.05335  | 12.827626 | 37.27907  |\n",
       "| 20.30310  |  8.077742 | 32.52846  |\n",
       "\n"
      ],
      "text/plain": [
       "  fit      lwr       upr     \n",
       "1 29.80359 17.565675 42.04151\n",
       "2 25.05335 12.827626 37.27907\n",
       "3 20.30310  8.077742 32.52846"
      ]
     },
     "metadata": {},
     "output_type": "display_data"
    }
   ],
   "source": [
    "# produce confidence intervals and prediction intervals for the prediction of medv for a given value of lstat.\n",
    "predict (lm.fit , data.frame(lstat = (c(5, 10, 15))),interval = \"confidence\")\n",
    "predict (lm.fit , data.frame(lstat = (c(5, 10, 15))),interval = \"prediction\")"
   ]
  },
  {
   "cell_type": "code",
   "execution_count": 211,
   "id": "93546bb9",
   "metadata": {},
   "outputs": [
    {
     "data": {
      "image/png": "[encoded data removed]",
      "text/plain": [
       "plot without title"
      ]
     },
     "metadata": {},
     "output_type": "display_data"
    }
   ],
   "source": [
    "# plot medv and lstat along with the least squares regression line using the plot() and abline() functions\n",
    "plot (lstat , medv)\n",
    "abline(lm.fit)"
   ]
  },
  {
   "cell_type": "code",
   "execution_count": 212,
   "id": "d408a992",
   "metadata": {},
   "outputs": [
    {
     "ename": "ERROR",
     "evalue": "Error in int_abline(a = a, b = b, h = h, v = v, untf = untf, ...): plot.new has not been called yet\n",
     "output_type": "error",
     "traceback": [
      "Error in int_abline(a = a, b = b, h = h, v = v, untf = untf, ...): plot.new has not been called yet\nTraceback:\n",
      "1. abline(lm.fit, lwd = 3)",
      "2. int_abline(a = a, b = b, h = h, v = v, untf = untf, ...)"
     ]
    }
   ],
   "source": [
    "abline (lm.fit, lwd = 3)\n",
    "abline (lm.fit, lwd = 3, col = \"red\")\n",
    "plot (lstat, medv, col = \"red\")\n",
    "plot (lstat, medv, pch = 20)\n",
    "plot (lstat, medv, pch = \"+\")\n",
    "plot (1:20, 1:20, pch = 1:20)"
   ]
  },
  {
   "cell_type": "code",
   "execution_count": 213,
   "id": "cf5abba3",
   "metadata": {},
   "outputs": [
    {
     "data": {
      "image/png": "[encoded data removed]",
      "text/plain": [
       "Plot with title \"\""
      ]
     },
     "metadata": {},
     "output_type": "display_data"
    }
   ],
   "source": [
    "# split the display screen into separate panels so that multiple plots can be viewed simultaneously.\n",
    "par (mfrow = c(2, 2))\n",
    "plot (lm.fit)"
   ]
  },
  {
   "cell_type": "code",
   "execution_count": 215,
   "id": "0257a34a",
   "metadata": {},
   "outputs": [
    {
     "data": {
      "image/png": "[encoded data removed]",
      "text/plain": [
       "plot without title"
      ]
     },
     "metadata": {},
     "output_type": "display_data"
    },
    {
     "data": {
      "image/png": "[encoded data removed]",
      "text/plain": [
       "plot without title"
      ]
     },
     "metadata": {},
     "output_type": "display_data"
    }
   ],
   "source": [
    "# residuals(): compute the residuals from a linear regression fit\n",
    "plot ( predict (lm.fit), residuals (lm.fit))\n",
    "\n",
    "# rstudent() will return the studentized residuals\n",
    "plot ( predict (lm.fit), rstudent (lm.fit))"
   ]
  },
  {
   "cell_type": "code",
   "execution_count": 218,
   "id": "6ef66586",
   "metadata": {},
   "outputs": [
    {
     "data": {
      "text/html": [
       "<strong>375:</strong> 375"
      ],
      "text/latex": [
       "\\textbf{375:} 375"
      ],
      "text/markdown": [
       "**375:** 375"
      ],
      "text/plain": [
       "375 \n",
       "375 "
      ]
     },
     "metadata": {},
     "output_type": "display_data"
    },
    {
     "data": {
      "image/png": "[encoded data removed]",
      "text/plain": [
       "plot without title"
      ]
     },
     "metadata": {},
     "output_type": "display_data"
    }
   ],
   "source": [
    "# Leverage statistics can be computed for any number of predictors using:\n",
    "plot (hatvalues(lm.fit))\n",
    "which.max (hatvalues(lm.fit))"
   ]
  },
  {
   "cell_type": "code",
   "execution_count": 219,
   "id": "90b3dfbe",
   "metadata": {},
   "outputs": [],
   "source": [
    "# 3.6.3 Multiple Linear Regression"
   ]
  },
  {
   "cell_type": "code",
   "execution_count": 220,
   "id": "d9525a11",
   "metadata": {},
   "outputs": [
    {
     "data": {
      "text/plain": [
       "\n",
       "Call:\n",
       "lm(formula = medv ~ lstat + age, data = Boston)\n",
       "\n",
       "Residuals:\n",
       "    Min      1Q  Median      3Q     Max \n",
       "-15.981  -3.978  -1.283   1.968  23.158 \n",
       "\n",
       "Coefficients:\n",
       "            Estimate Std. Error t value Pr(>|t|)    \n",
       "(Intercept) 33.22276    0.73085  45.458  < 2e-16 ***\n",
       "lstat       -1.03207    0.04819 -21.416  < 2e-16 ***\n",
       "age          0.03454    0.01223   2.826  0.00491 ** \n",
       "---\n",
       "Signif. codes:  0 '***' 0.001 '**' 0.01 '*' 0.05 '.' 0.1 ' ' 1\n",
       "\n",
       "Residual standard error: 6.173 on 503 degrees of freedom\n",
       "Multiple R-squared:  0.5513,\tAdjusted R-squared:  0.5495 \n",
       "F-statistic:   309 on 2 and 503 DF,  p-value: < 2.2e-16\n"
      ]
     },
     "metadata": {},
     "output_type": "display_data"
    }
   ],
   "source": [
    "# In order to fit a multiple linear regression model using least squares, we again use the lm() function\n",
    "# The syntax lm(y ∼ x1 + x2 + x3) is used to fit a model with three predictors, x1, x2, and x3\n",
    "lm.fit <- lm(medv ∼ lstat + age , data = Boston)\n",
    "summary (lm.fit)"
   ]
  },
  {
   "cell_type": "code",
   "execution_count": 221,
   "id": "c6cced08",
   "metadata": {},
   "outputs": [
    {
     "data": {
      "text/plain": [
       "\n",
       "Call:\n",
       "lm(formula = medv ~ ., data = Boston)\n",
       "\n",
       "Residuals:\n",
       "    Min      1Q  Median      3Q     Max \n",
       "-15.595  -2.730  -0.518   1.777  26.199 \n",
       "\n",
       "Coefficients:\n",
       "              Estimate Std. Error t value Pr(>|t|)    \n",
       "(Intercept)  3.646e+01  5.103e+00   7.144 3.28e-12 ***\n",
       "crim        -1.080e-01  3.286e-02  -3.287 0.001087 ** \n",
       "zn           4.642e-02  1.373e-02   3.382 0.000778 ***\n",
       "indus        2.056e-02  6.150e-02   0.334 0.738288    \n",
       "chas         2.687e+00  8.616e-01   3.118 0.001925 ** \n",
       "nox         -1.777e+01  3.820e+00  -4.651 4.25e-06 ***\n",
       "rm           3.810e+00  4.179e-01   9.116  < 2e-16 ***\n",
       "age          6.922e-04  1.321e-02   0.052 0.958229    \n",
       "dis         -1.476e+00  1.995e-01  -7.398 6.01e-13 ***\n",
       "rad          3.060e-01  6.635e-02   4.613 5.07e-06 ***\n",
       "tax         -1.233e-02  3.760e-03  -3.280 0.001112 ** \n",
       "ptratio     -9.527e-01  1.308e-01  -7.283 1.31e-12 ***\n",
       "black        9.312e-03  2.686e-03   3.467 0.000573 ***\n",
       "lstat       -5.248e-01  5.072e-02 -10.347  < 2e-16 ***\n",
       "---\n",
       "Signif. codes:  0 '***' 0.001 '**' 0.01 '*' 0.05 '.' 0.1 ' ' 1\n",
       "\n",
       "Residual standard error: 4.745 on 492 degrees of freedom\n",
       "Multiple R-squared:  0.7406,\tAdjusted R-squared:  0.7338 \n",
       "F-statistic: 108.1 on 13 and 492 DF,  p-value: < 2.2e-16\n"
      ]
     },
     "metadata": {},
     "output_type": "display_data"
    }
   ],
   "source": [
    "lm.fit <- lm(medv ∼ ., data = Boston)\n",
    "summary (lm.fit)"
   ]
  },
  {
   "cell_type": "code",
   "execution_count": 228,
   "id": "01eba4c3",
   "metadata": {},
   "outputs": [
    {
     "ename": "ERROR",
     "evalue": "Error in library(car): there is no package called 'car'\n",
     "output_type": "error",
     "traceback": [
      "Error in library(car): there is no package called 'car'\nTraceback:\n",
      "1. library(car)"
     ]
    }
   ],
   "source": [
    "library(car)\n",
    "vif(lm.fit)"
   ]
  },
  {
   "cell_type": "code",
   "execution_count": 229,
   "id": "0f33593d",
   "metadata": {},
   "outputs": [
    {
     "data": {
      "text/plain": [
       "\n",
       "Call:\n",
       "lm(formula = medv ~ . - age, data = Boston)\n",
       "\n",
       "Residuals:\n",
       "     Min       1Q   Median       3Q      Max \n",
       "-15.6054  -2.7313  -0.5188   1.7601  26.2243 \n",
       "\n",
       "Coefficients:\n",
       "              Estimate Std. Error t value Pr(>|t|)    \n",
       "(Intercept)  36.436927   5.080119   7.172 2.72e-12 ***\n",
       "crim         -0.108006   0.032832  -3.290 0.001075 ** \n",
       "zn            0.046334   0.013613   3.404 0.000719 ***\n",
       "indus         0.020562   0.061433   0.335 0.737989    \n",
       "chas          2.689026   0.859598   3.128 0.001863 ** \n",
       "nox         -17.713540   3.679308  -4.814 1.97e-06 ***\n",
       "rm            3.814394   0.408480   9.338  < 2e-16 ***\n",
       "dis          -1.478612   0.190611  -7.757 5.03e-14 ***\n",
       "rad           0.305786   0.066089   4.627 4.75e-06 ***\n",
       "tax          -0.012329   0.003755  -3.283 0.001099 ** \n",
       "ptratio      -0.952211   0.130294  -7.308 1.10e-12 ***\n",
       "black         0.009321   0.002678   3.481 0.000544 ***\n",
       "lstat        -0.523852   0.047625 -10.999  < 2e-16 ***\n",
       "---\n",
       "Signif. codes:  0 '***' 0.001 '**' 0.01 '*' 0.05 '.' 0.1 ' ' 1\n",
       "\n",
       "Residual standard error: 4.74 on 493 degrees of freedom\n",
       "Multiple R-squared:  0.7406,\tAdjusted R-squared:  0.7343 \n",
       "F-statistic: 117.3 on 12 and 493 DF,  p-value: < 2.2e-16\n"
      ]
     },
     "metadata": {},
     "output_type": "display_data"
    }
   ],
   "source": [
    "lm.fit1 <- lm(medv ∼ . - age , data = Boston)\n",
    "summary (lm.fit1)"
   ]
  },
  {
   "cell_type": "code",
   "execution_count": 230,
   "id": "be7af82c",
   "metadata": {},
   "outputs": [],
   "source": [
    " lm.fit1 <- update (lm.fit , ∼ . - age)"
   ]
  },
  {
   "cell_type": "code",
   "execution_count": 231,
   "id": "c036012c",
   "metadata": {},
   "outputs": [],
   "source": [
    "# 3.6.4 Interaction Terms"
   ]
  },
  {
   "cell_type": "code",
   "execution_count": 232,
   "id": "e00b3f6d",
   "metadata": {},
   "outputs": [
    {
     "data": {
      "text/plain": [
       "\n",
       "Call:\n",
       "lm(formula = medv ~ lstat * age, data = Boston)\n",
       "\n",
       "Residuals:\n",
       "    Min      1Q  Median      3Q     Max \n",
       "-15.806  -4.045  -1.333   2.085  27.552 \n",
       "\n",
       "Coefficients:\n",
       "              Estimate Std. Error t value Pr(>|t|)    \n",
       "(Intercept) 36.0885359  1.4698355  24.553  < 2e-16 ***\n",
       "lstat       -1.3921168  0.1674555  -8.313 8.78e-16 ***\n",
       "age         -0.0007209  0.0198792  -0.036   0.9711    \n",
       "lstat:age    0.0041560  0.0018518   2.244   0.0252 *  \n",
       "---\n",
       "Signif. codes:  0 '***' 0.001 '**' 0.01 '*' 0.05 '.' 0.1 ' ' 1\n",
       "\n",
       "Residual standard error: 6.149 on 502 degrees of freedom\n",
       "Multiple R-squared:  0.5557,\tAdjusted R-squared:  0.5531 \n",
       "F-statistic: 209.3 on 3 and 502 DF,  p-value: < 2.2e-16\n"
      ]
     },
     "metadata": {},
     "output_type": "display_data"
    }
   ],
   "source": [
    "summary (lm(medv ∼ lstat * age , data = Boston))"
   ]
  },
  {
   "cell_type": "code",
   "execution_count": 233,
   "id": "c46e9d2f",
   "metadata": {},
   "outputs": [
    {
     "ename": "ERROR",
     "evalue": "Error in parse(text = x, srcfile = src): <text>:1:4: unexpected numeric constant\n1: 3.6.5\n       ^\n",
     "output_type": "error",
     "traceback": [
      "Error in parse(text = x, srcfile = src): <text>:1:4: unexpected numeric constant\n1: 3.6.5\n       ^\nTraceback:\n"
     ]
    }
   ],
   "source": [
    "# 3.6.5 Non-linear Transformations of the Predictors"
   ]
  },
  {
   "cell_type": "code",
   "execution_count": 234,
   "id": "c8d21933",
   "metadata": {},
   "outputs": [
    {
     "data": {
      "text/plain": [
       "\n",
       "Call:\n",
       "lm(formula = medv ~ lstat + I(lstat^2))\n",
       "\n",
       "Residuals:\n",
       "     Min       1Q   Median       3Q      Max \n",
       "-15.2834  -3.8313  -0.5295   2.3095  25.4148 \n",
       "\n",
       "Coefficients:\n",
       "             Estimate Std. Error t value Pr(>|t|)    \n",
       "(Intercept) 42.862007   0.872084   49.15   <2e-16 ***\n",
       "lstat       -2.332821   0.123803  -18.84   <2e-16 ***\n",
       "I(lstat^2)   0.043547   0.003745   11.63   <2e-16 ***\n",
       "---\n",
       "Signif. codes:  0 '***' 0.001 '**' 0.01 '*' 0.05 '.' 0.1 ' ' 1\n",
       "\n",
       "Residual standard error: 5.524 on 503 degrees of freedom\n",
       "Multiple R-squared:  0.6407,\tAdjusted R-squared:  0.6393 \n",
       "F-statistic: 448.5 on 2 and 503 DF,  p-value: < 2.2e-16\n"
      ]
     },
     "metadata": {},
     "output_type": "display_data"
    }
   ],
   "source": [
    "lm.fit2 <- lm(medv ∼ lstat + I(lstat^2))\n",
    "summary (lm.fit2)"
   ]
  },
  {
   "cell_type": "code",
   "execution_count": 236,
   "id": "853a0fad",
   "metadata": {},
   "outputs": [
    {
     "data": {
      "text/html": [
       "<table>\n",
       "<thead><tr><th scope=col>Res.Df</th><th scope=col>RSS</th><th scope=col>Df</th><th scope=col>Sum of Sq</th><th scope=col>F</th><th scope=col>Pr(&gt;F)</th></tr></thead>\n",
       "<tbody>\n",
       "\t<tr><td>504         </td><td>19472.38    </td><td>NA          </td><td>      NA    </td><td>      NA    </td><td>          NA</td></tr>\n",
       "\t<tr><td>503         </td><td>15347.24    </td><td> 1          </td><td>4125.138    </td><td>135.1998    </td><td>7.630116e-28</td></tr>\n",
       "</tbody>\n",
       "</table>\n"
      ],
      "text/latex": [
       "\\begin{tabular}{r|llllll}\n",
       " Res.Df & RSS & Df & Sum of Sq & F & Pr(>F)\\\\\n",
       "\\hline\n",
       "\t 504          & 19472.38     & NA           &       NA     &       NA     &           NA\\\\\n",
       "\t 503          & 15347.24     &  1           & 4125.138     & 135.1998     & 7.630116e-28\\\\\n",
       "\\end{tabular}\n"
      ],
      "text/markdown": [
       "\n",
       "| Res.Df | RSS | Df | Sum of Sq | F | Pr(>F) |\n",
       "|---|---|---|---|---|---|\n",
       "| 504          | 19472.38     | NA           |       NA     |       NA     |           NA |\n",
       "| 503          | 15347.24     |  1           | 4125.138     | 135.1998     | 7.630116e-28 |\n",
       "\n"
      ],
      "text/plain": [
       "  Res.Df RSS      Df Sum of Sq F        Pr(>F)      \n",
       "1 504    19472.38 NA       NA        NA           NA\n",
       "2 503    15347.24  1 4125.138  135.1998 7.630116e-28"
      ]
     },
     "metadata": {},
     "output_type": "display_data"
    }
   ],
   "source": [
    "# quantify the extent to which the quadratic fit is superior to the linear fit.\n",
    "lm.fit <- lm(medv ∼ lstat)\n",
    "anova (lm.fit , lm.fit2)"
   ]
  },
  {
   "cell_type": "code",
   "execution_count": 237,
   "id": "00ce888e",
   "metadata": {},
   "outputs": [
    {
     "data": {
      "image/png": "[encoded data removed]",
      "text/plain": [
       "Plot with title \"\""
      ]
     },
     "metadata": {},
     "output_type": "display_data"
    }
   ],
   "source": [
    "par (mfrow = c(2, 2))\n",
    "plot (lm.fit2)"
   ]
  },
  {
   "cell_type": "code",
   "execution_count": 238,
   "id": "b9642499",
   "metadata": {},
   "outputs": [
    {
     "data": {
      "text/plain": [
       "\n",
       "Call:\n",
       "lm(formula = medv ~ poly(lstat, 5))\n",
       "\n",
       "Residuals:\n",
       "     Min       1Q   Median       3Q      Max \n",
       "-13.5433  -3.1039  -0.7052   2.0844  27.1153 \n",
       "\n",
       "Coefficients:\n",
       "                 Estimate Std. Error t value Pr(>|t|)    \n",
       "(Intercept)       22.5328     0.2318  97.197  < 2e-16 ***\n",
       "poly(lstat, 5)1 -152.4595     5.2148 -29.236  < 2e-16 ***\n",
       "poly(lstat, 5)2   64.2272     5.2148  12.316  < 2e-16 ***\n",
       "poly(lstat, 5)3  -27.0511     5.2148  -5.187 3.10e-07 ***\n",
       "poly(lstat, 5)4   25.4517     5.2148   4.881 1.42e-06 ***\n",
       "poly(lstat, 5)5  -19.2524     5.2148  -3.692 0.000247 ***\n",
       "---\n",
       "Signif. codes:  0 '***' 0.001 '**' 0.01 '*' 0.05 '.' 0.1 ' ' 1\n",
       "\n",
       "Residual standard error: 5.215 on 500 degrees of freedom\n",
       "Multiple R-squared:  0.6817,\tAdjusted R-squared:  0.6785 \n",
       "F-statistic: 214.2 on 5 and 500 DF,  p-value: < 2.2e-16\n"
      ]
     },
     "metadata": {},
     "output_type": "display_data"
    }
   ],
   "source": [
    "lm.fit5 <- lm(medv ∼ poly (lstat , 5))\n",
    "summary (lm.fit5)"
   ]
  },
  {
   "cell_type": "code",
   "execution_count": 239,
   "id": "bd09cccd",
   "metadata": {},
   "outputs": [
    {
     "data": {
      "text/plain": [
       "\n",
       "Call:\n",
       "lm(formula = medv ~ log(rm), data = Boston)\n",
       "\n",
       "Residuals:\n",
       "    Min      1Q  Median      3Q     Max \n",
       "-19.487  -2.875  -0.104   2.837  39.816 \n",
       "\n",
       "Coefficients:\n",
       "            Estimate Std. Error t value Pr(>|t|)    \n",
       "(Intercept)  -76.488      5.028  -15.21   <2e-16 ***\n",
       "log(rm)       54.055      2.739   19.73   <2e-16 ***\n",
       "---\n",
       "Signif. codes:  0 '***' 0.001 '**' 0.01 '*' 0.05 '.' 0.1 ' ' 1\n",
       "\n",
       "Residual standard error: 6.915 on 504 degrees of freedom\n",
       "Multiple R-squared:  0.4358,\tAdjusted R-squared:  0.4347 \n",
       "F-statistic: 389.3 on 1 and 504 DF,  p-value: < 2.2e-16\n"
      ]
     },
     "metadata": {},
     "output_type": "display_data"
    }
   ],
   "source": [
    "summary (lm(medv ∼ log(rm), data = Boston))"
   ]
  },
  {
   "cell_type": "code",
   "execution_count": 240,
   "id": "b3f75210",
   "metadata": {},
   "outputs": [],
   "source": [
    "# 3.6.6 Qualitative Predictors"
   ]
  },
  {
   "cell_type": "code",
   "execution_count": 250,
   "id": "031dce3e",
   "metadata": {},
   "outputs": [
    {
     "ename": "ERROR",
     "evalue": "Error in head(Carseats): object 'Carseats' not found\n",
     "output_type": "error",
     "traceback": [
      "Error in head(Carseats): object 'Carseats' not found\nTraceback:\n",
      "1. head(Carseats)"
     ]
    }
   ],
   "source": [
    "head(Carseats)"
   ]
  },
  {
   "cell_type": "code",
   "execution_count": 249,
   "id": "518fc912",
   "metadata": {},
   "outputs": [
    {
     "ename": "ERROR",
     "evalue": "Error in is.data.frame(data): object 'Carseats' not found\n",
     "output_type": "error",
     "traceback": [
      "Error in is.data.frame(data): object 'Carseats' not found\nTraceback:\n",
      "1. lm(Sales ~ . + Income:Advertising + Price:Age, data = Carseats)",
      "2. eval(mf, parent.frame())",
      "3. eval(mf, parent.frame())",
      "4. stats::model.frame(formula = Sales ~ . + Income:Advertising + \n .     Price:Age, data = Carseats, drop.unused.levels = TRUE)",
      "5. model.frame.default(formula = Sales ~ . + Income:Advertising + \n .     Price:Age, data = Carseats, drop.unused.levels = TRUE)",
      "6. is.data.frame(data)"
     ]
    }
   ],
   "source": [
    "lm.fit <- lm(Sales ∼ . + Income:Advertising + Price:Age ,\n",
    "data = Carseats)\n",
    "summary (lm.fit)"
   ]
  },
  {
   "cell_type": "code",
   "execution_count": 251,
   "id": "fb579089",
   "metadata": {},
   "outputs": [
    {
     "ename": "ERROR",
     "evalue": "Error in attach(Carseats): object 'Carseats' not found\n",
     "output_type": "error",
     "traceback": [
      "Error in attach(Carseats): object 'Carseats' not found\nTraceback:\n",
      "1. attach(Carseats)"
     ]
    }
   ],
   "source": [
    "attach (Carseats)\n",
    "contrasts (ShelveLoc)"
   ]
  },
  {
   "cell_type": "code",
   "execution_count": 252,
   "id": "2ac3ee48",
   "metadata": {},
   "outputs": [],
   "source": [
    "# 3.6.7 Writing Functions"
   ]
  },
  {
   "cell_type": "code",
   "execution_count": 257,
   "id": "e51c388b",
   "metadata": {},
   "outputs": [
    {
     "ename": "ERROR",
     "evalue": "Error in LoadLibraries(): could not find function \"LoadLibraries\"\n",
     "output_type": "error",
     "traceback": [
      "Error in LoadLibraries(): could not find function \"LoadLibraries\"\nTraceback:\n"
     ]
    }
   ],
   "source": [
    "# Load Libraries\n",
    "LoadLibraries()"
   ]
  },
  {
   "cell_type": "code",
   "execution_count": 262,
   "id": "71954110",
   "metadata": {},
   "outputs": [
    {
     "ename": "ERROR",
     "evalue": "Error in parse(text = x, srcfile = src): <text>:5:3: unexpected '}'\n4: + print (\"The libraries have been loaded.\")\n5: + }\n     ^\n",
     "output_type": "error",
     "traceback": [
      "Error in parse(text = x, srcfile = src): <text>:5:3: unexpected '}'\n4: + print (\"The libraries have been loaded.\")\n5: + }\n     ^\nTraceback:\n"
     ]
    }
   ],
   "source": [
    " LoadLibraries <- function() {\n",
    "+ library (ISLR2)\n",
    "+ library (MASS)\n",
    "+ print (\"The libraries have been loaded.\")\n",
    "+ }"
   ]
  },
  {
   "cell_type": "code",
   "execution_count": 264,
   "id": "88f68b18",
   "metadata": {},
   "outputs": [
    {
     "ename": "ERROR",
     "evalue": "Error in LoadLibraries(): could not find function \"LoadLibraries\"\n",
     "output_type": "error",
     "traceback": [
      "Error in LoadLibraries(): could not find function \"LoadLibraries\"\nTraceback:\n"
     ]
    }
   ],
   "source": [
    "LoadLibraries()"
   ]
  }
 ],
 "metadata": {
  "kernelspec": {
   "display_name": "R",
   "language": "R",
   "name": "ir"
  },
  "language_info": {
   "codemirror_mode": "r",
   "file_extension": ".r",
   "mimetype": "text/x-r-source",
   "name": "R",
   "pygments_lexer": "r",
   "version": "3.6.1"
  }
 },
 "nbformat": 4,
 "nbformat_minor": 5
}
