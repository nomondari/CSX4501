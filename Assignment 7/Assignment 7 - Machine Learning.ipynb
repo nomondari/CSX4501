{
 "cells": [
  {
   "cell_type": "code",
   "execution_count": 606,
   "id": "62e3047f",
   "metadata": {},
   "outputs": [],
   "source": [
    "import numpy as np\n",
    "import matplotlib.pyplot as plt\n",
    "import seaborn as sns\n",
    "from sklearn.cluster import KMeans\n",
    "from sklearn import datasets\n",
    "from sklearn.pipeline import Pipeline\n",
    "from sklearn.preprocessing import PolynomialFeatures\n",
    "from sklearn.linear_model import LinearRegression\n",
    "from sklearn.model_selection import cross_val_score\n",
    "from scipy import spatial\n",
    "import ipywidgets\n",
    "import pandas as pd\n",
    "\n",
    "\n",
    "from sklearn import datasets\n",
    "df = datasets.load_diabetes(as_frame=True) \n",
    "features_df = df.data\n",
    "target_df = df.target"
   ]
  },
  {
   "cell_type": "code",
   "execution_count": 607,
   "id": "70e4bd43",
   "metadata": {},
   "outputs": [
    {
     "name": "stdout",
     "output_type": "stream",
     "text": [
      ".. _diabetes_dataset:\n",
      "\n",
      "Diabetes dataset\n",
      "----------------\n",
      "\n",
      "Ten baseline variables, age, sex, body mass index, average blood\n",
      "pressure, and six blood serum measurements were obtained for each of n =\n",
      "442 diabetes patients, as well as the response of interest, a\n",
      "quantitative measure of disease progression one year after baseline.\n",
      "\n",
      "**Data Set Characteristics:**\n",
      "\n",
      "  :Number of Instances: 442\n",
      "\n",
      "  :Number of Attributes: First 10 columns are numeric predictive values\n",
      "\n",
      "  :Target: Column 11 is a quantitative measure of disease progression one year after baseline\n",
      "\n",
      "  :Attribute Information:\n",
      "      - age     age in years\n",
      "      - sex\n",
      "      - bmi     body mass index\n",
      "      - bp      average blood pressure\n",
      "      - s1      tc, total serum cholesterol\n",
      "      - s2      ldl, low-density lipoproteins\n",
      "      - s3      hdl, high-density lipoproteins\n",
      "      - s4      tch, total cholesterol / HDL\n",
      "      - s5      ltg, possibly log of serum triglycerides level\n",
      "      - s6      glu, blood sugar level\n",
      "\n",
      "Note: Each of these 10 feature variables have been mean centered and scaled by the standard deviation times `n_samples` (i.e. the sum of squares of each column totals 1).\n",
      "\n",
      "Source URL:\n",
      "https://www4.stat.ncsu.edu/~boos/var.select/diabetes.html\n",
      "\n",
      "For more information see:\n",
      "Bradley Efron, Trevor Hastie, Iain Johnstone and Robert Tibshirani (2004) \"Least Angle Regression,\" Annals of Statistics (with discussion), 407-499.\n",
      "(https://web.stanford.edu/~hastie/Papers/LARS/LeastAngle_2002.pdf)\n"
     ]
    }
   ],
   "source": [
    "print(df.DESCR)"
   ]
  },
  {
   "cell_type": "markdown",
   "id": "d2c04023",
   "metadata": {},
   "source": [
    "### Exploratory data analysis\n",
    "##### Summary statistical information"
   ]
  },
  {
   "cell_type": "code",
   "execution_count": 608,
   "id": "8098bbcc",
   "metadata": {},
   "outputs": [
    {
     "data": {
      "text/html": [
       "<div>\n",
       "<style scoped>\n",
       "    .dataframe tbody tr th:only-of-type {\n",
       "        vertical-align: middle;\n",
       "    }\n",
       "\n",
       "    .dataframe tbody tr th {\n",
       "        vertical-align: top;\n",
       "    }\n",
       "\n",
       "    .dataframe thead th {\n",
       "        text-align: right;\n",
       "    }\n",
       "</style>\n",
       "<table border=\"1\" class=\"dataframe\">\n",
       "  <thead>\n",
       "    <tr style=\"text-align: right;\">\n",
       "      <th></th>\n",
       "      <th>age</th>\n",
       "      <th>sex</th>\n",
       "      <th>bmi</th>\n",
       "      <th>bp</th>\n",
       "      <th>s1</th>\n",
       "      <th>s2</th>\n",
       "      <th>s3</th>\n",
       "      <th>s4</th>\n",
       "      <th>s5</th>\n",
       "      <th>s6</th>\n",
       "    </tr>\n",
       "  </thead>\n",
       "  <tbody>\n",
       "    <tr>\n",
       "      <th>0</th>\n",
       "      <td>0.038076</td>\n",
       "      <td>0.050680</td>\n",
       "      <td>0.061696</td>\n",
       "      <td>0.021872</td>\n",
       "      <td>-0.044223</td>\n",
       "      <td>-0.034821</td>\n",
       "      <td>-0.043401</td>\n",
       "      <td>-0.002592</td>\n",
       "      <td>0.019908</td>\n",
       "      <td>-0.017646</td>\n",
       "    </tr>\n",
       "    <tr>\n",
       "      <th>1</th>\n",
       "      <td>-0.001882</td>\n",
       "      <td>-0.044642</td>\n",
       "      <td>-0.051474</td>\n",
       "      <td>-0.026328</td>\n",
       "      <td>-0.008449</td>\n",
       "      <td>-0.019163</td>\n",
       "      <td>0.074412</td>\n",
       "      <td>-0.039493</td>\n",
       "      <td>-0.068330</td>\n",
       "      <td>-0.092204</td>\n",
       "    </tr>\n",
       "    <tr>\n",
       "      <th>2</th>\n",
       "      <td>0.085299</td>\n",
       "      <td>0.050680</td>\n",
       "      <td>0.044451</td>\n",
       "      <td>-0.005671</td>\n",
       "      <td>-0.045599</td>\n",
       "      <td>-0.034194</td>\n",
       "      <td>-0.032356</td>\n",
       "      <td>-0.002592</td>\n",
       "      <td>0.002864</td>\n",
       "      <td>-0.025930</td>\n",
       "    </tr>\n",
       "    <tr>\n",
       "      <th>3</th>\n",
       "      <td>-0.089063</td>\n",
       "      <td>-0.044642</td>\n",
       "      <td>-0.011595</td>\n",
       "      <td>-0.036656</td>\n",
       "      <td>0.012191</td>\n",
       "      <td>0.024991</td>\n",
       "      <td>-0.036038</td>\n",
       "      <td>0.034309</td>\n",
       "      <td>0.022692</td>\n",
       "      <td>-0.009362</td>\n",
       "    </tr>\n",
       "    <tr>\n",
       "      <th>4</th>\n",
       "      <td>0.005383</td>\n",
       "      <td>-0.044642</td>\n",
       "      <td>-0.036385</td>\n",
       "      <td>0.021872</td>\n",
       "      <td>0.003935</td>\n",
       "      <td>0.015596</td>\n",
       "      <td>0.008142</td>\n",
       "      <td>-0.002592</td>\n",
       "      <td>-0.031991</td>\n",
       "      <td>-0.046641</td>\n",
       "    </tr>\n",
       "  </tbody>\n",
       "</table>\n",
       "</div>"
      ],
      "text/plain": [
       "        age       sex       bmi        bp        s1        s2        s3  \\\n",
       "0  0.038076  0.050680  0.061696  0.021872 -0.044223 -0.034821 -0.043401   \n",
       "1 -0.001882 -0.044642 -0.051474 -0.026328 -0.008449 -0.019163  0.074412   \n",
       "2  0.085299  0.050680  0.044451 -0.005671 -0.045599 -0.034194 -0.032356   \n",
       "3 -0.089063 -0.044642 -0.011595 -0.036656  0.012191  0.024991 -0.036038   \n",
       "4  0.005383 -0.044642 -0.036385  0.021872  0.003935  0.015596  0.008142   \n",
       "\n",
       "         s4        s5        s6  \n",
       "0 -0.002592  0.019908 -0.017646  \n",
       "1 -0.039493 -0.068330 -0.092204  \n",
       "2 -0.002592  0.002864 -0.025930  \n",
       "3  0.034309  0.022692 -0.009362  \n",
       "4 -0.002592 -0.031991 -0.046641  "
      ]
     },
     "execution_count": 608,
     "metadata": {},
     "output_type": "execute_result"
    }
   ],
   "source": [
    "df.data.head()"
   ]
  },
  {
   "cell_type": "code",
   "execution_count": 609,
   "id": "72c2f670",
   "metadata": {},
   "outputs": [
    {
     "data": {
      "text/html": [
       "<div>\n",
       "<style scoped>\n",
       "    .dataframe tbody tr th:only-of-type {\n",
       "        vertical-align: middle;\n",
       "    }\n",
       "\n",
       "    .dataframe tbody tr th {\n",
       "        vertical-align: top;\n",
       "    }\n",
       "\n",
       "    .dataframe thead th {\n",
       "        text-align: right;\n",
       "    }\n",
       "</style>\n",
       "<table border=\"1\" class=\"dataframe\">\n",
       "  <thead>\n",
       "    <tr style=\"text-align: right;\">\n",
       "      <th></th>\n",
       "      <th>age</th>\n",
       "      <th>sex</th>\n",
       "      <th>bmi</th>\n",
       "      <th>bp</th>\n",
       "      <th>s1</th>\n",
       "      <th>s2</th>\n",
       "      <th>s3</th>\n",
       "      <th>s4</th>\n",
       "      <th>s5</th>\n",
       "      <th>s6</th>\n",
       "    </tr>\n",
       "  </thead>\n",
       "  <tbody>\n",
       "    <tr>\n",
       "      <th>437</th>\n",
       "      <td>0.041708</td>\n",
       "      <td>0.050680</td>\n",
       "      <td>0.019662</td>\n",
       "      <td>0.059744</td>\n",
       "      <td>-0.005697</td>\n",
       "      <td>-0.002566</td>\n",
       "      <td>-0.028674</td>\n",
       "      <td>-0.002592</td>\n",
       "      <td>0.031193</td>\n",
       "      <td>0.007207</td>\n",
       "    </tr>\n",
       "    <tr>\n",
       "      <th>438</th>\n",
       "      <td>-0.005515</td>\n",
       "      <td>0.050680</td>\n",
       "      <td>-0.015906</td>\n",
       "      <td>-0.067642</td>\n",
       "      <td>0.049341</td>\n",
       "      <td>0.079165</td>\n",
       "      <td>-0.028674</td>\n",
       "      <td>0.034309</td>\n",
       "      <td>-0.018118</td>\n",
       "      <td>0.044485</td>\n",
       "    </tr>\n",
       "    <tr>\n",
       "      <th>439</th>\n",
       "      <td>0.041708</td>\n",
       "      <td>0.050680</td>\n",
       "      <td>-0.015906</td>\n",
       "      <td>0.017282</td>\n",
       "      <td>-0.037344</td>\n",
       "      <td>-0.013840</td>\n",
       "      <td>-0.024993</td>\n",
       "      <td>-0.011080</td>\n",
       "      <td>-0.046879</td>\n",
       "      <td>0.015491</td>\n",
       "    </tr>\n",
       "    <tr>\n",
       "      <th>440</th>\n",
       "      <td>-0.045472</td>\n",
       "      <td>-0.044642</td>\n",
       "      <td>0.039062</td>\n",
       "      <td>0.001215</td>\n",
       "      <td>0.016318</td>\n",
       "      <td>0.015283</td>\n",
       "      <td>-0.028674</td>\n",
       "      <td>0.026560</td>\n",
       "      <td>0.044528</td>\n",
       "      <td>-0.025930</td>\n",
       "    </tr>\n",
       "    <tr>\n",
       "      <th>441</th>\n",
       "      <td>-0.045472</td>\n",
       "      <td>-0.044642</td>\n",
       "      <td>-0.073030</td>\n",
       "      <td>-0.081414</td>\n",
       "      <td>0.083740</td>\n",
       "      <td>0.027809</td>\n",
       "      <td>0.173816</td>\n",
       "      <td>-0.039493</td>\n",
       "      <td>-0.004220</td>\n",
       "      <td>0.003064</td>\n",
       "    </tr>\n",
       "  </tbody>\n",
       "</table>\n",
       "</div>"
      ],
      "text/plain": [
       "          age       sex       bmi        bp        s1        s2        s3  \\\n",
       "437  0.041708  0.050680  0.019662  0.059744 -0.005697 -0.002566 -0.028674   \n",
       "438 -0.005515  0.050680 -0.015906 -0.067642  0.049341  0.079165 -0.028674   \n",
       "439  0.041708  0.050680 -0.015906  0.017282 -0.037344 -0.013840 -0.024993   \n",
       "440 -0.045472 -0.044642  0.039062  0.001215  0.016318  0.015283 -0.028674   \n",
       "441 -0.045472 -0.044642 -0.073030 -0.081414  0.083740  0.027809  0.173816   \n",
       "\n",
       "           s4        s5        s6  \n",
       "437 -0.002592  0.031193  0.007207  \n",
       "438  0.034309 -0.018118  0.044485  \n",
       "439 -0.011080 -0.046879  0.015491  \n",
       "440  0.026560  0.044528 -0.025930  \n",
       "441 -0.039493 -0.004220  0.003064  "
      ]
     },
     "execution_count": 609,
     "metadata": {},
     "output_type": "execute_result"
    }
   ],
   "source": [
    "df.data.tail()"
   ]
  },
  {
   "cell_type": "code",
   "execution_count": 610,
   "id": "a534d538",
   "metadata": {},
   "outputs": [
    {
     "name": "stdout",
     "output_type": "stream",
     "text": [
      "<class 'pandas.core.frame.DataFrame'>\n",
      "RangeIndex: 442 entries, 0 to 441\n",
      "Data columns (total 10 columns):\n",
      " #   Column  Non-Null Count  Dtype  \n",
      "---  ------  --------------  -----  \n",
      " 0   age     442 non-null    float64\n",
      " 1   sex     442 non-null    float64\n",
      " 2   bmi     442 non-null    float64\n",
      " 3   bp      442 non-null    float64\n",
      " 4   s1      442 non-null    float64\n",
      " 5   s2      442 non-null    float64\n",
      " 6   s3      442 non-null    float64\n",
      " 7   s4      442 non-null    float64\n",
      " 8   s5      442 non-null    float64\n",
      " 9   s6      442 non-null    float64\n",
      "dtypes: float64(10)\n",
      "memory usage: 34.7 KB\n"
     ]
    }
   ],
   "source": [
    "df.data.info()"
   ]
  },
  {
   "cell_type": "code",
   "execution_count": 611,
   "id": "09e2930d",
   "metadata": {},
   "outputs": [
    {
     "data": {
      "text/html": [
       "<div>\n",
       "<style scoped>\n",
       "    .dataframe tbody tr th:only-of-type {\n",
       "        vertical-align: middle;\n",
       "    }\n",
       "\n",
       "    .dataframe tbody tr th {\n",
       "        vertical-align: top;\n",
       "    }\n",
       "\n",
       "    .dataframe thead th {\n",
       "        text-align: right;\n",
       "    }\n",
       "</style>\n",
       "<table border=\"1\" class=\"dataframe\">\n",
       "  <thead>\n",
       "    <tr style=\"text-align: right;\">\n",
       "      <th></th>\n",
       "      <th>age</th>\n",
       "      <th>sex</th>\n",
       "      <th>bmi</th>\n",
       "      <th>bp</th>\n",
       "      <th>s1</th>\n",
       "      <th>s2</th>\n",
       "      <th>s3</th>\n",
       "      <th>s4</th>\n",
       "      <th>s5</th>\n",
       "      <th>s6</th>\n",
       "    </tr>\n",
       "  </thead>\n",
       "  <tbody>\n",
       "    <tr>\n",
       "      <th>0</th>\n",
       "      <td>False</td>\n",
       "      <td>False</td>\n",
       "      <td>False</td>\n",
       "      <td>False</td>\n",
       "      <td>False</td>\n",
       "      <td>False</td>\n",
       "      <td>False</td>\n",
       "      <td>False</td>\n",
       "      <td>False</td>\n",
       "      <td>False</td>\n",
       "    </tr>\n",
       "    <tr>\n",
       "      <th>1</th>\n",
       "      <td>False</td>\n",
       "      <td>False</td>\n",
       "      <td>False</td>\n",
       "      <td>False</td>\n",
       "      <td>False</td>\n",
       "      <td>False</td>\n",
       "      <td>False</td>\n",
       "      <td>False</td>\n",
       "      <td>False</td>\n",
       "      <td>False</td>\n",
       "    </tr>\n",
       "    <tr>\n",
       "      <th>2</th>\n",
       "      <td>False</td>\n",
       "      <td>False</td>\n",
       "      <td>False</td>\n",
       "      <td>False</td>\n",
       "      <td>False</td>\n",
       "      <td>False</td>\n",
       "      <td>False</td>\n",
       "      <td>False</td>\n",
       "      <td>False</td>\n",
       "      <td>False</td>\n",
       "    </tr>\n",
       "    <tr>\n",
       "      <th>3</th>\n",
       "      <td>False</td>\n",
       "      <td>False</td>\n",
       "      <td>False</td>\n",
       "      <td>False</td>\n",
       "      <td>False</td>\n",
       "      <td>False</td>\n",
       "      <td>False</td>\n",
       "      <td>False</td>\n",
       "      <td>False</td>\n",
       "      <td>False</td>\n",
       "    </tr>\n",
       "    <tr>\n",
       "      <th>4</th>\n",
       "      <td>False</td>\n",
       "      <td>False</td>\n",
       "      <td>False</td>\n",
       "      <td>False</td>\n",
       "      <td>False</td>\n",
       "      <td>False</td>\n",
       "      <td>False</td>\n",
       "      <td>False</td>\n",
       "      <td>False</td>\n",
       "      <td>False</td>\n",
       "    </tr>\n",
       "    <tr>\n",
       "      <th>...</th>\n",
       "      <td>...</td>\n",
       "      <td>...</td>\n",
       "      <td>...</td>\n",
       "      <td>...</td>\n",
       "      <td>...</td>\n",
       "      <td>...</td>\n",
       "      <td>...</td>\n",
       "      <td>...</td>\n",
       "      <td>...</td>\n",
       "      <td>...</td>\n",
       "    </tr>\n",
       "    <tr>\n",
       "      <th>437</th>\n",
       "      <td>False</td>\n",
       "      <td>False</td>\n",
       "      <td>False</td>\n",
       "      <td>False</td>\n",
       "      <td>False</td>\n",
       "      <td>False</td>\n",
       "      <td>False</td>\n",
       "      <td>False</td>\n",
       "      <td>False</td>\n",
       "      <td>False</td>\n",
       "    </tr>\n",
       "    <tr>\n",
       "      <th>438</th>\n",
       "      <td>False</td>\n",
       "      <td>False</td>\n",
       "      <td>False</td>\n",
       "      <td>False</td>\n",
       "      <td>False</td>\n",
       "      <td>False</td>\n",
       "      <td>False</td>\n",
       "      <td>False</td>\n",
       "      <td>False</td>\n",
       "      <td>False</td>\n",
       "    </tr>\n",
       "    <tr>\n",
       "      <th>439</th>\n",
       "      <td>False</td>\n",
       "      <td>False</td>\n",
       "      <td>False</td>\n",
       "      <td>False</td>\n",
       "      <td>False</td>\n",
       "      <td>False</td>\n",
       "      <td>False</td>\n",
       "      <td>False</td>\n",
       "      <td>False</td>\n",
       "      <td>False</td>\n",
       "    </tr>\n",
       "    <tr>\n",
       "      <th>440</th>\n",
       "      <td>False</td>\n",
       "      <td>False</td>\n",
       "      <td>False</td>\n",
       "      <td>False</td>\n",
       "      <td>False</td>\n",
       "      <td>False</td>\n",
       "      <td>False</td>\n",
       "      <td>False</td>\n",
       "      <td>False</td>\n",
       "      <td>False</td>\n",
       "    </tr>\n",
       "    <tr>\n",
       "      <th>441</th>\n",
       "      <td>False</td>\n",
       "      <td>False</td>\n",
       "      <td>False</td>\n",
       "      <td>False</td>\n",
       "      <td>False</td>\n",
       "      <td>False</td>\n",
       "      <td>False</td>\n",
       "      <td>False</td>\n",
       "      <td>False</td>\n",
       "      <td>False</td>\n",
       "    </tr>\n",
       "  </tbody>\n",
       "</table>\n",
       "<p>442 rows × 10 columns</p>\n",
       "</div>"
      ],
      "text/plain": [
       "       age    sex    bmi     bp     s1     s2     s3     s4     s5     s6\n",
       "0    False  False  False  False  False  False  False  False  False  False\n",
       "1    False  False  False  False  False  False  False  False  False  False\n",
       "2    False  False  False  False  False  False  False  False  False  False\n",
       "3    False  False  False  False  False  False  False  False  False  False\n",
       "4    False  False  False  False  False  False  False  False  False  False\n",
       "..     ...    ...    ...    ...    ...    ...    ...    ...    ...    ...\n",
       "437  False  False  False  False  False  False  False  False  False  False\n",
       "438  False  False  False  False  False  False  False  False  False  False\n",
       "439  False  False  False  False  False  False  False  False  False  False\n",
       "440  False  False  False  False  False  False  False  False  False  False\n",
       "441  False  False  False  False  False  False  False  False  False  False\n",
       "\n",
       "[442 rows x 10 columns]"
      ]
     },
     "execution_count": 611,
     "metadata": {},
     "output_type": "execute_result"
    }
   ],
   "source": [
    "df.data.isna()"
   ]
  },
  {
   "cell_type": "code",
   "execution_count": 612,
   "id": "25491164",
   "metadata": {},
   "outputs": [
    {
     "data": {
      "text/plain": [
       "age    0\n",
       "sex    0\n",
       "bmi    0\n",
       "bp     0\n",
       "s1     0\n",
       "s2     0\n",
       "s3     0\n",
       "s4     0\n",
       "s5     0\n",
       "s6     0\n",
       "dtype: int64"
      ]
     },
     "execution_count": 612,
     "metadata": {},
     "output_type": "execute_result"
    }
   ],
   "source": [
    "df.data.isna().sum()"
   ]
  },
  {
   "cell_type": "code",
   "execution_count": 613,
   "id": "5bb7c6dc",
   "metadata": {},
   "outputs": [
    {
     "data": {
      "text/plain": [
       "age   -3.634285e-16\n",
       "sex    1.308343e-16\n",
       "bmi   -8.045349e-16\n",
       "bp     1.281655e-16\n",
       "s1    -8.835316e-17\n",
       "s2     1.327024e-16\n",
       "s3    -4.574646e-16\n",
       "s4     3.777301e-16\n",
       "s5    -3.830854e-16\n",
       "s6    -3.412882e-16\n",
       "dtype: float64"
      ]
     },
     "execution_count": 613,
     "metadata": {},
     "output_type": "execute_result"
    }
   ],
   "source": [
    "# Calculate mean of variables\n",
    "df.data.mean()"
   ]
  },
  {
   "cell_type": "code",
   "execution_count": 614,
   "id": "300c1639",
   "metadata": {},
   "outputs": [
    {
     "data": {
      "text/plain": [
       "age    0.005383\n",
       "sex   -0.044642\n",
       "bmi   -0.007284\n",
       "bp    -0.005671\n",
       "s1    -0.004321\n",
       "s2    -0.003819\n",
       "s3    -0.006584\n",
       "s4    -0.002592\n",
       "s5    -0.001948\n",
       "s6    -0.001078\n",
       "dtype: float64"
      ]
     },
     "execution_count": 614,
     "metadata": {},
     "output_type": "execute_result"
    }
   ],
   "source": [
    "# Calculate the median\n",
    "df.data.median()"
   ]
  },
  {
   "cell_type": "code",
   "execution_count": 615,
   "id": "64c30f5e",
   "metadata": {},
   "outputs": [
    {
     "data": {
      "text/html": [
       "<div>\n",
       "<style scoped>\n",
       "    .dataframe tbody tr th:only-of-type {\n",
       "        vertical-align: middle;\n",
       "    }\n",
       "\n",
       "    .dataframe tbody tr th {\n",
       "        vertical-align: top;\n",
       "    }\n",
       "\n",
       "    .dataframe thead th {\n",
       "        text-align: right;\n",
       "    }\n",
       "</style>\n",
       "<table border=\"1\" class=\"dataframe\">\n",
       "  <thead>\n",
       "    <tr style=\"text-align: right;\">\n",
       "      <th></th>\n",
       "      <th>age</th>\n",
       "      <th>sex</th>\n",
       "      <th>bmi</th>\n",
       "      <th>bp</th>\n",
       "      <th>s1</th>\n",
       "      <th>s2</th>\n",
       "      <th>s3</th>\n",
       "      <th>s4</th>\n",
       "      <th>s5</th>\n",
       "      <th>s6</th>\n",
       "    </tr>\n",
       "  </thead>\n",
       "  <tbody>\n",
       "    <tr>\n",
       "      <th>0</th>\n",
       "      <td>0.016281</td>\n",
       "      <td>-0.044642</td>\n",
       "      <td>-0.030996</td>\n",
       "      <td>-0.040099</td>\n",
       "      <td>-0.037344</td>\n",
       "      <td>-0.001001</td>\n",
       "      <td>-0.013948</td>\n",
       "      <td>-0.039493</td>\n",
       "      <td>-0.018118</td>\n",
       "      <td>0.003064</td>\n",
       "    </tr>\n",
       "    <tr>\n",
       "      <th>1</th>\n",
       "      <td>NaN</td>\n",
       "      <td>NaN</td>\n",
       "      <td>-0.024529</td>\n",
       "      <td>-0.005671</td>\n",
       "      <td>-0.007073</td>\n",
       "      <td>0.016222</td>\n",
       "      <td>NaN</td>\n",
       "      <td>NaN</td>\n",
       "      <td>NaN</td>\n",
       "      <td>NaN</td>\n",
       "    </tr>\n",
       "  </tbody>\n",
       "</table>\n",
       "</div>"
      ],
      "text/plain": [
       "        age       sex       bmi        bp        s1        s2        s3  \\\n",
       "0  0.016281 -0.044642 -0.030996 -0.040099 -0.037344 -0.001001 -0.013948   \n",
       "1       NaN       NaN -0.024529 -0.005671 -0.007073  0.016222       NaN   \n",
       "\n",
       "         s4        s5        s6  \n",
       "0 -0.039493 -0.018118  0.003064  \n",
       "1       NaN       NaN       NaN  "
      ]
     },
     "execution_count": 615,
     "metadata": {},
     "output_type": "execute_result"
    }
   ],
   "source": [
    "# Calculate the mode\n",
    "df.data.mode()"
   ]
  },
  {
   "cell_type": "code",
   "execution_count": 616,
   "id": "52d13349",
   "metadata": {},
   "outputs": [
    {
     "data": {
      "text/plain": [
       "age    0.110727\n",
       "sex    0.050680\n",
       "bmi    0.170555\n",
       "bp     0.132044\n",
       "s1     0.153914\n",
       "s2     0.198788\n",
       "s3     0.181179\n",
       "s4     0.185234\n",
       "s5     0.133599\n",
       "s6     0.135612\n",
       "dtype: float64"
      ]
     },
     "execution_count": 616,
     "metadata": {},
     "output_type": "execute_result"
    }
   ],
   "source": [
    "# Find the maximum amount in each variables\n",
    "df.data.max()"
   ]
  },
  {
   "cell_type": "code",
   "execution_count": 617,
   "id": "95bbe366",
   "metadata": {},
   "outputs": [
    {
     "data": {
      "text/plain": [
       "age   -0.107226\n",
       "sex   -0.044642\n",
       "bmi   -0.090275\n",
       "bp    -0.112400\n",
       "s1    -0.126781\n",
       "s2    -0.115613\n",
       "s3    -0.102307\n",
       "s4    -0.076395\n",
       "s5    -0.126097\n",
       "s6    -0.137767\n",
       "dtype: float64"
      ]
     },
     "execution_count": 617,
     "metadata": {},
     "output_type": "execute_result"
    }
   ],
   "source": [
    "# Find the minimum amount in each variables\n",
    "df.data.min()"
   ]
  },
  {
   "cell_type": "code",
   "execution_count": 618,
   "id": "09da2ac2",
   "metadata": {},
   "outputs": [
    {
     "ename": "AttributeError",
     "evalue": "'DataFrame' object has no attribute 'n'",
     "output_type": "error",
     "traceback": [
      "\u001b[1;31m---------------------------------------------------------------------------\u001b[0m",
      "\u001b[1;31mAttributeError\u001b[0m                            Traceback (most recent call last)",
      "\u001b[1;32mC:\\Users\\NOMOND~1\\AppData\\Local\\Temp/ipykernel_32220/4138410931.py\u001b[0m in \u001b[0;36m<module>\u001b[1;34m\u001b[0m\n\u001b[0;32m      1\u001b[0m \u001b[1;31m# Find the minimum amount in each variables\u001b[0m\u001b[1;33m\u001b[0m\u001b[1;33m\u001b[0m\u001b[0m\n\u001b[1;32m----> 2\u001b[1;33m \u001b[0mdf\u001b[0m\u001b[1;33m.\u001b[0m\u001b[0mdata\u001b[0m\u001b[1;33m.\u001b[0m\u001b[0mn\u001b[0m\u001b[1;33m(\u001b[0m\u001b[1;33m)\u001b[0m\u001b[1;33m\u001b[0m\u001b[1;33m\u001b[0m\u001b[0m\n\u001b[0m",
      "\u001b[1;32m~\\anaconda3\\lib\\site-packages\\pandas\\core\\generic.py\u001b[0m in \u001b[0;36m__getattr__\u001b[1;34m(self, name)\u001b[0m\n\u001b[0;32m   5485\u001b[0m         ):\n\u001b[0;32m   5486\u001b[0m             \u001b[1;32mreturn\u001b[0m \u001b[0mself\u001b[0m\u001b[1;33m[\u001b[0m\u001b[0mname\u001b[0m\u001b[1;33m]\u001b[0m\u001b[1;33m\u001b[0m\u001b[1;33m\u001b[0m\u001b[0m\n\u001b[1;32m-> 5487\u001b[1;33m         \u001b[1;32mreturn\u001b[0m \u001b[0mobject\u001b[0m\u001b[1;33m.\u001b[0m\u001b[0m__getattribute__\u001b[0m\u001b[1;33m(\u001b[0m\u001b[0mself\u001b[0m\u001b[1;33m,\u001b[0m \u001b[0mname\u001b[0m\u001b[1;33m)\u001b[0m\u001b[1;33m\u001b[0m\u001b[1;33m\u001b[0m\u001b[0m\n\u001b[0m\u001b[0;32m   5488\u001b[0m \u001b[1;33m\u001b[0m\u001b[0m\n\u001b[0;32m   5489\u001b[0m     \u001b[1;32mdef\u001b[0m \u001b[0m__setattr__\u001b[0m\u001b[1;33m(\u001b[0m\u001b[0mself\u001b[0m\u001b[1;33m,\u001b[0m \u001b[0mname\u001b[0m\u001b[1;33m:\u001b[0m \u001b[0mstr\u001b[0m\u001b[1;33m,\u001b[0m \u001b[0mvalue\u001b[0m\u001b[1;33m)\u001b[0m \u001b[1;33m->\u001b[0m \u001b[1;32mNone\u001b[0m\u001b[1;33m:\u001b[0m\u001b[1;33m\u001b[0m\u001b[1;33m\u001b[0m\u001b[0m\n",
      "\u001b[1;31mAttributeError\u001b[0m: 'DataFrame' object has no attribute 'n'"
     ]
    }
   ],
   "source": [
    "# Find the minimum amount in each variables\n",
    "df.data.n()"
   ]
  },
  {
   "cell_type": "code",
   "execution_count": 619,
   "id": "f373e089",
   "metadata": {},
   "outputs": [
    {
     "data": {
      "text/plain": [
       "age    0.002268\n",
       "sex    0.002268\n",
       "bmi    0.002268\n",
       "bp     0.002268\n",
       "s1     0.002268\n",
       "s2     0.002268\n",
       "s3     0.002268\n",
       "s4     0.002268\n",
       "s5     0.002268\n",
       "s6     0.002268\n",
       "dtype: float64"
      ]
     },
     "execution_count": 619,
     "metadata": {},
     "output_type": "execute_result"
    }
   ],
   "source": [
    "# Calculate the variance\n",
    "df.data.var()"
   ]
  },
  {
   "cell_type": "code",
   "execution_count": 620,
   "id": "038f95ba",
   "metadata": {},
   "outputs": [
    {
     "data": {
      "text/plain": [
       "age    0.047619\n",
       "sex    0.047619\n",
       "bmi    0.047619\n",
       "bp     0.047619\n",
       "s1     0.047619\n",
       "s2     0.047619\n",
       "s3     0.047619\n",
       "s4     0.047619\n",
       "s5     0.047619\n",
       "s6     0.047619\n",
       "dtype: float64"
      ]
     },
     "execution_count": 620,
     "metadata": {},
     "output_type": "execute_result"
    }
   ],
   "source": [
    "# Calculate the standard deviation\n",
    "df.data.std()"
   ]
  },
  {
   "cell_type": "markdown",
   "id": "f247554f",
   "metadata": {},
   "source": [
    "##### Histograms and scatter plots"
   ]
  },
  {
   "cell_type": "code",
   "execution_count": 621,
   "id": "ba5423fe",
   "metadata": {},
   "outputs": [
    {
     "data": {
      "image/png": "[encoded data removed]",
      "text/plain": [
       "<Figure size 432x288 with 1 Axes>"
      ]
     },
     "metadata": {
      "needs_background": "light"
     },
     "output_type": "display_data"
    }
   ],
   "source": [
    "# Plotting histogram of all variables in one \n",
    "colors = ((0,1,0,0.5),(0,1,0,0.25),(0,0,1,0.25),(1,0,0,0.5),(0,1,1,0.25),\n",
    "          (0,0,1,0.5),(1,0,1,0.25),(0.5,0,0,0.25),(1,1,0,0.25),(1,0,0,0.25))\n",
    "edgecolor = 0,0,0,0.25\n",
    "ax = (df.data).plot.hist(figsize=(6, 4),color = colors, edgecolor = edgecolor)\n"
   ]
  },
  {
   "cell_type": "code",
   "execution_count": 622,
   "id": "10c8265a",
   "metadata": {},
   "outputs": [
    {
     "data": {
      "image/png": "[encoded data removed]",
      "text/plain": [
       "<Figure size 1440x1080 with 12 Axes>"
      ]
     },
     "metadata": {
      "needs_background": "light"
     },
     "output_type": "display_data"
    }
   ],
   "source": [
    "# Plotting histograms\n",
    "df.data.hist(bins=50,figsize=(20,15))\n",
    "plt.show()"
   ]
  },
  {
   "cell_type": "code",
   "execution_count": 623,
   "id": "0b973088",
   "metadata": {},
   "outputs": [
    {
     "data": {
      "text/plain": [
       "<matplotlib.legend.Legend at 0x19705dd0d00>"
      ]
     },
     "execution_count": 623,
     "metadata": {},
     "output_type": "execute_result"
    },
    {
     "data": {
      "image/png": "[encoded data removed]",
      "text/plain": [
       "<Figure size 432x288 with 1 Axes>"
      ]
     },
     "metadata": {
      "needs_background": "light"
     },
     "output_type": "display_data"
    }
   ],
   "source": [
    "# Plotting histigrams of age, bp, bmi\n",
    "ax = (df.data['age']).plot.hist(figsize=(6, 4), color = (1,0,0,0.25), edgecolor = edgecolor)\n",
    "ax = (df.data['bp']).plot.hist(figsize=(6, 4), color = (0,1,0,0.25), edgecolor = edgecolor)\n",
    "ax = (df.data['bmi']).plot.hist(figsize=(6, 4), color = (0,0,.25,0.25), edgecolor = edgecolor)\n",
    "\n",
    "plt.legend()"
   ]
  },
  {
   "cell_type": "code",
   "execution_count": 624,
   "id": "d7bd5e68",
   "metadata": {},
   "outputs": [
    {
     "data": {
      "image/png": "[encoded data removed]",
      "text/plain": [
       "<Figure size 288x288 with 1 Axes>"
      ]
     },
     "metadata": {
      "needs_background": "light"
     },
     "output_type": "display_data"
    }
   ],
   "source": [
    "# Plotting scatterplot of bmi and bp\n",
    "ax = df.data.plot.scatter(x='bmi', y='bp', figsize=(4, 4), color=\"skyblue\")\n",
    "ax.set_xlabel('BMI')\n",
    "ax.set_ylabel('BP')\n",
    "ax.axhline(0, color='grey', lw=1)\n",
    "ax.axvline(0, color='grey', lw=1)\n",
    "\n",
    "plt.tight_layout()\n",
    "plt.show()"
   ]
  },
  {
   "cell_type": "markdown",
   "id": "44456b9e",
   "metadata": {},
   "source": [
    "#### Find the column in features_df that has the highest correlation coefficient with the target values in target_df"
   ]
  },
  {
   "cell_type": "code",
   "execution_count": 625,
   "id": "70f32ea7",
   "metadata": {},
   "outputs": [
    {
     "data": {
      "text/html": [
       "<style type=\"text/css\">\n",
       "#T_41949_row0_col0, #T_41949_row1_col1, #T_41949_row2_col2, #T_41949_row3_col3, #T_41949_row4_col4, #T_41949_row5_col5, #T_41949_row6_col6, #T_41949_row7_col7, #T_41949_row8_col8, #T_41949_row9_col9 {\n",
       "  background-color: #662506;\n",
       "  color: #f1f1f1;\n",
       "}\n",
       "#T_41949_row0_col1 {\n",
       "  background-color: #febb47;\n",
       "  color: #000000;\n",
       "}\n",
       "#T_41949_row0_col2 {\n",
       "  background-color: #feba46;\n",
       "  color: #000000;\n",
       "}\n",
       "#T_41949_row0_col3 {\n",
       "  background-color: #feaf3d;\n",
       "  color: #000000;\n",
       "}\n",
       "#T_41949_row0_col4, #T_41949_row1_col0 {\n",
       "  background-color: #fee697;\n",
       "  color: #000000;\n",
       "}\n",
       "#T_41949_row0_col5 {\n",
       "  background-color: #fecb5f;\n",
       "  color: #000000;\n",
       "}\n",
       "#T_41949_row0_col6, #T_41949_row2_col5, #T_41949_row3_col0 {\n",
       "  background-color: #fec24d;\n",
       "  color: #000000;\n",
       "}\n",
       "#T_41949_row0_col7, #T_41949_row7_col9 {\n",
       "  background-color: #f88b22;\n",
       "  color: #f1f1f1;\n",
       "}\n",
       "#T_41949_row0_col8 {\n",
       "  background-color: #fea030;\n",
       "  color: #000000;\n",
       "}\n",
       "#T_41949_row0_col9, #T_41949_row3_col1, #T_41949_row4_col2 {\n",
       "  background-color: #feaa38;\n",
       "  color: #000000;\n",
       "}\n",
       "#T_41949_row1_col2 {\n",
       "  background-color: #fece65;\n",
       "  color: #000000;\n",
       "}\n",
       "#T_41949_row1_col3, #T_41949_row4_col3 {\n",
       "  background-color: #fec859;\n",
       "  color: #000000;\n",
       "}\n",
       "#T_41949_row1_col4, #T_41949_row6_col0, #T_41949_row6_col1, #T_41949_row6_col2, #T_41949_row6_col3, #T_41949_row6_col5, #T_41949_row6_col7, #T_41949_row6_col8, #T_41949_row6_col9, #T_41949_row7_col6 {\n",
       "  background-color: #ffffe5;\n",
       "  color: #000000;\n",
       "}\n",
       "#T_41949_row1_col5 {\n",
       "  background-color: #fedb80;\n",
       "  color: #000000;\n",
       "}\n",
       "#T_41949_row1_col6 {\n",
       "  background-color: #feeaa1;\n",
       "  color: #000000;\n",
       "}\n",
       "#T_41949_row1_col7 {\n",
       "  background-color: #ed7316;\n",
       "  color: #f1f1f1;\n",
       "}\n",
       "#T_41949_row1_col8 {\n",
       "  background-color: #febe4a;\n",
       "  color: #000000;\n",
       "}\n",
       "#T_41949_row1_col9, #T_41949_row5_col1 {\n",
       "  background-color: #fec34f;\n",
       "  color: #000000;\n",
       "}\n",
       "#T_41949_row2_col0 {\n",
       "  background-color: #fee595;\n",
       "  color: #000000;\n",
       "}\n",
       "#T_41949_row2_col1 {\n",
       "  background-color: #fecd63;\n",
       "  color: #000000;\n",
       "}\n",
       "#T_41949_row2_col3, #T_41949_row8_col3 {\n",
       "  background-color: #fe9e2d;\n",
       "  color: #000000;\n",
       "}\n",
       "#T_41949_row2_col4 {\n",
       "  background-color: #fee89b;\n",
       "  color: #000000;\n",
       "}\n",
       "#T_41949_row2_col6, #T_41949_row3_col4 {\n",
       "  background-color: #fee99e;\n",
       "  color: #000000;\n",
       "}\n",
       "#T_41949_row2_col7 {\n",
       "  background-color: #e2650f;\n",
       "  color: #f1f1f1;\n",
       "}\n",
       "#T_41949_row2_col8 {\n",
       "  background-color: #ef7718;\n",
       "  color: #f1f1f1;\n",
       "}\n",
       "#T_41949_row2_col9, #T_41949_row3_col9 {\n",
       "  background-color: #fb9225;\n",
       "  color: #000000;\n",
       "}\n",
       "#T_41949_row3_col2 {\n",
       "  background-color: #f6861f;\n",
       "  color: #f1f1f1;\n",
       "}\n",
       "#T_41949_row3_col5 {\n",
       "  background-color: #fed26d;\n",
       "  color: #000000;\n",
       "}\n",
       "#T_41949_row3_col6, #T_41949_row8_col0 {\n",
       "  background-color: #fed16b;\n",
       "  color: #000000;\n",
       "}\n",
       "#T_41949_row3_col7, #T_41949_row7_col2 {\n",
       "  background-color: #f4811d;\n",
       "  color: #f1f1f1;\n",
       "}\n",
       "#T_41949_row3_col8 {\n",
       "  background-color: #f5841e;\n",
       "  color: #f1f1f1;\n",
       "}\n",
       "#T_41949_row4_col0, #T_41949_row5_col3, #T_41949_row5_col6 {\n",
       "  background-color: #fed471;\n",
       "  color: #000000;\n",
       "}\n",
       "#T_41949_row4_col1 {\n",
       "  background-color: #fed778;\n",
       "  color: #000000;\n",
       "}\n",
       "#T_41949_row4_col5 {\n",
       "  background-color: #892f05;\n",
       "  color: #f1f1f1;\n",
       "}\n",
       "#T_41949_row4_col6 {\n",
       "  background-color: #fea937;\n",
       "  color: #000000;\n",
       "}\n",
       "#T_41949_row4_col7 {\n",
       "  background-color: #cf5004;\n",
       "  color: #f1f1f1;\n",
       "}\n",
       "#T_41949_row4_col8 {\n",
       "  background-color: #e46710;\n",
       "  color: #f1f1f1;\n",
       "}\n",
       "#T_41949_row4_col9 {\n",
       "  background-color: #fea332;\n",
       "  color: #000000;\n",
       "}\n",
       "#T_41949_row5_col0 {\n",
       "  background-color: #fedd84;\n",
       "  color: #000000;\n",
       "}\n",
       "#T_41949_row5_col2 {\n",
       "  background-color: #fea736;\n",
       "  color: #000000;\n",
       "}\n",
       "#T_41949_row5_col4 {\n",
       "  background-color: #913204;\n",
       "  color: #f1f1f1;\n",
       "}\n",
       "#T_41949_row5_col7 {\n",
       "  background-color: #b64203;\n",
       "  color: #f1f1f1;\n",
       "}\n",
       "#T_41949_row5_col8 {\n",
       "  background-color: #fc9427;\n",
       "  color: #000000;\n",
       "}\n",
       "#T_41949_row5_col9 {\n",
       "  background-color: #fead3a;\n",
       "  color: #000000;\n",
       "}\n",
       "#T_41949_row6_col4 {\n",
       "  background-color: #fffee0;\n",
       "  color: #000000;\n",
       "}\n",
       "#T_41949_row7_col0 {\n",
       "  background-color: #fee18c;\n",
       "  color: #000000;\n",
       "}\n",
       "#T_41949_row7_col1 {\n",
       "  background-color: #fb9326;\n",
       "  color: #000000;\n",
       "}\n",
       "#T_41949_row7_col3 {\n",
       "  background-color: #fec652;\n",
       "  color: #000000;\n",
       "}\n",
       "#T_41949_row7_col4 {\n",
       "  background-color: #fa9125;\n",
       "  color: #f1f1f1;\n",
       "}\n",
       "#T_41949_row7_col5 {\n",
       "  background-color: #d45507;\n",
       "  color: #f1f1f1;\n",
       "}\n",
       "#T_41949_row7_col8 {\n",
       "  background-color: #d15205;\n",
       "  color: #f1f1f1;\n",
       "}\n",
       "#T_41949_row8_col1 {\n",
       "  background-color: #fec14c;\n",
       "  color: #000000;\n",
       "}\n",
       "#T_41949_row8_col2 {\n",
       "  background-color: #f07919;\n",
       "  color: #f1f1f1;\n",
       "}\n",
       "#T_41949_row8_col4 {\n",
       "  background-color: #fe9a2a;\n",
       "  color: #000000;\n",
       "}\n",
       "#T_41949_row8_col5 {\n",
       "  background-color: #feb13e;\n",
       "  color: #000000;\n",
       "}\n",
       "#T_41949_row8_col6 {\n",
       "  background-color: #feeca4;\n",
       "  color: #000000;\n",
       "}\n",
       "#T_41949_row8_col7 {\n",
       "  background-color: #c04602;\n",
       "  color: #f1f1f1;\n",
       "}\n",
       "#T_41949_row8_col9 {\n",
       "  background-color: #f27f1b;\n",
       "  color: #f1f1f1;\n",
       "}\n",
       "#T_41949_row9_col0 {\n",
       "  background-color: #feca5d;\n",
       "  color: #000000;\n",
       "}\n",
       "#T_41949_row9_col1 {\n",
       "  background-color: #feb23f;\n",
       "  color: #000000;\n",
       "}\n",
       "#T_41949_row9_col2 {\n",
       "  background-color: #f68820;\n",
       "  color: #f1f1f1;\n",
       "}\n",
       "#T_41949_row9_col3 {\n",
       "  background-color: #fe9f2e;\n",
       "  color: #000000;\n",
       "}\n",
       "#T_41949_row9_col4 {\n",
       "  background-color: #fed676;\n",
       "  color: #000000;\n",
       "}\n",
       "#T_41949_row9_col5 {\n",
       "  background-color: #feb945;\n",
       "  color: #000000;\n",
       "}\n",
       "#T_41949_row9_col6 {\n",
       "  background-color: #fedf88;\n",
       "  color: #000000;\n",
       "}\n",
       "#T_41949_row9_col7 {\n",
       "  background-color: #e1640e;\n",
       "  color: #f1f1f1;\n",
       "}\n",
       "#T_41949_row9_col8 {\n",
       "  background-color: #ed7215;\n",
       "  color: #f1f1f1;\n",
       "}\n",
       "</style>\n",
       "<table id=\"T_41949_\">\n",
       "  <thead>\n",
       "    <tr>\n",
       "      <th class=\"blank level0\" >&nbsp;</th>\n",
       "      <th class=\"col_heading level0 col0\" >age</th>\n",
       "      <th class=\"col_heading level0 col1\" >sex</th>\n",
       "      <th class=\"col_heading level0 col2\" >bmi</th>\n",
       "      <th class=\"col_heading level0 col3\" >bp</th>\n",
       "      <th class=\"col_heading level0 col4\" >s1</th>\n",
       "      <th class=\"col_heading level0 col5\" >s2</th>\n",
       "      <th class=\"col_heading level0 col6\" >s3</th>\n",
       "      <th class=\"col_heading level0 col7\" >s4</th>\n",
       "      <th class=\"col_heading level0 col8\" >s5</th>\n",
       "      <th class=\"col_heading level0 col9\" >s6</th>\n",
       "    </tr>\n",
       "  </thead>\n",
       "  <tbody>\n",
       "    <tr>\n",
       "      <th id=\"T_41949_level0_row0\" class=\"row_heading level0 row0\" >age</th>\n",
       "      <td id=\"T_41949_row0_col0\" class=\"data row0 col0\" >1.000000</td>\n",
       "      <td id=\"T_41949_row0_col1\" class=\"data row0 col1\" >0.173737</td>\n",
       "      <td id=\"T_41949_row0_col2\" class=\"data row0 col2\" >0.185085</td>\n",
       "      <td id=\"T_41949_row0_col3\" class=\"data row0 col3\" >0.335427</td>\n",
       "      <td id=\"T_41949_row0_col4\" class=\"data row0 col4\" >0.260061</td>\n",
       "      <td id=\"T_41949_row0_col5\" class=\"data row0 col5\" >0.219243</td>\n",
       "      <td id=\"T_41949_row0_col6\" class=\"data row0 col6\" >-0.075181</td>\n",
       "      <td id=\"T_41949_row0_col7\" class=\"data row0 col7\" >0.203841</td>\n",
       "      <td id=\"T_41949_row0_col8\" class=\"data row0 col8\" >0.270777</td>\n",
       "      <td id=\"T_41949_row0_col9\" class=\"data row0 col9\" >0.301731</td>\n",
       "    </tr>\n",
       "    <tr>\n",
       "      <th id=\"T_41949_level0_row1\" class=\"row_heading level0 row1\" >sex</th>\n",
       "      <td id=\"T_41949_row1_col0\" class=\"data row1 col0\" >0.173737</td>\n",
       "      <td id=\"T_41949_row1_col1\" class=\"data row1 col1\" >1.000000</td>\n",
       "      <td id=\"T_41949_row1_col2\" class=\"data row1 col2\" >0.088161</td>\n",
       "      <td id=\"T_41949_row1_col3\" class=\"data row1 col3\" >0.241013</td>\n",
       "      <td id=\"T_41949_row1_col4\" class=\"data row1 col4\" >0.035277</td>\n",
       "      <td id=\"T_41949_row1_col5\" class=\"data row1 col5\" >0.142637</td>\n",
       "      <td id=\"T_41949_row1_col6\" class=\"data row1 col6\" >-0.379090</td>\n",
       "      <td id=\"T_41949_row1_col7\" class=\"data row1 col7\" >0.332115</td>\n",
       "      <td id=\"T_41949_row1_col8\" class=\"data row1 col8\" >0.149918</td>\n",
       "      <td id=\"T_41949_row1_col9\" class=\"data row1 col9\" >0.208133</td>\n",
       "    </tr>\n",
       "    <tr>\n",
       "      <th id=\"T_41949_level0_row2\" class=\"row_heading level0 row2\" >bmi</th>\n",
       "      <td id=\"T_41949_row2_col0\" class=\"data row2 col0\" >0.185085</td>\n",
       "      <td id=\"T_41949_row2_col1\" class=\"data row2 col1\" >0.088161</td>\n",
       "      <td id=\"T_41949_row2_col2\" class=\"data row2 col2\" >1.000000</td>\n",
       "      <td id=\"T_41949_row2_col3\" class=\"data row2 col3\" >0.395415</td>\n",
       "      <td id=\"T_41949_row2_col4\" class=\"data row2 col4\" >0.249777</td>\n",
       "      <td id=\"T_41949_row2_col5\" class=\"data row2 col5\" >0.261170</td>\n",
       "      <td id=\"T_41949_row2_col6\" class=\"data row2 col6\" >-0.366811</td>\n",
       "      <td id=\"T_41949_row2_col7\" class=\"data row2 col7\" >0.413807</td>\n",
       "      <td id=\"T_41949_row2_col8\" class=\"data row2 col8\" >0.446159</td>\n",
       "      <td id=\"T_41949_row2_col9\" class=\"data row2 col9\" >0.388680</td>\n",
       "    </tr>\n",
       "    <tr>\n",
       "      <th id=\"T_41949_level0_row3\" class=\"row_heading level0 row3\" >bp</th>\n",
       "      <td id=\"T_41949_row3_col0\" class=\"data row3 col0\" >0.335427</td>\n",
       "      <td id=\"T_41949_row3_col1\" class=\"data row3 col1\" >0.241013</td>\n",
       "      <td id=\"T_41949_row3_col2\" class=\"data row3 col2\" >0.395415</td>\n",
       "      <td id=\"T_41949_row3_col3\" class=\"data row3 col3\" >1.000000</td>\n",
       "      <td id=\"T_41949_row3_col4\" class=\"data row3 col4\" >0.242470</td>\n",
       "      <td id=\"T_41949_row3_col5\" class=\"data row3 col5\" >0.185558</td>\n",
       "      <td id=\"T_41949_row3_col6\" class=\"data row3 col6\" >-0.178761</td>\n",
       "      <td id=\"T_41949_row3_col7\" class=\"data row3 col7\" >0.257653</td>\n",
       "      <td id=\"T_41949_row3_col8\" class=\"data row3 col8\" >0.393478</td>\n",
       "      <td id=\"T_41949_row3_col9\" class=\"data row3 col9\" >0.390429</td>\n",
       "    </tr>\n",
       "    <tr>\n",
       "      <th id=\"T_41949_level0_row4\" class=\"row_heading level0 row4\" >s1</th>\n",
       "      <td id=\"T_41949_row4_col0\" class=\"data row4 col0\" >0.260061</td>\n",
       "      <td id=\"T_41949_row4_col1\" class=\"data row4 col1\" >0.035277</td>\n",
       "      <td id=\"T_41949_row4_col2\" class=\"data row4 col2\" >0.249777</td>\n",
       "      <td id=\"T_41949_row4_col3\" class=\"data row4 col3\" >0.242470</td>\n",
       "      <td id=\"T_41949_row4_col4\" class=\"data row4 col4\" >1.000000</td>\n",
       "      <td id=\"T_41949_row4_col5\" class=\"data row4 col5\" >0.896663</td>\n",
       "      <td id=\"T_41949_row4_col6\" class=\"data row4 col6\" >0.051519</td>\n",
       "      <td id=\"T_41949_row4_col7\" class=\"data row4 col7\" >0.542207</td>\n",
       "      <td id=\"T_41949_row4_col8\" class=\"data row4 col8\" >0.515501</td>\n",
       "      <td id=\"T_41949_row4_col9\" class=\"data row4 col9\" >0.325717</td>\n",
       "    </tr>\n",
       "    <tr>\n",
       "      <th id=\"T_41949_level0_row5\" class=\"row_heading level0 row5\" >s2</th>\n",
       "      <td id=\"T_41949_row5_col0\" class=\"data row5 col0\" >0.219243</td>\n",
       "      <td id=\"T_41949_row5_col1\" class=\"data row5 col1\" >0.142637</td>\n",
       "      <td id=\"T_41949_row5_col2\" class=\"data row5 col2\" >0.261170</td>\n",
       "      <td id=\"T_41949_row5_col3\" class=\"data row5 col3\" >0.185558</td>\n",
       "      <td id=\"T_41949_row5_col4\" class=\"data row5 col4\" >0.896663</td>\n",
       "      <td id=\"T_41949_row5_col5\" class=\"data row5 col5\" >1.000000</td>\n",
       "      <td id=\"T_41949_row5_col6\" class=\"data row5 col6\" >-0.196455</td>\n",
       "      <td id=\"T_41949_row5_col7\" class=\"data row5 col7\" >0.659817</td>\n",
       "      <td id=\"T_41949_row5_col8\" class=\"data row5 col8\" >0.318353</td>\n",
       "      <td id=\"T_41949_row5_col9\" class=\"data row5 col9\" >0.290600</td>\n",
       "    </tr>\n",
       "    <tr>\n",
       "      <th id=\"T_41949_level0_row6\" class=\"row_heading level0 row6\" >s3</th>\n",
       "      <td id=\"T_41949_row6_col0\" class=\"data row6 col0\" >-0.075181</td>\n",
       "      <td id=\"T_41949_row6_col1\" class=\"data row6 col1\" >-0.379090</td>\n",
       "      <td id=\"T_41949_row6_col2\" class=\"data row6 col2\" >-0.366811</td>\n",
       "      <td id=\"T_41949_row6_col3\" class=\"data row6 col3\" >-0.178761</td>\n",
       "      <td id=\"T_41949_row6_col4\" class=\"data row6 col4\" >0.051519</td>\n",
       "      <td id=\"T_41949_row6_col5\" class=\"data row6 col5\" >-0.196455</td>\n",
       "      <td id=\"T_41949_row6_col6\" class=\"data row6 col6\" >1.000000</td>\n",
       "      <td id=\"T_41949_row6_col7\" class=\"data row6 col7\" >-0.738493</td>\n",
       "      <td id=\"T_41949_row6_col8\" class=\"data row6 col8\" >-0.398577</td>\n",
       "      <td id=\"T_41949_row6_col9\" class=\"data row6 col9\" >-0.273697</td>\n",
       "    </tr>\n",
       "    <tr>\n",
       "      <th id=\"T_41949_level0_row7\" class=\"row_heading level0 row7\" >s4</th>\n",
       "      <td id=\"T_41949_row7_col0\" class=\"data row7 col0\" >0.203841</td>\n",
       "      <td id=\"T_41949_row7_col1\" class=\"data row7 col1\" >0.332115</td>\n",
       "      <td id=\"T_41949_row7_col2\" class=\"data row7 col2\" >0.413807</td>\n",
       "      <td id=\"T_41949_row7_col3\" class=\"data row7 col3\" >0.257653</td>\n",
       "      <td id=\"T_41949_row7_col4\" class=\"data row7 col4\" >0.542207</td>\n",
       "      <td id=\"T_41949_row7_col5\" class=\"data row7 col5\" >0.659817</td>\n",
       "      <td id=\"T_41949_row7_col6\" class=\"data row7 col6\" >-0.738493</td>\n",
       "      <td id=\"T_41949_row7_col7\" class=\"data row7 col7\" >1.000000</td>\n",
       "      <td id=\"T_41949_row7_col8\" class=\"data row7 col8\" >0.617857</td>\n",
       "      <td id=\"T_41949_row7_col9\" class=\"data row7 col9\" >0.417212</td>\n",
       "    </tr>\n",
       "    <tr>\n",
       "      <th id=\"T_41949_level0_row8\" class=\"row_heading level0 row8\" >s5</th>\n",
       "      <td id=\"T_41949_row8_col0\" class=\"data row8 col0\" >0.270777</td>\n",
       "      <td id=\"T_41949_row8_col1\" class=\"data row8 col1\" >0.149918</td>\n",
       "      <td id=\"T_41949_row8_col2\" class=\"data row8 col2\" >0.446159</td>\n",
       "      <td id=\"T_41949_row8_col3\" class=\"data row8 col3\" >0.393478</td>\n",
       "      <td id=\"T_41949_row8_col4\" class=\"data row8 col4\" >0.515501</td>\n",
       "      <td id=\"T_41949_row8_col5\" class=\"data row8 col5\" >0.318353</td>\n",
       "      <td id=\"T_41949_row8_col6\" class=\"data row8 col6\" >-0.398577</td>\n",
       "      <td id=\"T_41949_row8_col7\" class=\"data row8 col7\" >0.617857</td>\n",
       "      <td id=\"T_41949_row8_col8\" class=\"data row8 col8\" >1.000000</td>\n",
       "      <td id=\"T_41949_row8_col9\" class=\"data row8 col9\" >0.464670</td>\n",
       "    </tr>\n",
       "    <tr>\n",
       "      <th id=\"T_41949_level0_row9\" class=\"row_heading level0 row9\" >s6</th>\n",
       "      <td id=\"T_41949_row9_col0\" class=\"data row9 col0\" >0.301731</td>\n",
       "      <td id=\"T_41949_row9_col1\" class=\"data row9 col1\" >0.208133</td>\n",
       "      <td id=\"T_41949_row9_col2\" class=\"data row9 col2\" >0.388680</td>\n",
       "      <td id=\"T_41949_row9_col3\" class=\"data row9 col3\" >0.390429</td>\n",
       "      <td id=\"T_41949_row9_col4\" class=\"data row9 col4\" >0.325717</td>\n",
       "      <td id=\"T_41949_row9_col5\" class=\"data row9 col5\" >0.290600</td>\n",
       "      <td id=\"T_41949_row9_col6\" class=\"data row9 col6\" >-0.273697</td>\n",
       "      <td id=\"T_41949_row9_col7\" class=\"data row9 col7\" >0.417212</td>\n",
       "      <td id=\"T_41949_row9_col8\" class=\"data row9 col8\" >0.464670</td>\n",
       "      <td id=\"T_41949_row9_col9\" class=\"data row9 col9\" >1.000000</td>\n",
       "    </tr>\n",
       "  </tbody>\n",
       "</table>\n"
      ],
      "text/plain": [
       "<pandas.io.formats.style.Styler at 0x1970828b7f0>"
      ]
     },
     "execution_count": 625,
     "metadata": {},
     "output_type": "execute_result"
    }
   ],
   "source": [
    "df.data.corr().style.background_gradient(cmap=\"YlOrBr\")\n",
    "# From the below chart, s1 and s2 are highly correlated with number of 0.896663."
   ]
  },
  {
   "cell_type": "markdown",
   "id": "229193a0",
   "metadata": {},
   "source": [
    "#### Split the data into a training set and test set\n"
   ]
  },
  {
   "cell_type": "code",
   "execution_count": 626,
   "id": "656a20f9",
   "metadata": {},
   "outputs": [],
   "source": [
    "def true_fun(X):\n",
    "    return np.cos(1.5 * np.pi * X)"
   ]
  },
  {
   "cell_type": "code",
   "execution_count": 627,
   "id": "92e179fe",
   "metadata": {},
   "outputs": [],
   "source": [
    "np.random.seed(0)"
   ]
  },
  {
   "cell_type": "code",
   "execution_count": 628,
   "id": "ddc4fab5",
   "metadata": {},
   "outputs": [],
   "source": [
    "Xactual = np.linspace(0, 1, 442)\n",
    "yactual = true_fun(Xactual)"
   ]
  },
  {
   "cell_type": "code",
   "execution_count": 629,
   "id": "5aa83f74",
   "metadata": {},
   "outputs": [],
   "source": [
    "n_samples = 50\n",
    "X = np.sort(np.random.rand(n_samples))\n",
    "y = true_fun(X) + np.random.randn(n_samples) * 0.1"
   ]
  },
  {
   "cell_type": "code",
   "execution_count": 630,
   "id": "49e8ee91",
   "metadata": {},
   "outputs": [
    {
     "data": {
      "text/plain": [
       "array([0.0187898 , 0.0202184 , 0.06022547, 0.07103606, 0.0871293 ,\n",
       "       0.11827443, 0.1289263 , 0.14335329, 0.21038256, 0.26455561,\n",
       "       0.31542835, 0.3595079 , 0.36371077, 0.38344152, 0.41466194,\n",
       "       0.4236548 , 0.43703195, 0.43758721, 0.45615033, 0.46147936,\n",
       "       0.52184832, 0.52889492, 0.54488318, 0.5488135 , 0.56804456,\n",
       "       0.56843395, 0.60276338, 0.61209572, 0.616934  , 0.6176355 ,\n",
       "       0.63992102, 0.64589411, 0.66676672, 0.67063787, 0.6818203 ,\n",
       "       0.6976312 , 0.71518937, 0.77423369, 0.77815675, 0.78052918,\n",
       "       0.79172504, 0.79915856, 0.83261985, 0.87001215, 0.891773  ,\n",
       "       0.92559664, 0.94374808, 0.94466892, 0.96366276, 0.97861834])"
      ]
     },
     "execution_count": 630,
     "metadata": {},
     "output_type": "execute_result"
    }
   ],
   "source": [
    "X"
   ]
  },
  {
   "cell_type": "code",
   "execution_count": 631,
   "id": "f59d6fdc",
   "metadata": {},
   "outputs": [],
   "source": [
    "np.random.seed(49)"
   ]
  },
  {
   "cell_type": "code",
   "execution_count": 632,
   "id": "917f469b",
   "metadata": {},
   "outputs": [],
   "source": [
    "def split_train_test(data,test_ratio):\n",
    "    shuffled_indices = np.random.permutation(len(data))\n",
    "    test_set_size = int(len(data)*test_ratio)\n",
    "    test_indices = shuffled_indices[:test_set_size]\n",
    "    train_indices = shuffled_indices[test_set_size:]\n",
    "    return data.iloc[train_indices], data.iloc[test_indices]"
   ]
  },
  {
   "cell_type": "code",
   "execution_count": 633,
   "id": "f63bccbb",
   "metadata": {},
   "outputs": [
    {
     "data": {
      "text/plain": [
       "88"
      ]
     },
     "execution_count": 633,
     "metadata": {},
     "output_type": "execute_result"
    }
   ],
   "source": [
    "train_test, test_set = split_train_test(df.data, 0.2)\n",
    "len(test_set)"
   ]
  },
  {
   "cell_type": "code",
   "execution_count": 634,
   "id": "97215ff2",
   "metadata": {},
   "outputs": [
    {
     "data": {
      "text/html": [
       "<div>\n",
       "<style scoped>\n",
       "    .dataframe tbody tr th:only-of-type {\n",
       "        vertical-align: middle;\n",
       "    }\n",
       "\n",
       "    .dataframe tbody tr th {\n",
       "        vertical-align: top;\n",
       "    }\n",
       "\n",
       "    .dataframe thead th {\n",
       "        text-align: right;\n",
       "    }\n",
       "</style>\n",
       "<table border=\"1\" class=\"dataframe\">\n",
       "  <thead>\n",
       "    <tr style=\"text-align: right;\">\n",
       "      <th></th>\n",
       "      <th>age</th>\n",
       "      <th>sex</th>\n",
       "      <th>bmi</th>\n",
       "      <th>bp</th>\n",
       "      <th>s1</th>\n",
       "      <th>s2</th>\n",
       "      <th>s3</th>\n",
       "      <th>s4</th>\n",
       "      <th>s5</th>\n",
       "      <th>s6</th>\n",
       "    </tr>\n",
       "  </thead>\n",
       "  <tbody>\n",
       "    <tr>\n",
       "      <th>421</th>\n",
       "      <td>0.038076</td>\n",
       "      <td>0.050680</td>\n",
       "      <td>0.016428</td>\n",
       "      <td>0.021872</td>\n",
       "      <td>0.039710</td>\n",
       "      <td>0.045032</td>\n",
       "      <td>-0.043401</td>\n",
       "      <td>0.071210</td>\n",
       "      <td>0.049769</td>\n",
       "      <td>0.015491</td>\n",
       "    </tr>\n",
       "    <tr>\n",
       "      <th>285</th>\n",
       "      <td>0.012648</td>\n",
       "      <td>-0.044642</td>\n",
       "      <td>-0.020218</td>\n",
       "      <td>-0.015999</td>\n",
       "      <td>0.012191</td>\n",
       "      <td>0.021233</td>\n",
       "      <td>-0.076536</td>\n",
       "      <td>0.108111</td>\n",
       "      <td>0.059881</td>\n",
       "      <td>-0.021788</td>\n",
       "    </tr>\n",
       "    <tr>\n",
       "      <th>291</th>\n",
       "      <td>0.074401</td>\n",
       "      <td>-0.044642</td>\n",
       "      <td>0.018584</td>\n",
       "      <td>0.063187</td>\n",
       "      <td>0.061725</td>\n",
       "      <td>0.042840</td>\n",
       "      <td>0.008142</td>\n",
       "      <td>-0.002592</td>\n",
       "      <td>0.058039</td>\n",
       "      <td>-0.059067</td>\n",
       "    </tr>\n",
       "    <tr>\n",
       "      <th>269</th>\n",
       "      <td>0.009016</td>\n",
       "      <td>-0.044642</td>\n",
       "      <td>-0.032073</td>\n",
       "      <td>-0.026328</td>\n",
       "      <td>0.042462</td>\n",
       "      <td>-0.010395</td>\n",
       "      <td>0.159089</td>\n",
       "      <td>-0.076395</td>\n",
       "      <td>-0.011901</td>\n",
       "      <td>-0.038357</td>\n",
       "    </tr>\n",
       "    <tr>\n",
       "      <th>366</th>\n",
       "      <td>-0.045472</td>\n",
       "      <td>0.050680</td>\n",
       "      <td>0.137143</td>\n",
       "      <td>-0.015999</td>\n",
       "      <td>0.041086</td>\n",
       "      <td>0.031880</td>\n",
       "      <td>-0.043401</td>\n",
       "      <td>0.071210</td>\n",
       "      <td>0.071022</td>\n",
       "      <td>0.048628</td>\n",
       "    </tr>\n",
       "  </tbody>\n",
       "</table>\n",
       "</div>"
      ],
      "text/plain": [
       "          age       sex       bmi        bp        s1        s2        s3  \\\n",
       "421  0.038076  0.050680  0.016428  0.021872  0.039710  0.045032 -0.043401   \n",
       "285  0.012648 -0.044642 -0.020218 -0.015999  0.012191  0.021233 -0.076536   \n",
       "291  0.074401 -0.044642  0.018584  0.063187  0.061725  0.042840  0.008142   \n",
       "269  0.009016 -0.044642 -0.032073 -0.026328  0.042462 -0.010395  0.159089   \n",
       "366 -0.045472  0.050680  0.137143 -0.015999  0.041086  0.031880 -0.043401   \n",
       "\n",
       "           s4        s5        s6  \n",
       "421  0.071210  0.049769  0.015491  \n",
       "285  0.108111  0.059881 -0.021788  \n",
       "291 -0.002592  0.058039 -0.059067  \n",
       "269 -0.076395 -0.011901 -0.038357  \n",
       "366  0.071210  0.071022  0.048628  "
      ]
     },
     "execution_count": 634,
     "metadata": {},
     "output_type": "execute_result"
    }
   ],
   "source": [
    "test_set.head()"
   ]
  },
  {
   "cell_type": "markdown",
   "id": "0d473e60",
   "metadata": {},
   "source": [
    "#### Using this feature and target, perform linear regression with sklearn's LinearRegression"
   ]
  },
  {
   "cell_type": "code",
   "execution_count": 635,
   "id": "ffba817c",
   "metadata": {},
   "outputs": [],
   "source": [
    "from sklearn.model_selection import train_test_split\n",
    "from sklearn.linear_model import LinearRegression\n",
    "from sklearn.preprocessing import StandardScaler\n",
    "\n",
    "X = df.data[['bmi']]\n",
    "y = df.data[['bp']]"
   ]
  },
  {
   "cell_type": "code",
   "execution_count": 636,
   "id": "ca992c85",
   "metadata": {},
   "outputs": [
    {
     "data": {
      "text/html": [
       "<div>\n",
       "<style scoped>\n",
       "    .dataframe tbody tr th:only-of-type {\n",
       "        vertical-align: middle;\n",
       "    }\n",
       "\n",
       "    .dataframe tbody tr th {\n",
       "        vertical-align: top;\n",
       "    }\n",
       "\n",
       "    .dataframe thead th {\n",
       "        text-align: right;\n",
       "    }\n",
       "</style>\n",
       "<table border=\"1\" class=\"dataframe\">\n",
       "  <thead>\n",
       "    <tr style=\"text-align: right;\">\n",
       "      <th></th>\n",
       "      <th>bmi</th>\n",
       "    </tr>\n",
       "  </thead>\n",
       "  <tbody>\n",
       "    <tr>\n",
       "      <th>0</th>\n",
       "      <td>0.061696</td>\n",
       "    </tr>\n",
       "    <tr>\n",
       "      <th>1</th>\n",
       "      <td>-0.051474</td>\n",
       "    </tr>\n",
       "    <tr>\n",
       "      <th>2</th>\n",
       "      <td>0.044451</td>\n",
       "    </tr>\n",
       "    <tr>\n",
       "      <th>3</th>\n",
       "      <td>-0.011595</td>\n",
       "    </tr>\n",
       "    <tr>\n",
       "      <th>4</th>\n",
       "      <td>-0.036385</td>\n",
       "    </tr>\n",
       "  </tbody>\n",
       "</table>\n",
       "</div>"
      ],
      "text/plain": [
       "        bmi\n",
       "0  0.061696\n",
       "1 -0.051474\n",
       "2  0.044451\n",
       "3 -0.011595\n",
       "4 -0.036385"
      ]
     },
     "execution_count": 636,
     "metadata": {},
     "output_type": "execute_result"
    }
   ],
   "source": [
    "X.head()"
   ]
  },
  {
   "cell_type": "code",
   "execution_count": 637,
   "id": "e10ea073",
   "metadata": {},
   "outputs": [
    {
     "data": {
      "text/html": [
       "<div>\n",
       "<style scoped>\n",
       "    .dataframe tbody tr th:only-of-type {\n",
       "        vertical-align: middle;\n",
       "    }\n",
       "\n",
       "    .dataframe tbody tr th {\n",
       "        vertical-align: top;\n",
       "    }\n",
       "\n",
       "    .dataframe thead th {\n",
       "        text-align: right;\n",
       "    }\n",
       "</style>\n",
       "<table border=\"1\" class=\"dataframe\">\n",
       "  <thead>\n",
       "    <tr style=\"text-align: right;\">\n",
       "      <th></th>\n",
       "      <th>bp</th>\n",
       "    </tr>\n",
       "  </thead>\n",
       "  <tbody>\n",
       "    <tr>\n",
       "      <th>0</th>\n",
       "      <td>0.021872</td>\n",
       "    </tr>\n",
       "    <tr>\n",
       "      <th>1</th>\n",
       "      <td>-0.026328</td>\n",
       "    </tr>\n",
       "    <tr>\n",
       "      <th>2</th>\n",
       "      <td>-0.005671</td>\n",
       "    </tr>\n",
       "    <tr>\n",
       "      <th>3</th>\n",
       "      <td>-0.036656</td>\n",
       "    </tr>\n",
       "    <tr>\n",
       "      <th>4</th>\n",
       "      <td>0.021872</td>\n",
       "    </tr>\n",
       "  </tbody>\n",
       "</table>\n",
       "</div>"
      ],
      "text/plain": [
       "         bp\n",
       "0  0.021872\n",
       "1 -0.026328\n",
       "2 -0.005671\n",
       "3 -0.036656\n",
       "4  0.021872"
      ]
     },
     "execution_count": 637,
     "metadata": {},
     "output_type": "execute_result"
    }
   ],
   "source": [
    "y.head()"
   ]
  },
  {
   "cell_type": "code",
   "execution_count": 638,
   "id": "8d575bbf",
   "metadata": {},
   "outputs": [],
   "source": [
    "X_train, X_test, y_train, y_test = train_test_split(X, y, test_size =.2)"
   ]
  },
  {
   "cell_type": "code",
   "execution_count": 639,
   "id": "1403b52a",
   "metadata": {},
   "outputs": [],
   "source": [
    "scaler = StandardScaler()"
   ]
  },
  {
   "cell_type": "code",
   "execution_count": 640,
   "id": "ec6fde4e",
   "metadata": {},
   "outputs": [],
   "source": [
    "X_train = scaler.fit_transform(X_train)"
   ]
  },
  {
   "cell_type": "code",
   "execution_count": 641,
   "id": "f64641c8",
   "metadata": {},
   "outputs": [],
   "source": [
    "X_test = scaler.transform(X_test)"
   ]
  },
  {
   "cell_type": "code",
   "execution_count": 642,
   "id": "89339a4c",
   "metadata": {},
   "outputs": [],
   "source": [
    "linear_regression = LinearRegression()\n",
    "model = linear_regression.fit(X_train, y_train)"
   ]
  },
  {
   "cell_type": "code",
   "execution_count": 643,
   "id": "17b774d6",
   "metadata": {},
   "outputs": [],
   "source": [
    "y_pred = model.predict(X_test)"
   ]
  },
  {
   "cell_type": "code",
   "execution_count": 649,
   "id": "312e21ab",
   "metadata": {},
   "outputs": [
    {
     "data": {
      "text/plain": [
       "[<matplotlib.lines.Line2D at 0x1970604fa30>]"
      ]
     },
     "execution_count": 649,
     "metadata": {},
     "output_type": "execute_result"
    },
    {
     "data": {
      "image/png": "[encoded data removed]",
      "text/plain": [
       "<Figure size 432x288 with 1 Axes>"
      ]
     },
     "metadata": {
      "needs_background": "light"
     },
     "output_type": "display_data"
    }
   ],
   "source": [
    "plt.scatter(X_test, y_test)\n",
    "plt.plot(X_test, y_pred, c='r')"
   ]
  },
  {
   "cell_type": "code",
   "execution_count": 593,
   "id": "1c75f547",
   "metadata": {},
   "outputs": [
    {
     "name": "stdout",
     "output_type": "stream",
     "text": [
      "Training score :  0.1638597509212153\n"
     ]
    }
   ],
   "source": [
    "print(\"Training score : \", linear_regression.score(X_train, y_train))"
   ]
  },
  {
   "cell_type": "markdown",
   "id": "dbc501cb",
   "metadata": {},
   "source": [
    "#### Print the coefficients of the model"
   ]
  },
  {
   "cell_type": "code",
   "execution_count": 678,
   "id": "12048768",
   "metadata": {},
   "outputs": [],
   "source": [
    "lindf = pd.DataFrame(X)"
   ]
  },
  {
   "cell_type": "code",
   "execution_count": 679,
   "id": "39f839ed",
   "metadata": {},
   "outputs": [],
   "source": [
    "reg = LinearRegression().fit(lindf, y)"
   ]
  },
  {
   "cell_type": "code",
   "execution_count": 680,
   "id": "333fa776",
   "metadata": {},
   "outputs": [
    {
     "name": "stdout",
     "output_type": "stream",
     "text": [
      "[[0.39541532]]\n"
     ]
    }
   ],
   "source": [
    "print(reg.coef_)"
   ]
  },
  {
   "cell_type": "code",
   "execution_count": 681,
   "id": "0b4e84c7",
   "metadata": {},
   "outputs": [
    {
     "data": {
      "text/plain": [
       "array([4.45865713e-16])"
      ]
     },
     "execution_count": 681,
     "metadata": {},
     "output_type": "execute_result"
    }
   ],
   "source": [
    "reg.intercept_"
   ]
  },
  {
   "cell_type": "markdown",
   "id": "a3e97e3a",
   "metadata": {},
   "source": [
    "#### Plot the linear fit together with the training data"
   ]
  },
  {
   "cell_type": "code",
   "execution_count": 682,
   "id": "f0a65259",
   "metadata": {},
   "outputs": [],
   "source": [
    "ytrain = reg.intercept_ + reg.coef_ * x"
   ]
  },
  {
   "cell_type": "code",
   "execution_count": 683,
   "id": "01383a4c",
   "metadata": {},
   "outputs": [
    {
     "data": {
      "image/png": "[encoded data removed]",
      "text/plain": [
       "<Figure size 432x288 with 1 Axes>"
      ]
     },
     "metadata": {
      "needs_background": "light"
     },
     "output_type": "display_data"
    }
   ],
   "source": [
    "plt.plot(x,y,'ro',x,ytrain,'b-');"
   ]
  },
  {
   "cell_type": "markdown",
   "id": "c8ec102f",
   "metadata": {},
   "source": [
    "#### Use the model to generate predictions on the test data and then compare against the actual target values by calculating the mean squared error and R-squared values."
   ]
  },
  {
   "cell_type": "code",
   "execution_count": 724,
   "id": "3ac5a26b",
   "metadata": {},
   "outputs": [
    {
     "data": {
      "text/plain": [
       "0.8040044599094561"
      ]
     },
     "execution_count": 724,
     "metadata": {},
     "output_type": "execute_result"
    }
   ],
   "source": [
    "from sklearn.metrics import mean_squared_error, r2_score\n",
    "reg.score(lindf, y)"
   ]
  },
  {
   "cell_type": "code",
   "execution_count": 725,
   "id": "00825129",
   "metadata": {},
   "outputs": [
    {
     "data": {
      "text/plain": [
       "0.0010118659125248743"
      ]
     },
     "execution_count": 725,
     "metadata": {},
     "output_type": "execute_result"
    }
   ],
   "source": [
    "mean_squared_error(y, ytrain)"
   ]
  },
  {
   "cell_type": "code",
   "execution_count": 726,
   "id": "893d3490",
   "metadata": {},
   "outputs": [
    {
     "data": {
      "text/plain": [
       "0.5527552666639988"
      ]
     },
     "execution_count": 726,
     "metadata": {},
     "output_type": "execute_result"
    }
   ],
   "source": [
    "r2_score(y, ytrain)"
   ]
  },
  {
   "cell_type": "code",
   "execution_count": 727,
   "id": "7140dbc4",
   "metadata": {},
   "outputs": [],
   "source": [
    "lindf2 = pd.DataFrame(x2)"
   ]
  },
  {
   "cell_type": "code",
   "execution_count": 728,
   "id": "e2810d44",
   "metadata": {},
   "outputs": [],
   "source": [
    "ytest = 5 + 0.5* x2 + np.random.normal(0, 5, len(x2))"
   ]
  },
  {
   "cell_type": "code",
   "execution_count": 723,
   "id": "c696f827",
   "metadata": {},
   "outputs": [
    {
     "data": {
      "image/png": "[encoded data removed]",
      "text/plain": [
       "<Figure size 432x288 with 1 Axes>"
      ]
     },
     "metadata": {
      "needs_background": "light"
     },
     "output_type": "display_data"
    }
   ],
   "source": [
    "plt.plot(x,ytrain,'b-',x2,ytest,'g^');"
   ]
  },
  {
   "cell_type": "markdown",
   "id": "2230d445",
   "metadata": {},
   "source": [
    "#### Try doing linear regression with other variables and/or multiple variables and comment on how each choice changes the mean squared error and R-squared values."
   ]
  },
  {
   "cell_type": "code",
   "execution_count": 709,
   "id": "0b889867",
   "metadata": {},
   "outputs": [],
   "source": [
    "from sklearn.model_selection import train_test_split\n",
    "from sklearn.linear_model import LinearRegression\n",
    "from sklearn.preprocessing import StandardScaler\n",
    "\n",
    "x = df.data[['s1']]\n",
    "y = df.data[['s2']]"
   ]
  },
  {
   "cell_type": "code",
   "execution_count": 710,
   "id": "92ef081c",
   "metadata": {},
   "outputs": [],
   "source": [
    "lindf = pd.DataFrame(x)"
   ]
  },
  {
   "cell_type": "code",
   "execution_count": 711,
   "id": "52755938",
   "metadata": {},
   "outputs": [],
   "source": [
    "reg = LinearRegression().fit(lindf, y)"
   ]
  },
  {
   "cell_type": "code",
   "execution_count": 712,
   "id": "5859cd21",
   "metadata": {},
   "outputs": [
    {
     "name": "stdout",
     "output_type": "stream",
     "text": [
      "[[0.89666296]]\n"
     ]
    }
   ],
   "source": [
    "print(reg.coef_)"
   ]
  },
  {
   "cell_type": "code",
   "execution_count": 713,
   "id": "8e5345af",
   "metadata": {},
   "outputs": [
    {
     "data": {
      "image/png": "[encoded data removed]",
      "text/plain": [
       "<Figure size 432x288 with 1 Axes>"
      ]
     },
     "metadata": {
      "needs_background": "light"
     },
     "output_type": "display_data"
    }
   ],
   "source": [
    "plt.plot(x,ytrain,'b-',x2,ytest,'g^');"
   ]
  },
  {
   "cell_type": "code",
   "execution_count": 715,
   "id": "d3c15e31",
   "metadata": {},
   "outputs": [
    {
     "data": {
      "text/plain": [
       "array([2.11193221e-16])"
      ]
     },
     "execution_count": 715,
     "metadata": {},
     "output_type": "execute_result"
    }
   ],
   "source": [
    "reg.intercept_"
   ]
  },
  {
   "cell_type": "markdown",
   "id": "9003b7c3",
   "metadata": {},
   "source": [
    "#### Try at least one other regression algorithm as well "
   ]
  },
  {
   "cell_type": "code",
   "execution_count": 736,
   "id": "aa98ae9f",
   "metadata": {},
   "outputs": [],
   "source": [
    "X = features_df  # we only take the first two features.\n",
    "Y = target_df"
   ]
  },
  {
   "cell_type": "code",
   "execution_count": 737,
   "id": "bfc10cea",
   "metadata": {},
   "outputs": [],
   "source": [
    "from sklearn.linear_model import LogisticRegression\n",
    "logreg = LogisticRegression()"
   ]
  },
  {
   "cell_type": "code",
   "execution_count": 742,
   "id": "f0d6451c",
   "metadata": {},
   "outputs": [
    {
     "data": {
      "text/plain": [
       "LogisticRegression()"
      ]
     },
     "execution_count": 742,
     "metadata": {},
     "output_type": "execute_result"
    }
   ],
   "source": [
    "logreg.fit(X, Y)"
   ]
  },
  {
   "cell_type": "markdown",
   "id": "65a02fbd",
   "metadata": {},
   "source": [
    "# Clustering"
   ]
  },
  {
   "cell_type": "code",
   "execution_count": 743,
   "id": "4cd76c3d",
   "metadata": {},
   "outputs": [],
   "source": [
    "from sklearn.datasets import make_blobs\n",
    "X, y = make_blobs(n_samples=300, centers=4, cluster_std=0.60, random_state=0)\n",
    "df = pd.DataFrame(X, columns=['x1','x2'])"
   ]
  },
  {
   "cell_type": "markdown",
   "id": "87d7f783",
   "metadata": {},
   "source": [
    "#### Generate a scatter plot of the data to view the points"
   ]
  },
  {
   "cell_type": "code",
   "execution_count": 744,
   "id": "ba2d93b8",
   "metadata": {},
   "outputs": [
    {
     "data": {
      "image/png": "[encoded data removed]",
      "text/plain": [
       "<Figure size 432x288 with 1 Axes>"
      ]
     },
     "metadata": {
      "needs_background": "light"
     },
     "output_type": "display_data"
    }
   ],
   "source": [
    "sns.scatterplot(x=X[:,0],y=X[:,1],hue=y,palette='rainbow');"
   ]
  },
  {
   "cell_type": "markdown",
   "id": "a6efdefc",
   "metadata": {},
   "source": [
    "#### Use sklearn's KMeans to identify 4 clusters"
   ]
  },
  {
   "cell_type": "code",
   "execution_count": 750,
   "id": "62e97c46",
   "metadata": {},
   "outputs": [],
   "source": [
    "kmeans = KMeans(n_clusters=4)"
   ]
  },
  {
   "cell_type": "code",
   "execution_count": 751,
   "id": "1e79a1e4",
   "metadata": {},
   "outputs": [
    {
     "data": {
      "text/plain": [
       "KMeans(n_clusters=4)"
      ]
     },
     "execution_count": 751,
     "metadata": {},
     "output_type": "execute_result"
    }
   ],
   "source": [
    "kmeans.fit(X)"
   ]
  },
  {
   "cell_type": "code",
   "execution_count": 752,
   "id": "306c6e0d",
   "metadata": {},
   "outputs": [
    {
     "data": {
      "text/plain": [
       "array([1, 2, 3, 2, 1, 1, 0, 3, 2, 2, 0, 2, 3, 2, 1, 3, 3, 1, 0, 0, 1, 1,\n",
       "       3, 0, 0, 3, 1, 3, 0, 3, 2, 2, 3, 2, 2, 2, 2, 2, 0, 1, 3, 0, 3, 3,\n",
       "       0, 0, 2, 0, 2, 1, 0, 1, 2, 1, 1, 0, 2, 0, 2, 1, 2, 3, 2, 0, 0, 0,\n",
       "       2, 1, 2, 0, 3, 0, 2, 0, 0, 2, 0, 3, 1, 2, 1, 3, 1, 1, 2, 3, 1, 3,\n",
       "       2, 2, 3, 1, 2, 0, 0, 3, 1, 1, 3, 0, 2, 1, 2, 1, 3, 1, 1, 3, 2, 3,\n",
       "       0, 0, 1, 2, 1, 3, 2, 1, 1, 3, 0, 1, 0, 1, 1, 1, 1, 0, 1, 0, 2, 0,\n",
       "       0, 1, 2, 0, 0, 2, 3, 2, 2, 0, 3, 0, 3, 0, 2, 3, 2, 2, 2, 3, 2, 3,\n",
       "       1, 0, 2, 0, 1, 3, 2, 3, 3, 1, 3, 0, 0, 3, 1, 3, 3, 2, 1, 3, 0, 2,\n",
       "       1, 1, 3, 0, 1, 3, 0, 0, 3, 3, 3, 3, 1, 2, 3, 0, 3, 3, 0, 0, 0, 3,\n",
       "       0, 2, 3, 0, 1, 0, 3, 2, 0, 2, 3, 2, 3, 0, 3, 3, 2, 0, 0, 1, 1, 3,\n",
       "       2, 1, 1, 0, 1, 0, 3, 2, 2, 3, 3, 2, 3, 1, 0, 3, 1, 0, 2, 0, 1, 3,\n",
       "       1, 2, 2, 2, 2, 0, 0, 2, 3, 0, 1, 3, 0, 0, 0, 1, 1, 2, 3, 3, 0, 1,\n",
       "       2, 0, 3, 2, 3, 1, 1, 0, 0, 3, 1, 1, 1, 3, 2, 2, 1, 1, 3, 1, 1, 1,\n",
       "       2, 0, 2, 3, 1, 1, 2, 2, 2, 1, 1, 3, 2, 0])"
      ]
     },
     "execution_count": 752,
     "metadata": {},
     "output_type": "execute_result"
    }
   ],
   "source": [
    "kmeans.labels_"
   ]
  },
  {
   "cell_type": "code",
   "execution_count": 753,
   "id": "db2233c9",
   "metadata": {},
   "outputs": [
    {
     "data": {
      "image/png": "[encoded data removed]",
      "text/plain": [
       "<Figure size 432x288 with 1 Axes>"
      ]
     },
     "metadata": {
      "needs_background": "light"
     },
     "output_type": "display_data"
    }
   ],
   "source": [
    "sns.scatterplot(x=X[:,0],\n",
    "                y=X[:,1],\n",
    "                hue=kmeans.labels_,\n",
    "                palette='rainbow');"
   ]
  },
  {
   "cell_type": "markdown",
   "id": "f1007fe9",
   "metadata": {},
   "source": [
    "#### Generate another scatter plot of the data with the points colored by cluster to see how the algorithm fared"
   ]
  },
  {
   "cell_type": "code",
   "execution_count": 763,
   "id": "36e5d359",
   "metadata": {},
   "outputs": [
    {
     "data": {
      "application/vnd.jupyter.widget-view+json": {
       "model_id": "122c9a7d79d14480ae099387e44dbc7c",
       "version_major": 2,
       "version_minor": 0
      },
      "text/plain": [
       "interactive(children=(IntSlider(value=4, description='n_clusters', max=50, min=1), Output()), _dom_classes=('w…"
      ]
     },
     "metadata": {},
     "output_type": "display_data"
    }
   ],
   "source": [
    "def kmeans_make_blobs(n_clusters=4):\n",
    "    kmeans = KMeans(n_clusters)\n",
    "    kmeans.fit(X)\n",
    "    sns.scatterplot(x=X[:,0],\n",
    "                    y=X[:,1],\n",
    "                    hue=kmeans.labels_,\n",
    "                    palette='rainbow')\n",
    "ipywidgets.interact(kmeans_make_blobs,n_clusters=(1,50));"
   ]
  },
  {
   "cell_type": "markdown",
   "id": "823e0fcf",
   "metadata": {},
   "source": [
    "#### Repeat with different parameter values in the call to KMeans, as well as for different parameters in the initial \"blob\"-formation with make_blobs, to see where KMeans does a good job and where it doesn't"
   ]
  },
  {
   "cell_type": "code",
   "execution_count": 757,
   "id": "db0185d4",
   "metadata": {},
   "outputs": [
    {
     "data": {
      "text/plain": [
       "array([[-1.58438467,  2.83081263],\n",
       "       [ 1.98258281,  0.86771314],\n",
       "       [-1.37324398,  7.75368871],\n",
       "       [ 0.94973532,  4.41906906]])"
      ]
     },
     "execution_count": 757,
     "metadata": {},
     "output_type": "execute_result"
    }
   ],
   "source": [
    "kmeans.cluster_centers_"
   ]
  },
  {
   "cell_type": "code",
   "execution_count": 758,
   "id": "2bd8ab68",
   "metadata": {},
   "outputs": [
    {
     "data": {
      "text/plain": [
       "array([-1.58438467,  1.98258281, -1.37324398,  0.94973532])"
      ]
     },
     "execution_count": 758,
     "metadata": {},
     "output_type": "execute_result"
    }
   ],
   "source": [
    "kmeans.cluster_centers_[:,0]"
   ]
  },
  {
   "cell_type": "code",
   "execution_count": 767,
   "id": "f947a517",
   "metadata": {},
   "outputs": [
    {
     "data": {
      "text/plain": [
       "<function sklearn.datasets._samples_generator.make_blobs(n_samples=100, n_features=2, *, centers=None, cluster_std=1.0, center_box=(-10.0, 10.0), shuffle=True, random_state=None, return_centers=False)>"
      ]
     },
     "execution_count": 767,
     "metadata": {},
     "output_type": "execute_result"
    }
   ],
   "source": [
    "make_blobs"
   ]
  },
  {
   "cell_type": "code",
   "execution_count": 765,
   "id": "820a401d",
   "metadata": {},
   "outputs": [
    {
     "ename": "AttributeError",
     "evalue": "'function' object has no attribute 'append'",
     "output_type": "error",
     "traceback": [
      "\u001b[1;31m---------------------------------------------------------------------------\u001b[0m",
      "\u001b[1;31mAttributeError\u001b[0m                            Traceback (most recent call last)",
      "\u001b[1;32mC:\\Users\\NOMOND~1\\AppData\\Local\\Temp/ipykernel_32220/1373276106.py\u001b[0m in \u001b[0;36m<module>\u001b[1;34m\u001b[0m\n\u001b[1;32m----> 1\u001b[1;33m \u001b[0mmake_blobs\u001b[0m\u001b[1;33m.\u001b[0m\u001b[0mappend\u001b[0m\u001b[1;33m(\u001b[0m\u001b[0mpd\u001b[0m\u001b[1;33m.\u001b[0m\u001b[0mDataFrame\u001b[0m\u001b[1;33m(\u001b[0m\u001b[0mkmeans\u001b[0m\u001b[1;33m.\u001b[0m\u001b[0mcluster_centers_\u001b[0m\u001b[1;33m,\u001b[0m\u001b[0mcolumns\u001b[0m\u001b[1;33m=\u001b[0m\u001b[0mmake_blobs\u001b[0m\u001b[1;33m.\u001b[0m\u001b[0mcolumns\u001b[0m\u001b[1;33m)\u001b[0m\u001b[1;33m,\u001b[0m\u001b[0mignore_index\u001b[0m\u001b[1;33m=\u001b[0m\u001b[1;32mTrue\u001b[0m\u001b[1;33m)\u001b[0m\u001b[1;33m\u001b[0m\u001b[1;33m\u001b[0m\u001b[0m\n\u001b[0m",
      "\u001b[1;31mAttributeError\u001b[0m: 'function' object has no attribute 'append'"
     ]
    }
   ],
   "source": [
    "make_blobs.append(pd.DataFrame(kmeans.cluster_centers_,columns=make_blobs.columns),ignore_index=True)"
   ]
  },
  {
   "cell_type": "code",
   "execution_count": 769,
   "id": "40e4dfba",
   "metadata": {},
   "outputs": [
    {
     "data": {
      "application/vnd.jupyter.widget-view+json": {
       "model_id": "38ff6bd5a2944349832e58c8df14da19",
       "version_major": 2,
       "version_minor": 0
      },
      "text/plain": [
       "interactive(children=(IntSlider(value=3, description='n_clusters', max=10, min=1), Output()), _dom_classes=('w…"
      ]
     },
     "metadata": {},
     "output_type": "display_data"
    }
   ],
   "source": [
    "def kmeans_make_blobs(n_clusters=3):\n",
    "    kmeans = KMeans(n_clusters, n_init=50)\n",
    "    kmeans.fit(make_blobs)\n",
    "    fig = px.scatter_3d(make_blobs.append(pd.DataFrame(kmeans.cluster_centers_,columns=make_blobs.columns),ignore_index=True),\n",
    "                        x='sepal width (cm)',\n",
    "                        y='petal length (cm)',\n",
    "                        z='petal width (cm)',\n",
    "                        color=list(kmeans.labels_)+[max(kmeans.labels_)+1]*n_clusters,\n",
    "                        size=list(kmeans.labels_+10)+[max(kmeans.labels_+10)*3]*n_clusters,\n",
    "                       color_continuous_scale='jet')\n",
    "    fig.show()\n",
    "\n",
    "ipywidgets.interact(kmeans_make_blobs,n_clusters=(1,10));"
   ]
  },
  {
   "cell_type": "code",
   "execution_count": null,
   "id": "adfd4d4b",
   "metadata": {},
   "outputs": [],
   "source": []
  }
 ],
 "metadata": {
  "kernelspec": {
   "display_name": "Python 3 (ipykernel)",
   "language": "python",
   "name": "python3"
  },
  "language_info": {
   "codemirror_mode": {
    "name": "ipython",
    "version": 3
   },
   "file_extension": ".py",
   "mimetype": "text/x-python",
   "name": "python",
   "nbconvert_exporter": "python",
   "pygments_lexer": "ipython3",
   "version": "3.9.7"
  }
 },
 "nbformat": 4,
 "nbformat_minor": 5
}
